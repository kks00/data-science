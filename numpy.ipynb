{
 "cells": [
  {
   "cell_type": "code",
   "execution_count": 1,
   "id": "8fbc5f9d-5a35-4c25-a4bd-1c8f7d40b286",
   "metadata": {},
   "outputs": [],
   "source": [
    "import numpy as np"
   ]
  },
  {
   "cell_type": "markdown",
   "id": "8544fbc8-f327-4805-82de-71558e01c083",
   "metadata": {},
   "source": [
    "---"
   ]
  },
  {
   "cell_type": "markdown",
   "id": "2b07891f-3559-4d5e-811f-87c80552b832",
   "metadata": {},
   "source": [
    "- ## numpy.linspace\n",
    "    - #### (start, stop, num, endpoint)\n",
    "        - #### endpoint = True(default)\n",
    "            - #### num - 1 등분하고, stop포인트 포함\n",
    "         \n",
    "        - #### endpoint = False\n",
    "            - #### num 등분하고, stop포인트 미포함"
   ]
  },
  {
   "cell_type": "markdown",
   "id": "e1837503-dffd-4e4a-9580-cf24a779e72a",
   "metadata": {},
   "source": [
    "- #### endpoint = True이므로 9를 4등분하고 시작점, 마지막점 포함\n",
    "    - #### 9 / 4 = 2.25"
   ]
  },
  {
   "cell_type": "code",
   "execution_count": 2,
   "id": "ebe94c9d-ca9e-4e8c-825b-a899c2467d66",
   "metadata": {},
   "outputs": [
    {
     "data": {
      "text/plain": [
       "array([ 1.  ,  3.25,  5.5 ,  7.75, 10.  ])"
      ]
     },
     "execution_count": 2,
     "metadata": {},
     "output_type": "execute_result"
    }
   ],
   "source": [
    "np.linspace(1, 10, 5)"
   ]
  },
  {
   "cell_type": "markdown",
   "id": "e428e8fd-9cf4-4545-a895-697e49d50bdb",
   "metadata": {},
   "source": [
    "- #### endpoint = False 이므로 9를 5등분, 마지막점 미포함"
   ]
  },
  {
   "cell_type": "code",
   "execution_count": 3,
   "id": "aaaf492e-b507-4a5e-bf9e-06b7f67d7faf",
   "metadata": {},
   "outputs": [
    {
     "data": {
      "text/plain": [
       "array([1. , 2.8, 4.6, 6.4, 8.2])"
      ]
     },
     "execution_count": 3,
     "metadata": {},
     "output_type": "execute_result"
    }
   ],
   "source": [
    "np.linspace(1, 10, 5, endpoint=False)"
   ]
  },
  {
   "cell_type": "markdown",
   "id": "f4c606c1-9ae7-4349-b3cc-63b00ba10086",
   "metadata": {},
   "source": [
    "---"
   ]
  },
  {
   "cell_type": "markdown",
   "id": "c8d55a13-f156-47cc-a371-6e55c3d49c56",
   "metadata": {},
   "source": [
    "## 난수기반 배열생성"
   ]
  },
  {
   "cell_type": "markdown",
   "id": "4390d573-92ce-4267-8b99-d33d0822647f",
   "metadata": {},
   "source": [
    "- ### 표준 정규분포\n",
    "    - #### 평균이 0, 표준편차가 1인 정규 분포\n",
    "    - #### numpy.random.randn(n)\n",
    "        - #### n개의 표준 정규분포 생성\n",
    "\n",
    "<br>\n",
    "\n",
    "- #### 평균 m, 표준편차 sigma인 12개의 난수\n"
   ]
  },
  {
   "cell_type": "code",
   "execution_count": 6,
   "id": "fcf600b7-f5f0-4a09-b7b3-e01838e13011",
   "metadata": {},
   "outputs": [
    {
     "name": "stdout",
     "output_type": "stream",
     "text": [
      "[ 0.10431022 -0.18619609 -0.28497543 -1.50588638 -0.43534638 -1.17087158\n",
      " -1.19307596  2.12776248 -1.18341467 -1.89219858  0.50327707  0.81918848]\n"
     ]
    },
    {
     "data": {
      "text/plain": [
       "array([188.01369631, 170.16207264, 172.24584071, 172.91741903,\n",
       "       181.22867893, 177.44185599, 172.27503055, 169.54776559,\n",
       "       183.66148076, 189.50358717, 166.0276891 , 189.23825034])"
      ]
     },
     "execution_count": 6,
     "metadata": {},
     "output_type": "execute_result"
    }
   ],
   "source": [
    "m = 175\n",
    "sigma = 10\n",
    "\n",
    "print(np.random.randn(12))\n",
    "\n",
    "heights = m + sigma * np.random.randn(12)\n",
    "heights"
   ]
  },
  {
   "cell_type": "markdown",
   "id": "61643d51-5073-460e-b299-bf9fde7452bb",
   "metadata": {},
   "source": [
    "- ### 정규분포 함수\n",
    "    - ### np.random.normal(loc, scale, size)\n",
    "        - #### loc: 평균\n",
    "        - #### scale: 표준 편차\n",
    "        - #### size: 데이터 개수"
   ]
  },
  {
   "cell_type": "code",
   "execution_count": 8,
   "id": "e34831dd-0585-4ef0-b63a-50fcd0b7ffc5",
   "metadata": {},
   "outputs": [
    {
     "data": {
      "text/plain": [
       "array([183.43387609, 161.05663657, 167.61299284, 169.86657979,\n",
       "       187.42082109, 164.88395787, 159.10616394, 166.88890886,\n",
       "       182.05467293, 182.94432651, 178.50717934, 185.4426442 ])"
      ]
     },
     "execution_count": 8,
     "metadata": {},
     "output_type": "execute_result"
    }
   ],
   "source": [
    "np.random.normal(loc=175, scale=10, size=12)"
   ]
  },
  {
   "cell_type": "markdown",
   "id": "bf80ad49-b7a3-4fa0-ae49-140c43427e48",
   "metadata": {},
   "source": [
    "---"
   ]
  },
  {
   "cell_type": "markdown",
   "id": "bffac2fd-f4a6-45d5-b3fe-6087dc65d2ee",
   "metadata": {},
   "source": [
    "- ### numpy.append(arr, values, axis=None)\n",
    "\n",
    "<br>\n",
    "\n",
    "> #### axis = None이면 펼쳐서 끝에 추가"
   ]
  },
  {
   "cell_type": "code",
   "execution_count": 17,
   "id": "f2ab16c3-4d81-4812-ae06-98f3c7bc6f72",
   "metadata": {},
   "outputs": [
    {
     "data": {
      "text/plain": [
       "array([1, 2, 3, 4, 5, 6, 7, 8, 9])"
      ]
     },
     "execution_count": 17,
     "metadata": {},
     "output_type": "execute_result"
    }
   ],
   "source": [
    "arr = np.array([[1, 2, 3], [4, 5, 6]])\n",
    "\n",
    "np.append(arr, [[7, 8, 9]])"
   ]
  },
  {
   "cell_type": "markdown",
   "id": "812c214a-a7ca-491d-a4d3-0ecf5f3eee03",
   "metadata": {},
   "source": [
    "> #### 축 지정할 시 지정한 축 끝에 추가"
   ]
  },
  {
   "cell_type": "code",
   "execution_count": 18,
   "id": "da9193a7-f95b-4e40-a4ed-ca1bc5ac1e87",
   "metadata": {},
   "outputs": [
    {
     "data": {
      "text/plain": [
       "array([[1, 2, 3],\n",
       "       [4, 5, 6],\n",
       "       [7, 8, 9]])"
      ]
     },
     "execution_count": 18,
     "metadata": {},
     "output_type": "execute_result"
    }
   ],
   "source": [
    "np.append(arr, [[7, 8, 9]], axis=0)"
   ]
  },
  {
   "cell_type": "code",
   "execution_count": 14,
   "id": "ed2e12d7-4c40-4112-8033-e43e1bb992e0",
   "metadata": {},
   "outputs": [
    {
     "data": {
      "text/plain": [
       "array([[1, 2, 3, 7],\n",
       "       [4, 5, 6, 8]])"
      ]
     },
     "execution_count": 14,
     "metadata": {},
     "output_type": "execute_result"
    }
   ],
   "source": [
    "np.append(arr, [[7], [8]], axis=1)"
   ]
  },
  {
   "cell_type": "markdown",
   "id": "34061a44-7f39-4e70-a491-3744981e61fe",
   "metadata": {},
   "source": [
    "---"
   ]
  },
  {
   "cell_type": "markdown",
   "id": "1de0c6e5-777c-44c8-9108-f6e02fa89227",
   "metadata": {},
   "source": [
    "- ### numpy.delete(arr, index, axis=None)"
   ]
  },
  {
   "cell_type": "code",
   "execution_count": 25,
   "id": "84217eb7-b142-4d4c-be15-cbfdc5d8b8a4",
   "metadata": {},
   "outputs": [
    {
     "data": {
      "text/plain": [
       "array([[ 1,  2,  3,  4],\n",
       "       [ 5,  6,  7,  8],\n",
       "       [ 9, 10, 11, 12]])"
      ]
     },
     "execution_count": 25,
     "metadata": {},
     "output_type": "execute_result"
    }
   ],
   "source": [
    "arr = np.arange(1, 13).reshape(3, 4)\n",
    "arr"
   ]
  },
  {
   "cell_type": "markdown",
   "id": "44cec608-84ce-441a-b307-831300d0725e",
   "metadata": {},
   "source": [
    "> 축을 지정하지 않으면 펼친 후 해당 인덱스 제거"
   ]
  },
  {
   "cell_type": "code",
   "execution_count": 26,
   "id": "c677e4d3-ae30-441f-b681-2ccf1bde0f78",
   "metadata": {},
   "outputs": [
    {
     "data": {
      "text/plain": [
       "array([ 1,  3,  4,  5,  6,  7,  8,  9, 10, 11, 12])"
      ]
     },
     "execution_count": 26,
     "metadata": {},
     "output_type": "execute_result"
    }
   ],
   "source": [
    "np.delete(arr, 1)"
   ]
  },
  {
   "cell_type": "markdown",
   "id": "cbf2c789-dcb1-4ed0-97d2-9aca7e7b55b5",
   "metadata": {},
   "source": [
    "> 축 지정할 시 지정한 축에서 해당 인덱스 제거"
   ]
  },
  {
   "cell_type": "code",
   "execution_count": 27,
   "id": "45bf4e97-da7c-4212-9dd3-b1ed84220b52",
   "metadata": {},
   "outputs": [
    {
     "data": {
      "text/plain": [
       "array([[ 1,  2,  3,  4],\n",
       "       [ 9, 10, 11, 12]])"
      ]
     },
     "execution_count": 27,
     "metadata": {},
     "output_type": "execute_result"
    }
   ],
   "source": [
    "np.delete(arr, 1, axis=0)"
   ]
  },
  {
   "cell_type": "code",
   "execution_count": 28,
   "id": "fa9e3fc4-db6c-44a3-93bd-dd93792a253c",
   "metadata": {},
   "outputs": [
    {
     "data": {
      "text/plain": [
       "array([[ 1,  3,  4],\n",
       "       [ 5,  7,  8],\n",
       "       [ 9, 11, 12]])"
      ]
     },
     "execution_count": 28,
     "metadata": {},
     "output_type": "execute_result"
    }
   ],
   "source": [
    "np.delete(arr, 1, axis=1)"
   ]
  },
  {
   "cell_type": "markdown",
   "id": "e3fe0537-73cc-4ae0-9c0f-daba6df0152d",
   "metadata": {},
   "source": [
    "---"
   ]
  },
  {
   "cell_type": "markdown",
   "id": "c9c0dd96-62d3-45bb-b4c6-feafcd3db741",
   "metadata": {},
   "source": [
    "- ### numpy.insert(arr, index, values, axis=None)\n",
    "    - #### arr의 index에 values 삽입"
   ]
  },
  {
   "cell_type": "markdown",
   "id": "e5f24efa-8b69-49a0-9de5-f821eb14609a",
   "metadata": {},
   "source": [
    "> 축 지정하지 않으면 펼쳐서 삽입"
   ]
  },
  {
   "cell_type": "code",
   "execution_count": 61,
   "id": "d770ef6a-6c3a-4d04-99b4-d451de708ac1",
   "metadata": {},
   "outputs": [
    {
     "data": {
      "text/plain": [
       "array([[ 1,  2,  3,  4],\n",
       "       [ 5,  6,  7,  8],\n",
       "       [ 9, 10, 11, 12]])"
      ]
     },
     "execution_count": 61,
     "metadata": {},
     "output_type": "execute_result"
    }
   ],
   "source": [
    "arr = np.arange(1, 13).reshape(3, 4)\n",
    "arr"
   ]
  },
  {
   "cell_type": "code",
   "execution_count": 62,
   "id": "038da6ce-cc53-45c6-b185-229e334fce0b",
   "metadata": {},
   "outputs": [
    {
     "data": {
      "text/plain": [
       "array([ 1, -1,  2,  3,  4,  5,  6,  7,  8,  9, 10, 11, 12])"
      ]
     },
     "execution_count": 62,
     "metadata": {},
     "output_type": "execute_result"
    }
   ],
   "source": [
    "np.insert(arr, 1, -1)"
   ]
  },
  {
   "cell_type": "markdown",
   "id": "e77a29c5-6c58-4ee8-8e46-a8fb379a9326",
   "metadata": {},
   "source": [
    "> 축 지정하여 삽입"
   ]
  },
  {
   "cell_type": "code",
   "execution_count": 57,
   "id": "44bca367-e791-475c-bd73-703c9616b9a9",
   "metadata": {},
   "outputs": [
    {
     "data": {
      "text/plain": [
       "array([[ 1,  2,  3,  4],\n",
       "       [-1, -1, -1, -1],\n",
       "       [ 5,  6,  7,  8],\n",
       "       [ 9, 10, 11, 12]])"
      ]
     },
     "execution_count": 57,
     "metadata": {},
     "output_type": "execute_result"
    }
   ],
   "source": [
    "np.insert(arr, 1, -1, axis=0)"
   ]
  },
  {
   "cell_type": "code",
   "execution_count": 58,
   "id": "c33431a9-2c28-4442-8dff-f7a245eb9d6c",
   "metadata": {},
   "outputs": [
    {
     "data": {
      "text/plain": [
       "array([[ 1, -1,  2,  3,  4],\n",
       "       [ 5, -1,  6,  7,  8],\n",
       "       [ 9, -1, 10, 11, 12]])"
      ]
     },
     "execution_count": 58,
     "metadata": {},
     "output_type": "execute_result"
    }
   ],
   "source": [
    "np.insert(arr, 1, -1, axis=1)"
   ]
  },
  {
   "cell_type": "markdown",
   "id": "84927f74-3cec-4c06-bc17-4af67e96cdf9",
   "metadata": {},
   "source": [
    "---"
   ]
  },
  {
   "cell_type": "markdown",
   "id": "3e1190d4-87e8-469a-834e-0e9ba0151e15",
   "metadata": {},
   "source": [
    "- ### numpy.sort(arr, axis, kind, order)\n",
    "    - #### axis\n",
    "        - #### 기본값: -1 제일 마지막 축\n",
    "    - #### kind\n",
    "        - #### quicksort, mergesort, heapsort, stable\n",
    "    - #### order\n",
    "        - #### 정렬 우선순위 지정, 리스트로 여러개 사용 가능"
   ]
  },
  {
   "cell_type": "code",
   "execution_count": 41,
   "id": "10a4e6cf-6445-45f7-930d-e6e0fab8b0e3",
   "metadata": {},
   "outputs": [
    {
     "data": {
      "text/plain": [
       "array([[1, 2],\n",
       "       [3, 4]])"
      ]
     },
     "execution_count": 41,
     "metadata": {},
     "output_type": "execute_result"
    }
   ],
   "source": [
    "arr = np.array([[2, 1], [4, 3]])\n",
    "np.sort(arr, axis=1)"
   ]
  },
  {
   "cell_type": "code",
   "execution_count": 46,
   "id": "253b4c5c-c267-41c8-b526-56887ccdc81a",
   "metadata": {},
   "outputs": [
    {
     "name": "stdout",
     "output_type": "stream",
     "text": [
      "[(b'Galahad', 1.7, 38) (b'Arthur', 1.8, 41) (b'Lacelot', 1.9, 38)]\n",
      "[(b'Galahad', 1.7, 38) (b'Lacelot', 1.9, 38) (b'Arthur', 1.8, 41)]\n"
     ]
    }
   ],
   "source": [
    "dtype = [('name', 'S10'), ('height', float), ('age', int)]\n",
    "arr = np.array([('Arthur', 1.8, 41), ('Lacelot', 1.9, 38), ('Galahad', 1.7, 38)], dtype=dtype)\n",
    "\n",
    "print(np.sort(arr, order='height'))\n",
    "print(np.sort(arr, order=('age', 'height')))"
   ]
  },
  {
   "cell_type": "markdown",
   "id": "c8d3553a-a3a5-4a6f-a408-f6c8105ce92f",
   "metadata": {},
   "source": [
    "---"
   ]
  },
  {
   "cell_type": "markdown",
   "id": "f5568458-6cc9-4705-98ee-81df421d85b1",
   "metadata": {},
   "source": [
    "- ### numpy.concatenate((arrays), axis)\n",
    "    - #### 배열요소 연결\n",
    " \n",
    "<br>\n",
    "\n",
    "> 축 미지정시 0번 축 기본으로 사용"
   ]
  },
  {
   "cell_type": "code",
   "execution_count": 54,
   "id": "26145c98-eed3-4324-a76a-1531ec5f0db7",
   "metadata": {},
   "outputs": [
    {
     "data": {
      "text/plain": [
       "array([[1, 2, 3],\n",
       "       [4, 5, 6]])"
      ]
     },
     "execution_count": 54,
     "metadata": {},
     "output_type": "execute_result"
    }
   ],
   "source": [
    "arr1 = np.array([[1, 2, 3]])\n",
    "arr2 = np.array([[4, 5, 6]])\n",
    "\n",
    "np.concatenate((arr1, arr2))"
   ]
  },
  {
   "cell_type": "markdown",
   "id": "a87a76e4-734a-48b8-98b7-5bd37147a1df",
   "metadata": {},
   "source": [
    "> 축 None으로 지정 시 펼쳐서 합침"
   ]
  },
  {
   "cell_type": "code",
   "execution_count": 55,
   "id": "c8e20431-ce50-406f-af03-bc580fe2e81a",
   "metadata": {},
   "outputs": [
    {
     "data": {
      "text/plain": [
       "array([1, 2, 3, 4, 5, 6])"
      ]
     },
     "execution_count": 55,
     "metadata": {},
     "output_type": "execute_result"
    }
   ],
   "source": [
    "arr1 = np.array([[1, 2, 3]])\n",
    "arr2 = np.array([[4, 5, 6]])\n",
    "\n",
    "np.concatenate((arr1, arr2), axis=None)"
   ]
  },
  {
   "cell_type": "markdown",
   "id": "1c5565e8-78d9-4b1d-942c-c116d6a07ed6",
   "metadata": {},
   "source": [
    "> 축 지정"
   ]
  },
  {
   "cell_type": "code",
   "execution_count": 53,
   "id": "e97cec4b-a956-4fb1-ba18-15d126bf0eeb",
   "metadata": {},
   "outputs": [
    {
     "name": "stdout",
     "output_type": "stream",
     "text": [
      "[[1 2]\n",
      " [3 4]\n",
      " [5 6]]\n",
      "\n",
      "[[1 2 5]\n",
      " [3 4 6]]\n"
     ]
    }
   ],
   "source": [
    "arr1 = np.array([[1, 2], [3, 4]])\n",
    "arr2 = np.array([[5, 6]])\n",
    "\n",
    "print(np.concatenate((arr1, arr2), axis=0))\n",
    "\n",
    "print()\n",
    "\n",
    "print(np.concatenate((arr1, np.transpose(arr2)), axis=1))"
   ]
  },
  {
   "cell_type": "markdown",
   "id": "82fad074-a604-4175-9143-b6123e847d62",
   "metadata": {},
   "source": [
    "---"
   ]
  },
  {
   "cell_type": "markdown",
   "id": "f3238761-e627-411a-bed1-e2d211fa7672",
   "metadata": {},
   "source": [
    "- ### np.reshape(shape)\n",
    "\n",
    "<br>\n",
    "\n",
    "> #### shape로 -1 사용 시 펼침"
   ]
  },
  {
   "cell_type": "code",
   "execution_count": 63,
   "id": "ff68c2d1-e26b-453f-b11d-516d6e108b48",
   "metadata": {},
   "outputs": [
    {
     "data": {
      "text/plain": [
       "array([1, 2, 3, 4, 5, 6])"
      ]
     },
     "execution_count": 63,
     "metadata": {},
     "output_type": "execute_result"
    }
   ],
   "source": [
    "arr = np.array([[1, 2], [3, 4], [5, 6]])\n",
    "arr.reshape(-1)"
   ]
  },
  {
   "cell_type": "markdown",
   "id": "83b6fedb-2dc2-42b4-9410-3934f9e375c7",
   "metadata": {},
   "source": [
    "> #### 지정하지 않을 항목에 -1 사용 가능"
   ]
  },
  {
   "cell_type": "code",
   "execution_count": 65,
   "id": "c2565505-f243-4fe5-821d-5fc422a50573",
   "metadata": {},
   "outputs": [
    {
     "data": {
      "text/plain": [
       "array([[1, 2],\n",
       "       [3, 4],\n",
       "       [5, 6]])"
      ]
     },
     "execution_count": 65,
     "metadata": {},
     "output_type": "execute_result"
    }
   ],
   "source": [
    "arr.reshape(-1, 2)"
   ]
  },
  {
   "cell_type": "markdown",
   "id": "7782328c-3618-4834-8387-8cad1a241a4c",
   "metadata": {},
   "source": [
    "---"
   ]
  },
  {
   "cell_type": "markdown",
   "id": "cc9353a4-5bb9-410a-827c-436e214ba690",
   "metadata": {},
   "source": [
    "- ### array.flatten()\n",
    "    - #### 배열 복사본의 펼쳐진 형태 리턴"
   ]
  },
  {
   "cell_type": "code",
   "execution_count": 71,
   "id": "4a0cea57-3c1d-4653-af93-898cb2874798",
   "metadata": {},
   "outputs": [
    {
     "name": "stdout",
     "output_type": "stream",
     "text": [
      "[1 1 3 4 5 6]\n",
      "[[1 2]\n",
      " [3 4]\n",
      " [5 6]]\n"
     ]
    }
   ],
   "source": [
    "arr = np.array([[1, 2], [3, 4], [5, 6]])\n",
    "\n",
    "arr2 = arr.flatten()\n",
    "arr2[1] = 1\n",
    "print(arr2)\n",
    "\n",
    "print(arr)"
   ]
  },
  {
   "cell_type": "markdown",
   "id": "0cb33af8-0b30-4e00-af02-5b89dce6b34c",
   "metadata": {},
   "source": [
    "- ### array.ravel()\n",
    "    - #### 원본 배열의 펼쳐진 형태 리턴"
   ]
  },
  {
   "cell_type": "code",
   "execution_count": 72,
   "id": "40995133-4489-4197-b7e1-b82710e14446",
   "metadata": {},
   "outputs": [
    {
     "name": "stdout",
     "output_type": "stream",
     "text": [
      "[1 1 3 4 5 6]\n",
      "[[1 1]\n",
      " [3 4]\n",
      " [5 6]]\n"
     ]
    }
   ],
   "source": [
    "arr = np.array([[1, 2], [3, 4], [5, 6]])\n",
    "\n",
    "arr2 = arr.ravel()\n",
    "arr2[1] = 1\n",
    "print(arr2)\n",
    "\n",
    "print(arr)"
   ]
  },
  {
   "cell_type": "markdown",
   "id": "2d974710-03a4-4ca6-8af7-a52e4961c704",
   "metadata": {},
   "source": [
    "---"
   ]
  },
  {
   "cell_type": "markdown",
   "id": "90456bc4-9d9d-440a-a958-caae78034133",
   "metadata": {},
   "source": [
    "- ### 배열 슬라이싱"
   ]
  },
  {
   "cell_type": "markdown",
   "id": "6b1fad1c-83c0-4afb-906c-e09e06ac7d3a",
   "metadata": {},
   "source": [
    "- #### 슬라이싱 step값이 음수이고, 시작 인덱스가 지정되지 않으면 시작 인덱스는 제일 마지막 원소이다."
   ]
  },
  {
   "cell_type": "code",
   "execution_count": 76,
   "id": "05dddcdf-c857-4bd9-952c-4dbcdf0f851f",
   "metadata": {},
   "outputs": [
    {
     "name": "stdout",
     "output_type": "stream",
     "text": [
      "[0 1 2 3 4 5 6 7 8 9]\n",
      "[9]\n"
     ]
    }
   ],
   "source": [
    "arr = np.arange(10)\n",
    "print(arr)\n",
    "\n",
    "print(arr[:-2:-1])"
   ]
  },
  {
   "cell_type": "markdown",
   "id": "baac1645-38c7-4fc3-a0a3-c0fef7aa18c8",
   "metadata": {},
   "source": [
    "---"
   ]
  },
  {
   "cell_type": "markdown",
   "id": "f2b76a20-5c9b-4c80-af6e-f49799ac0429",
   "metadata": {},
   "source": [
    "- ### 배열 인덱싱, 슬라이싱"
   ]
  },
  {
   "cell_type": "code",
   "execution_count": 80,
   "id": "473b8ed6-03fc-4947-b072-ef708e8ceba8",
   "metadata": {},
   "outputs": [
    {
     "data": {
      "text/plain": [
       "array([[ 1,  2,  3,  4],\n",
       "       [ 5,  6,  7,  8],\n",
       "       [ 9, 10, 11, 12],\n",
       "       [13, 14, 15, 16]])"
      ]
     },
     "execution_count": 80,
     "metadata": {},
     "output_type": "execute_result"
    }
   ],
   "source": [
    "arr = np.arange(1, 17).reshape(4, 4)\n",
    "arr"
   ]
  },
  {
   "cell_type": "markdown",
   "id": "0171c984-b87d-439d-a554-7327ca23676a",
   "metadata": {},
   "source": [
    "![image](https://github.com/kks00/data-science/assets/68108664/6f07a50e-f05b-46ed-80ed-eba1da8b23c7)"
   ]
  },
  {
   "cell_type": "code",
   "execution_count": 81,
   "id": "5565dc12-3984-43be-b748-eb7361833d9a",
   "metadata": {},
   "outputs": [
    {
     "data": {
      "text/plain": [
       "array([5, 6, 7, 8])"
      ]
     },
     "execution_count": 81,
     "metadata": {},
     "output_type": "execute_result"
    }
   ],
   "source": [
    "arr[1,:]"
   ]
  },
  {
   "cell_type": "code",
   "execution_count": 82,
   "id": "b764bbe0-d0e5-49c7-ac22-82b9acef33b2",
   "metadata": {},
   "outputs": [
    {
     "data": {
      "text/plain": [
       "array([[ 9, 10, 11, 12],\n",
       "       [13, 14, 15, 16]])"
      ]
     },
     "execution_count": 82,
     "metadata": {},
     "output_type": "execute_result"
    }
   ],
   "source": [
    "arr[2:,:]"
   ]
  },
  {
   "cell_type": "code",
   "execution_count": 83,
   "id": "c7d769ee-d1f9-4611-8226-47f4d044b0b2",
   "metadata": {},
   "outputs": [
    {
     "data": {
      "text/plain": [
       "array([ 2,  6, 10, 14])"
      ]
     },
     "execution_count": 83,
     "metadata": {},
     "output_type": "execute_result"
    }
   ],
   "source": [
    "arr[:,1]"
   ]
  },
  {
   "cell_type": "code",
   "execution_count": 84,
   "id": "e36ff3cb-0a72-4a2a-ad89-a50b41f2abac",
   "metadata": {},
   "outputs": [
    {
     "data": {
      "text/plain": [
       "array([[ 3,  4],\n",
       "       [ 7,  8],\n",
       "       [11, 12],\n",
       "       [15, 16]])"
      ]
     },
     "execution_count": 84,
     "metadata": {},
     "output_type": "execute_result"
    }
   ],
   "source": [
    "arr[:,2:]"
   ]
  },
  {
   "cell_type": "code",
   "execution_count": 85,
   "id": "b2a8054e-7575-4c76-944d-78533efc0c81",
   "metadata": {},
   "outputs": [
    {
     "data": {
      "text/plain": [
       "array([[ 6,  7],\n",
       "       [10, 11]])"
      ]
     },
     "execution_count": 85,
     "metadata": {},
     "output_type": "execute_result"
    }
   ],
   "source": [
    "arr[1:3, 1:3]"
   ]
  },
  {
   "cell_type": "code",
   "execution_count": 86,
   "id": "c318b7c9-6d18-4986-9578-846417f4cf11",
   "metadata": {},
   "outputs": [
    {
     "data": {
      "text/plain": [
       "array([[ 5,  6,  7,  8],\n",
       "       [13, 14, 15, 16]])"
      ]
     },
     "execution_count": 86,
     "metadata": {},
     "output_type": "execute_result"
    }
   ],
   "source": [
    "arr[(1,3),:]"
   ]
  },
  {
   "cell_type": "markdown",
   "id": "a79b74f0-5c89-492c-b33c-ea3a6b8b0a27",
   "metadata": {},
   "source": [
    "---"
   ]
  },
  {
   "cell_type": "markdown",
   "id": "348cd9f0-369d-4253-87ca-8082913f2bcf",
   "metadata": {},
   "source": [
    "- ### 논리적 인덱싱"
   ]
  },
  {
   "cell_type": "code",
   "execution_count": 88,
   "id": "02bd7382-03c0-4862-a651-d3b14aeb5adf",
   "metadata": {},
   "outputs": [
    {
     "data": {
      "text/plain": [
       "array([False, False,  True,  True,  True])"
      ]
     },
     "execution_count": 88,
     "metadata": {},
     "output_type": "execute_result"
    }
   ],
   "source": [
    "ages = np.array([18, 19, 25, 30, 28])\n",
    "ages > 20"
   ]
  },
  {
   "cell_type": "markdown",
   "id": "97407469-6644-4b21-9ebf-0b7dbf636607",
   "metadata": {},
   "source": [
    "> #### True에 해당하는 데이터만 추출하기"
   ]
  },
  {
   "cell_type": "code",
   "execution_count": 90,
   "id": "2093bbdf-6ddd-4229-893b-f80219961770",
   "metadata": {},
   "outputs": [
    {
     "data": {
      "text/plain": [
       "array([25, 30, 28])"
      ]
     },
     "execution_count": 90,
     "metadata": {},
     "output_type": "execute_result"
    }
   ],
   "source": [
    "ages[ages > 20]"
   ]
  },
  {
   "cell_type": "code",
   "execution_count": 92,
   "id": "1f9ca480-aa97-481c-8ad3-06cb0c1001e8",
   "metadata": {},
   "outputs": [
    {
     "data": {
      "text/plain": [
       "array([[4, 5, 6],\n",
       "       [7, 8, 9]])"
      ]
     },
     "execution_count": 92,
     "metadata": {},
     "output_type": "execute_result"
    }
   ],
   "source": [
    "arr = np.array([[1, 2, 3], [4, 5, 6], [7, 8, 9]])\n",
    "arr[np.array([False, True, True])]"
   ]
  },
  {
   "cell_type": "markdown",
   "id": "3462af24-0e54-4dac-94bb-419f0a97ef70",
   "metadata": {},
   "source": [
    "> #### 특정 조건 만족하는 데이터 추출하기"
   ]
  },
  {
   "cell_type": "code",
   "execution_count": 98,
   "id": "ae464b46-025f-4b20-a35e-beba68a66818",
   "metadata": {},
   "outputs": [
    {
     "data": {
      "text/plain": [
       "array([[170. ,  76.4],\n",
       "       [183. ,  86.2],\n",
       "       [181. ,  78.5],\n",
       "       [176. ,  80.1]])"
      ]
     },
     "execution_count": 98,
     "metadata": {},
     "output_type": "execute_result"
    }
   ],
   "source": [
    "players = np.array([[170, 76.4], [183, 86.2], [181, 78.5], [176, 80.1]])\n",
    "players"
   ]
  },
  {
   "cell_type": "markdown",
   "id": "51bb1ad2-d9ba-4317-aa53-d77e80472165",
   "metadata": {},
   "source": [
    "- #### 몸무게가 80이상인 선수"
   ]
  },
  {
   "cell_type": "code",
   "execution_count": 100,
   "id": "4190e80d-7c97-4e3c-b928-235f7a4fdf0d",
   "metadata": {},
   "outputs": [
    {
     "data": {
      "text/plain": [
       "array([False,  True, False,  True])"
      ]
     },
     "execution_count": 100,
     "metadata": {},
     "output_type": "execute_result"
    }
   ],
   "source": [
    "players[:,1] >= 80"
   ]
  },
  {
   "cell_type": "code",
   "execution_count": 101,
   "id": "661f6f9c-d949-47f7-bd8a-517b4364338e",
   "metadata": {},
   "outputs": [
    {
     "data": {
      "text/plain": [
       "array([[183. ,  86.2],\n",
       "       [176. ,  80.1]])"
      ]
     },
     "execution_count": 101,
     "metadata": {},
     "output_type": "execute_result"
    }
   ],
   "source": [
    "players[players[:,1] >= 80]"
   ]
  },
  {
   "cell_type": "markdown",
   "id": "ca824531-060e-439a-b0af-8279cb1cde13",
   "metadata": {},
   "source": [
    "- #### 키가 175 이상인 선수 정보"
   ]
  },
  {
   "cell_type": "code",
   "execution_count": 103,
   "id": "3caeb744-9234-4268-bd4a-c5051e9dff2d",
   "metadata": {},
   "outputs": [
    {
     "data": {
      "text/plain": [
       "array([False,  True,  True,  True])"
      ]
     },
     "execution_count": 103,
     "metadata": {},
     "output_type": "execute_result"
    }
   ],
   "source": [
    "players[:,0] >= 175"
   ]
  },
  {
   "cell_type": "code",
   "execution_count": 104,
   "id": "ac32c6db-2a72-4438-ba90-4ba67088838a",
   "metadata": {},
   "outputs": [
    {
     "data": {
      "text/plain": [
       "array([[183. ,  86.2],\n",
       "       [181. ,  78.5],\n",
       "       [176. ,  80.1]])"
      ]
     },
     "execution_count": 104,
     "metadata": {},
     "output_type": "execute_result"
    }
   ],
   "source": [
    "players[players[:,0] >= 175]"
   ]
  },
  {
   "cell_type": "markdown",
   "id": "dd5a8b68-6586-41f5-83be-bd1eea2f515f",
   "metadata": {},
   "source": [
    "---"
   ]
  },
  {
   "cell_type": "markdown",
   "id": "ee496f17-7507-4bc1-8bdb-c67f402fed74",
   "metadata": {},
   "source": [
    "- ### array.dot(array)\n",
    "- ### array @ array\n",
    "    - #### matrix product 연산"
   ]
  },
  {
   "cell_type": "code",
   "execution_count": 107,
   "id": "c4eaa1e9-87d2-4ee5-b3f4-0f8ace4d0930",
   "metadata": {},
   "outputs": [
    {
     "name": "stdout",
     "output_type": "stream",
     "text": [
      "[[19 22]\n",
      " [43 50]]\n",
      "\n",
      "[[19 22]\n",
      " [43 50]]\n"
     ]
    }
   ],
   "source": [
    "arr1 = np.arange(1, 5).reshape(2, 2)\n",
    "arr2 = np.arange(5, 9).reshape(2, 2)\n",
    "\n",
    "print(arr1.dot(arr2))\n",
    "print()\n",
    "print(arr1 @ arr2)"
   ]
  },
  {
   "cell_type": "markdown",
   "id": "8a258454-a9f8-4ea3-a850-dd539230e8c6",
   "metadata": {},
   "source": [
    "---"
   ]
  },
  {
   "cell_type": "markdown",
   "id": "bc38a80e-d5a2-4088-ab7c-2ba1bfeae6e2",
   "metadata": {},
   "source": [
    "- ### np.median(array)\n",
    "    - #### 배열의 중간값 반환"
   ]
  },
  {
   "cell_type": "code",
   "execution_count": 111,
   "id": "7961e8a4-182f-43d7-af4e-b06ff60caf80",
   "metadata": {},
   "outputs": [
    {
     "data": {
      "text/plain": [
       "3.0"
      ]
     },
     "execution_count": 111,
     "metadata": {},
     "output_type": "execute_result"
    }
   ],
   "source": [
    "arr = np.array([3, 7, 1, 2, 21])\n",
    "np.median(arr)"
   ]
  },
  {
   "cell_type": "markdown",
   "id": "1c56152e-5dd7-4358-9985-ded460f9b65f",
   "metadata": {},
   "source": [
    "> #### 배열 원소 개수가 짝수인 경우 가운데 두 원소의 평균을 리턴함\n",
    ">> 1, 2, 3, 6, 7, 21\n",
    ">> 3, 6 평균 = 4.5"
   ]
  },
  {
   "cell_type": "code",
   "execution_count": 112,
   "id": "3fb583b7-7e90-4e89-8c27-20e8d1ed2d45",
   "metadata": {},
   "outputs": [
    {
     "data": {
      "text/plain": [
       "4.5"
      ]
     },
     "execution_count": 112,
     "metadata": {},
     "output_type": "execute_result"
    }
   ],
   "source": [
    "arr = np.array([3, 7, 6, 1, 2, 21])\n",
    "np.median(arr)"
   ]
  },
  {
   "cell_type": "markdown",
   "id": "c0c2c7e8-b6d6-4539-8d04-7285f0652182",
   "metadata": {},
   "source": [
    "---"
   ]
  },
  {
   "cell_type": "markdown",
   "id": "f63bceeb-59ba-4402-bef6-fd2837119f16",
   "metadata": {},
   "source": [
    "- ### np.mean(arr)\n",
    "    - #### 배열의 평균값 반환"
   ]
  },
  {
   "cell_type": "code",
   "execution_count": 114,
   "id": "a54ef1fb-d6ca-4517-809f-fa662be76e9d",
   "metadata": {},
   "outputs": [
    {
     "data": {
      "text/plain": [
       "6.8"
      ]
     },
     "execution_count": 114,
     "metadata": {},
     "output_type": "execute_result"
    }
   ],
   "source": [
    "arr = np.array([3, 7, 1, 2, 21])\n",
    "np.mean(arr)"
   ]
  },
  {
   "cell_type": "markdown",
   "id": "c1ffe3ef-9b41-44f9-870f-4de28e9c56a2",
   "metadata": {},
   "source": [
    "---"
   ]
  },
  {
   "cell_type": "markdown",
   "id": "bdba25ab-7e81-420e-b31f-2be5a08f602e",
   "metadata": {},
   "source": [
    "- ### np.argmin(arr), np.argmax(arr)\n",
    "    - #### 최소값, 최대값을 가지는 요소의 인덱스 반환"
   ]
  },
  {
   "cell_type": "code",
   "execution_count": 116,
   "id": "558bc248-f909-4535-83ed-40c1f6c28dc0",
   "metadata": {},
   "outputs": [
    {
     "data": {
      "text/plain": [
       "(2, 4)"
      ]
     },
     "execution_count": 116,
     "metadata": {},
     "output_type": "execute_result"
    }
   ],
   "source": [
    "arr = np.array([3, 7, 1, 2, 21])\n",
    "\n",
    "np.argmin(arr), np.argmax(arr)"
   ]
  }
 ],
 "metadata": {
  "kernelspec": {
   "display_name": "Python 3 (ipykernel)",
   "language": "python",
   "name": "python3"
  },
  "language_info": {
   "codemirror_mode": {
    "name": "ipython",
    "version": 3
   },
   "file_extension": ".py",
   "mimetype": "text/x-python",
   "name": "python",
   "nbconvert_exporter": "python",
   "pygments_lexer": "ipython3",
   "version": "3.10.13"
  }
 },
 "nbformat": 4,
 "nbformat_minor": 5
}
