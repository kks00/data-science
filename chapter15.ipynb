{
 "cells": [
  {
   "cell_type": "code",
   "execution_count": 1,
   "id": "a391a226-ceff-4801-82dd-caf8e1ac047e",
   "metadata": {},
   "outputs": [],
   "source": [
    "from datascience import *\n",
    "import numpy as np\n",
    "import matplotlib.pyplot as plt\n",
    "%matplotlib inline"
   ]
  },
  {
   "cell_type": "markdown",
   "id": "8cb9b295-bdf2-4a4e-9d78-ea788892235a",
   "metadata": {},
   "source": [
    "---"
   ]
  },
  {
   "cell_type": "markdown",
   "id": "d4069686-430f-45be-a5ea-793679d65029",
   "metadata": {},
   "source": [
    "- ## 샘플만으로 Median 값 추정"
   ]
  },
  {
   "cell_type": "code",
   "execution_count": 2,
   "id": "59a0b935-9155-4d16-ac30-3d997ccfb1ea",
   "metadata": {},
   "outputs": [
    {
     "data": {
      "text/html": [
       "<table border=\"1\" class=\"dataframe\">\n",
       "    <thead>\n",
       "        <tr>\n",
       "            <th>Birth Weight</th> <th>Gestational Days</th> <th>Maternal Age</th> <th>Maternal Height</th> <th>Maternal Pregnancy Weight</th> <th>Maternal Smoker</th>\n",
       "        </tr>\n",
       "    </thead>\n",
       "    <tbody>\n",
       "        <tr>\n",
       "            <td>120         </td> <td>284             </td> <td>27          </td> <td>62             </td> <td>100                      </td> <td>False          </td>\n",
       "        </tr>\n",
       "        <tr>\n",
       "            <td>113         </td> <td>282             </td> <td>33          </td> <td>64             </td> <td>135                      </td> <td>False          </td>\n",
       "        </tr>\n",
       "        <tr>\n",
       "            <td>128         </td> <td>279             </td> <td>28          </td> <td>64             </td> <td>115                      </td> <td>True           </td>\n",
       "        </tr>\n",
       "    </tbody>\n",
       "</table>\n",
       "<p>... (1171 rows omitted)</p>"
      ],
      "text/plain": [
       "<IPython.core.display.HTML object>"
      ]
     },
     "metadata": {},
     "output_type": "display_data"
    }
   ],
   "source": [
    "births = Table.read_table(\"./csv/baby.csv\")\n",
    "births.show(3)"
   ]
  },
  {
   "cell_type": "markdown",
   "id": "6313c5e3-9b8f-47d2-9e4d-d4a4ed48fee8",
   "metadata": {},
   "source": [
    "- ### 출생 체중과 임신 일수의 비율을 포함한 테이블 생성"
   ]
  },
  {
   "cell_type": "code",
   "execution_count": 7,
   "id": "2bed912b-d54d-4052-9f23-505d86ba5024",
   "metadata": {},
   "outputs": [
    {
     "data": {
      "text/html": [
       "<table border=\"1\" class=\"dataframe\">\n",
       "    <thead>\n",
       "        <tr>\n",
       "            <th>Birth Weight</th> <th>Gestational Days</th> <th>Ratio BW:GD</th>\n",
       "        </tr>\n",
       "    </thead>\n",
       "    <tbody>\n",
       "        <tr>\n",
       "            <td>120         </td> <td>284             </td> <td>0.422535   </td>\n",
       "        </tr>\n",
       "        <tr>\n",
       "            <td>113         </td> <td>282             </td> <td>0.400709   </td>\n",
       "        </tr>\n",
       "        <tr>\n",
       "            <td>128         </td> <td>279             </td> <td>0.458781   </td>\n",
       "        </tr>\n",
       "    </tbody>\n",
       "</table>\n",
       "<p>... (1171 rows omitted)</p>"
      ],
      "text/plain": [
       "<IPython.core.display.HTML object>"
      ]
     },
     "metadata": {},
     "output_type": "display_data"
    }
   ],
   "source": [
    "ratios = births.select(\"Birth Weight\", \"Gestational Days\").with_column(\n",
    "    \"Ratio BW:GD\", births.column(\"Birth Weight\") / births.column(\"Gestational Days\")\n",
    ")\n",
    "ratios.show(3)"
   ]
  },
  {
   "cell_type": "code",
   "execution_count": 8,
   "id": "720068c2-907c-40cd-95ae-f5e20bca1a29",
   "metadata": {},
   "outputs": [
    {
     "data": {
      "image/png": "[encoded data removed]",
      "text/plain": [
       "<Figure size 600x400 with 1 Axes>"
      ]
     },
     "metadata": {},
     "output_type": "display_data"
    }
   ],
   "source": [
    "ratios.select(\"Ratio BW:GD\").hist()"
   ]
  },
  {
   "cell_type": "markdown",
   "id": "42275a1b-2fa8-447d-8094-19b7fadbede8",
   "metadata": {},
   "source": [
    "- ### 비율의 일부는 상당히 크므로 중앙값을 사용하는 것이 좋음\n",
    "    - #### 평균은 특이점에 의해 영향을 받음"
   ]
  },
  {
   "cell_type": "markdown",
   "id": "42fafd81-c747-497d-8773-6c9823d3d5eb",
   "metadata": {},
   "source": [
    "- ### 표본의 중앙값"
   ]
  },
  {
   "cell_type": "code",
   "execution_count": 10,
   "id": "721a4e70-f459-4357-9951-8a3813358301",
   "metadata": {},
   "outputs": [
    {
     "data": {
      "text/plain": [
       "0.42907801418439717"
      ]
     },
     "execution_count": 10,
     "metadata": {},
     "output_type": "execute_result"
    }
   ],
   "source": [
    "percentile(50, ratios.column(\"Ratio BW:GD\"))"
   ]
  },
  {
   "cell_type": "markdown",
   "id": "4581939d-0a88-4ab5-af2c-e705ec97a735",
   "metadata": {},
   "source": [
    "<br>"
   ]
  },
  {
   "cell_type": "markdown",
   "id": "9c414521-1204-4f09-b5ec-c63ceba16659",
   "metadata": {},
   "source": [
    "- ### 모집단의 중앙값은 알 수 없으므로, bootstrap을 이용하여 모집단의 중앙값 구하기\n",
    "    - #### 중복 허용하는 표본과 같은 크기의 샘플 생성하여 중앙값 구하기"
   ]
  },
  {
   "cell_type": "code",
   "execution_count": 13,
   "id": "60c94a28-6ca5-49f5-b97e-8784a0047dfd",
   "metadata": {},
   "outputs": [
    {
     "data": {
      "text/plain": [
       "array([ 0.42916667,  0.42750929,  0.42910448, ...,  0.42907801,\n",
       "        0.43129771,  0.43014706])"
      ]
     },
     "execution_count": 13,
     "metadata": {},
     "output_type": "execute_result"
    }
   ],
   "source": [
    "def one_bootstrap_median():\n",
    "    resample = ratios.sample()\n",
    "    return percentile(50, resample.column(\"Ratio BW:GD\"))\n",
    "\n",
    "num_repetitions = 5000\n",
    "bstrap_medians = make_array()\n",
    "for _ in range(num_repetitions):\n",
    "    bstrap_medians = np.append(bstrap_medians, one_bootstrap_median())\n",
    "bstrap_medians"
   ]
  },
  {
   "cell_type": "markdown",
   "id": "542acd26-cbc5-467f-a3a2-1406490d40c5",
   "metadata": {},
   "source": [
    "- ### 신뢰구간 95%의 양 끝값 추출\n",
    "    - #### 양쪽 끝 합 5% 이므로 양 끝 2.5%"
   ]
  },
  {
   "cell_type": "code",
   "execution_count": 16,
   "id": "019eb96e-2155-47b9-a55e-c8c1b10a187a",
   "metadata": {},
   "outputs": [
    {
     "data": {
      "text/plain": [
       "(0.42545454545454547, 0.43262411347517732)"
      ]
     },
     "execution_count": 16,
     "metadata": {},
     "output_type": "execute_result"
    }
   ],
   "source": [
    "left = percentile(2.5, bstrap_medians)\n",
    "right = percentile(97.5, bstrap_medians)\n",
    "left, right"
   ]
  },
  {
   "cell_type": "code",
   "execution_count": 18,
   "id": "7a78ca9f-c1b9-484f-abfc-eac2b5a7b2ed",
   "metadata": {},
   "outputs": [
    {
     "data": {
      "text/plain": [
       "[<matplotlib.lines.Line2D at 0x28f3b21bc40>]"
      ]
     },
     "execution_count": 18,
     "metadata": {},
     "output_type": "execute_result"
    },
    {
     "data": {
      "image/png": "[encoded data removed]",
      "text/plain": [
       "<Figure size 600x400 with 1 Axes>"
      ]
     },
     "metadata": {},
     "output_type": "display_data"
    }
   ],
   "source": [
    "Table().with_column(\"bstrap_medians\", bstrap_medians).hist(bins=15)\n",
    "plt.plot([left, right], [0, 0], color=\"yellow\", lw=8)"
   ]
  },
  {
   "cell_type": "markdown",
   "id": "8a944f26-60bf-42d3-b172-e61bb54c6713",
   "metadata": {},
   "source": [
    "<br>"
   ]
  },
  {
   "cell_type": "markdown",
   "id": "1fd0278b-aa62-46de-90ea-916e76a0e7fe",
   "metadata": {},
   "source": [
    "- ### Bootstrap으로 모집단의 산모들의 평균 연령을 추정"
   ]
  },
  {
   "cell_type": "code",
   "execution_count": 24,
   "id": "addc7ec6-a77d-4d30-88a8-67a12ffd44f0",
   "metadata": {},
   "outputs": [
    {
     "data": {
      "text/plain": [
       "array([ 26.94463373,  27.06643952,  27.01022147, ...,  27.30494037,\n",
       "        27.17546848,  27.08432709])"
      ]
     },
     "execution_count": 24,
     "metadata": {},
     "output_type": "execute_result"
    }
   ],
   "source": [
    "def one_bootstrap_avg():\n",
    "    samp = births.sample()\n",
    "    return np.average(samp.column(\"Maternal Age\"))\n",
    "\n",
    "num_repetitions = 5000\n",
    "bstrap_averages = make_array()\n",
    "for _ in range(num_repetitions):\n",
    "    bstrap_averages = np.append(bstrap_averages, one_bootstrap_avg())\n",
    "bstrap_averages"
   ]
  },
  {
   "cell_type": "markdown",
   "id": "a11f5ade-d44b-4b45-8e46-1234f379673e",
   "metadata": {},
   "source": [
    "- ### 신뢰구간 95%일 때 양 끝값 추출"
   ]
  },
  {
   "cell_type": "code",
   "execution_count": 28,
   "id": "a6359397-4514-4488-836f-a7632b2f7547",
   "metadata": {},
   "outputs": [
    {
     "data": {
      "text/plain": [
       "(26.897785349233391, 27.557069846678022)"
      ]
     },
     "execution_count": 28,
     "metadata": {},
     "output_type": "execute_result"
    }
   ],
   "source": [
    "left = percentile(2.5, bstrap_averages)\n",
    "right = percentile(97.5, bstrap_averages)\n",
    "left, right"
   ]
  },
  {
   "cell_type": "code",
   "execution_count": 29,
   "id": "f0bb2186-5b1f-46b2-933c-8eb26d5351dd",
   "metadata": {},
   "outputs": [
    {
     "data": {
      "text/plain": [
       "[<matplotlib.lines.Line2D at 0x28f3b46bca0>]"
      ]
     },
     "execution_count": 29,
     "metadata": {},
     "output_type": "execute_result"
    },
    {
     "data": {
      "image/png": "[encoded data removed]",
      "text/plain": [
       "<Figure size 600x400 with 1 Axes>"
      ]
     },
     "metadata": {},
     "output_type": "display_data"
    }
   ],
   "source": [
    "Table().with_column(\"Bootstrap Averages\", bstrap_averages).hist(bins=15)\n",
    "plt.plot([left, right], [0, 0], color=\"yellow\", lw=8)"
   ]
  },
  {
   "cell_type": "code",
   "execution_count": 19,
   "id": "31d93e9c-a6f7-4325-8ead-42516c52a5a6",
   "metadata": {},
   "outputs": [
    {
     "data": {
      "image/png": "[encoded data removed]",
      "text/plain": [
       "<Figure size 600x400 with 1 Axes>"
      ]
     },
     "metadata": {},
     "output_type": "display_data"
    }
   ],
   "source": [
    "births.select(\"Maternal Age\").hist()"
   ]
  },
  {
   "cell_type": "markdown",
   "id": "9164e912-853a-4f56-9ba9-d6861c02a50a",
   "metadata": {},
   "source": [
    "- ### 모집단의 평균 나이 히스토그램은 대칭이 아니었지만, 샘플의 평균 나이 히스토그램은 좌우 대칭임"
   ]
  },
  {
   "cell_type": "markdown",
   "id": "be046abc-444a-4703-9d3d-52a2f232c401",
   "metadata": {},
   "source": [
    "---"
   ]
  },
  {
   "cell_type": "markdown",
   "id": "534428b2-f7b6-4a41-b80d-ed476da94bb5",
   "metadata": {},
   "source": [
    "- ## 호지킨 병 치료에 대한 샘플 데이터"
   ]
  },
  {
   "cell_type": "code",
   "execution_count": 31,
   "id": "cfdc6bf5-b364-4c46-8b9c-3cb298093799",
   "metadata": {},
   "outputs": [
    {
     "data": {
      "text/html": [
       "<table border=\"1\" class=\"dataframe\">\n",
       "    <thead>\n",
       "        <tr>\n",
       "            <th>height</th> <th>rad</th> <th>chemo</th> <th>base</th> <th>month15</th>\n",
       "        </tr>\n",
       "    </thead>\n",
       "    <tbody>\n",
       "        <tr>\n",
       "            <td>164   </td> <td>679 </td> <td>180  </td> <td>160.57</td> <td>87.77  </td>\n",
       "        </tr>\n",
       "        <tr>\n",
       "            <td>168   </td> <td>311 </td> <td>180  </td> <td>98.24 </td> <td>67.62  </td>\n",
       "        </tr>\n",
       "        <tr>\n",
       "            <td>173   </td> <td>388 </td> <td>239  </td> <td>129.04</td> <td>133.33 </td>\n",
       "        </tr>\n",
       "    </tbody>\n",
       "</table>\n",
       "<p>... (19 rows omitted)</p>"
      ],
      "text/plain": [
       "<IPython.core.display.HTML object>"
      ]
     },
     "metadata": {},
     "output_type": "display_data"
    }
   ],
   "source": [
    "hodgkins = Table.read_table(\"./csv/hodgkins.csv\")\n",
    "hodgkins.show(3)"
   ]
  },
  {
   "cell_type": "markdown",
   "id": "324073df-07ce-4a8b-b1ef-92156517ba36",
   "metadata": {},
   "source": [
    "- ### 15개월 경과 후 대부분 폐 건강이 나빠졌음"
   ]
  },
  {
   "cell_type": "code",
   "execution_count": 32,
   "id": "97f0ea1a-ea47-453a-ac81-6c9843ba7316",
   "metadata": {},
   "outputs": [
    {
     "data": {
      "text/html": [
       "<table border=\"1\" class=\"dataframe\">\n",
       "    <thead>\n",
       "        <tr>\n",
       "            <th>height</th> <th>rad</th> <th>chemo</th> <th>base</th> <th>month15</th> <th>Drop</th>\n",
       "        </tr>\n",
       "    </thead>\n",
       "    <tbody>\n",
       "        <tr>\n",
       "            <td>164   </td> <td>679 </td> <td>180  </td> <td>160.57</td> <td>87.77  </td> <td>72.8  </td>\n",
       "        </tr>\n",
       "        <tr>\n",
       "            <td>168   </td> <td>311 </td> <td>180  </td> <td>98.24 </td> <td>67.62  </td> <td>30.62 </td>\n",
       "        </tr>\n",
       "        <tr>\n",
       "            <td>173   </td> <td>388 </td> <td>239  </td> <td>129.04</td> <td>133.33 </td> <td>-4.29 </td>\n",
       "        </tr>\n",
       "        <tr>\n",
       "            <td>157   </td> <td>370 </td> <td>168  </td> <td>85.41 </td> <td>81.28  </td> <td>4.13  </td>\n",
       "        </tr>\n",
       "        <tr>\n",
       "            <td>160   </td> <td>468 </td> <td>151  </td> <td>67.94 </td> <td>79.26  </td> <td>-11.32</td>\n",
       "        </tr>\n",
       "        <tr>\n",
       "            <td>170   </td> <td>341 </td> <td>96   </td> <td>150.51</td> <td>80.97  </td> <td>69.54 </td>\n",
       "        </tr>\n",
       "        <tr>\n",
       "            <td>163   </td> <td>453 </td> <td>134  </td> <td>129.88</td> <td>69.24  </td> <td>60.64 </td>\n",
       "        </tr>\n",
       "        <tr>\n",
       "            <td>175   </td> <td>529 </td> <td>264  </td> <td>87.45 </td> <td>56.48  </td> <td>30.97 </td>\n",
       "        </tr>\n",
       "        <tr>\n",
       "            <td>185   </td> <td>392 </td> <td>240  </td> <td>149.84</td> <td>106.99 </td> <td>42.85 </td>\n",
       "        </tr>\n",
       "        <tr>\n",
       "            <td>178   </td> <td>479 </td> <td>216  </td> <td>92.24 </td> <td>73.43  </td> <td>18.81 </td>\n",
       "        </tr>\n",
       "    </tbody>\n",
       "</table>\n",
       "<p>... (12 rows omitted)</p>"
      ],
      "text/plain": [
       "height | rad  | chemo | base   | month15 | Drop\n",
       "164    | 679  | 180   | 160.57 | 87.77   | 72.8\n",
       "168    | 311  | 180   | 98.24  | 67.62   | 30.62\n",
       "173    | 388  | 239   | 129.04 | 133.33  | -4.29\n",
       "157    | 370  | 168   | 85.41  | 81.28   | 4.13\n",
       "160    | 468  | 151   | 67.94  | 79.26   | -11.32\n",
       "170    | 341  | 96    | 150.51 | 80.97   | 69.54\n",
       "163    | 453  | 134   | 129.88 | 69.24   | 60.64\n",
       "175    | 529  | 264   | 87.45  | 56.48   | 30.97\n",
       "185    | 392  | 240   | 149.84 | 106.99  | 42.85\n",
       "178    | 479  | 216   | 92.24  | 73.43   | 18.81\n",
       "... (12 rows omitted)"
      ]
     },
     "execution_count": 32,
     "metadata": {},
     "output_type": "execute_result"
    }
   ],
   "source": [
    "hodgkins = hodgkins.with_column(\"Drop\", hodgkins.column(\"base\") - hodgkins.column(\"month15\"))\n",
    "hodgkins"
   ]
  },
  {
   "cell_type": "code",
   "execution_count": 33,
   "id": "f15cd1cc-e234-4d5a-be86-ae258d5d5bee",
   "metadata": {},
   "outputs": [
    {
     "data": {
      "image/png": "[encoded data removed]",
      "text/plain": [
       "<Figure size 600x400 with 1 Axes>"
      ]
     },
     "metadata": {},
     "output_type": "display_data"
    }
   ],
   "source": [
    "hodgkins.select(\"Drop\").hist(bins=np.arange(-20, 81, 20))"
   ]
  },
  {
   "cell_type": "markdown",
   "id": "3c62bbe3-40fa-412f-ac54-3ca5c2de8680",
   "metadata": {},
   "source": [
    "- ### 샘플의 평균 하락폭은 28.6"
   ]
  },
  {
   "cell_type": "code",
   "execution_count": 35,
   "id": "49c10a76-426f-4d75-a304-9508d131b3a1",
   "metadata": {},
   "outputs": [
    {
     "data": {
      "text/plain": [
       "28.615909090909096"
      ]
     },
     "execution_count": 35,
     "metadata": {},
     "output_type": "execute_result"
    }
   ],
   "source": [
    "np.average(hodgkins.column(\"Drop\"))"
   ]
  },
  {
   "cell_type": "markdown",
   "id": "3fc53f70-0f30-40c5-a8b8-1818f9a4c1c1",
   "metadata": {},
   "source": [
    "<br>\n",
    "\n",
    "- ## 가설\n",
    "    - ### 귀무 가설: 우연에 의한 변동임, 모집단에서의 평균 감소는 0\n",
    "    - ### 대립 가설: 우연이 아님, 모집단에서도 평균 감소 존재"
   ]
  },
  {
   "cell_type": "markdown",
   "id": "e4e2badc-fd04-44a1-9728-3e0f4c7a7bb5",
   "metadata": {},
   "source": [
    "<br>\n",
    "\n",
    "- ### bootstrap을 통해 모집단에서의 평균 감소 확인"
   ]
  },
  {
   "cell_type": "code",
   "execution_count": 36,
   "id": "c5df7a48-1de5-4b6c-8c93-96bab789fece",
   "metadata": {},
   "outputs": [
    {
     "data": {
      "text/plain": [
       "array([ 31.10590909,  32.36      ,  27.36136364, ...,  31.07545455,\n",
       "        24.71      ,  27.69363636])"
      ]
     },
     "execution_count": 36,
     "metadata": {},
     "output_type": "execute_result"
    }
   ],
   "source": [
    "def one_bootstrap_mean():\n",
    "    samp = hodgkins.sample()\n",
    "    return np.mean(samp.column(\"Drop\"))\n",
    "\n",
    "num_repetitions = 10000\n",
    "bstrap_means = make_array()\n",
    "for _ in range(num_repetitions):\n",
    "    bstrap_means = np.append(bstrap_means, one_bootstrap_mean())\n",
    "bstrap_means"
   ]
  },
  {
   "cell_type": "markdown",
   "id": "ec4f8ac2-539b-49d2-bfbb-7d7c231f194f",
   "metadata": {},
   "source": [
    "- ### 99% 신뢰구간의 양 끝"
   ]
  },
  {
   "cell_type": "code",
   "execution_count": 38,
   "id": "073a030b-c169-4761-9a49-270c914e4816",
   "metadata": {},
   "outputs": [
    {
     "data": {
      "text/plain": [
       "(17.271818181818183, 40.217272727272729)"
      ]
     },
     "execution_count": 38,
     "metadata": {},
     "output_type": "execute_result"
    }
   ],
   "source": [
    "left = percentile(0.5, bstrap_means)\n",
    "right = percentile(99.5, bstrap_means)\n",
    "left, right"
   ]
  },
  {
   "cell_type": "markdown",
   "id": "a1810275-77a1-4344-b9b9-c43e04a969eb",
   "metadata": {},
   "source": [
    "- #### 신뢰구간에 0이 포함되지 않으므로 귀무가설 기각"
   ]
  }
 ],
 "metadata": {
  "kernelspec": {
   "display_name": "Python 3 (ipykernel)",
   "language": "python",
   "name": "python3"
  },
  "language_info": {
   "codemirror_mode": {
    "name": "ipython",
    "version": 3
   },
   "file_extension": ".py",
   "mimetype": "text/x-python",
   "name": "python",
   "nbconvert_exporter": "python",
   "pygments_lexer": "ipython3",
   "version": "3.10.13"
  }
 },
 "nbformat": 4,
 "nbformat_minor": 5
}
