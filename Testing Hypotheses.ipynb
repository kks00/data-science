{
 "cells": [
  {
   "cell_type": "code",
   "execution_count": 3,
   "id": "358373b6-c01f-44e2-934e-0c383fee8c14",
   "metadata": {},
   "outputs": [],
   "source": [
    "from datascience import *\n",
    "import numpy as np\n",
    "import matplotlib.pyplot as plt\n",
    "%matplotlib inline"
   ]
  },
  {
   "cell_type": "markdown",
   "id": "5dcdb25a-0157-4efe-9b9d-c79d7399e10f",
   "metadata": {},
   "source": [
    "---"
   ]
  },
  {
   "cell_type": "markdown",
   "id": "bc3e9a56-f6b4-4af5-80e9-430c86486c88",
   "metadata": {},
   "source": [
    "- ## 모집단의 비율로부터 표본집단에서의 비율 구하기\n",
    "    - ### sample_proportions(sample_size, model_proportions)\n",
    "        - #### sample_size: 표본 크기\n",
    "        - #### model_proportions: 모집단에서의 비율"
   ]
  },
  {
   "cell_type": "markdown",
   "id": "69884cd3-e4f2-4ca9-915c-b65a1158f574",
   "metadata": {},
   "source": [
    "- #### 표본 300개에서 (0.25, 0.5, 0.25)의 확률"
   ]
  },
  {
   "cell_type": "code",
   "execution_count": 4,
   "id": "e6124c62-1a40-48b9-90f9-7182ffd25b1e",
   "metadata": {},
   "outputs": [
    {
     "data": {
      "text/plain": [
       "array([ 0.24666667,  0.50333333,  0.25      ])"
      ]
     },
     "execution_count": 4,
     "metadata": {},
     "output_type": "execute_result"
    }
   ],
   "source": [
    "sample_proportions(300, [0.25, 0.5, 0.25])"
   ]
  },
  {
   "cell_type": "markdown",
   "id": "beaa8524-961c-45dd-94a0-60cc20b17310",
   "metadata": {},
   "source": [
    "---"
   ]
  },
  {
   "cell_type": "markdown",
   "id": "dd038e08-4be1-404d-80d1-2d0c5fa6032f",
   "metadata": {},
   "source": [
    "- ## 배심원 선정 시 발생한 인종적 편견\n",
    "    - #### 21세 이상 남성이 배심원 자격을 가짐\n",
    "    - #### 21세 이상 남성 중 26%가 흑인\n",
    "    - #### 선정된 배심원은 100명 중 8%만 흑인이었음"
   ]
  },
  {
   "cell_type": "markdown",
   "id": "d12cec9e-0ce7-4934-8303-0153b72085b0",
   "metadata": {},
   "source": [
    "<br>"
   ]
  },
  {
   "cell_type": "markdown",
   "id": "f7cd0863-d3c8-488c-84cf-9cce184bd4ad",
   "metadata": {},
   "source": [
    "- ### 인구 중 26%가 흑인인 모집단에서 배심원을 선정하는 시뮬레이션\n",
    "    - #### 100명 당 흑인의 수로 10000번 시뮬레이션\n",
    "        - #### 대략 15명 ~ 40명"
   ]
  },
  {
   "cell_type": "code",
   "execution_count": 9,
   "id": "d7d862ba-0492-453a-9fd4-30f34b50d7e3",
   "metadata": {},
   "outputs": [
    {
     "data": {
      "image/png": "[encoded data removed]",
      "text/plain": [
       "<Figure size 600x400 with 1 Axes>"
      ]
     },
     "metadata": {},
     "output_type": "display_data"
    }
   ],
   "source": [
    "def one_simulated_count():\n",
    "    return sample_proportions(100, [0.26, 0.74]) * 100\n",
    "\n",
    "counts = make_array()\n",
    "for _ in range(10000):\n",
    "    counts = np.append(counts, one_simulated_count())\n",
    "Table().with_columns(\"counts\", counts).hist(\"counts\", bins=np.arange(5.5, 46.6, 1))"
   ]
  },
  {
   "cell_type": "markdown",
   "id": "4ad425e3-6e06-4eff-9308-395b084c9044",
   "metadata": {},
   "source": [
    "- #### 위 히스토그램에서 8명의 위치를 표시\n",
    "    - <h4 style=\"color: red\">8명만큼 낮은 패널리스트 수를 얻을 가능성이 거의 없음</h4>"
   ]
  },
  {
   "cell_type": "code",
   "execution_count": 13,
   "id": "9706dc75-821c-44a0-bbad-28fea33e2792",
   "metadata": {},
   "outputs": [
    {
     "data": {
      "text/plain": [
       "<matplotlib.collections.PathCollection at 0x1fff2c5ac20>"
      ]
     },
     "execution_count": 13,
     "metadata": {},
     "output_type": "execute_result"
    },
    {
     "data": {
      "image/png": "[encoded data removed]",
      "text/plain": [
       "<Figure size 600x400 with 1 Axes>"
      ]
     },
     "metadata": {},
     "output_type": "display_data"
    }
   ],
   "source": [
    "Table().with_columns(\"counts\", counts).hist(\"counts\", bins=np.arange(5.5, 46.6, 1))\n",
    "\n",
    "plt.ylim(-0.002)\n",
    "plt.scatter(8, 0, color=\"red\", s=30)"
   ]
  },
  {
   "cell_type": "markdown",
   "id": "0d163494-29c5-4f8b-807d-1baf16a1c848",
   "metadata": {},
   "source": [
    "---"
   ]
  },
  {
   "cell_type": "markdown",
   "id": "f441ea8a-719f-4dbd-8c89-63efc90e8ade",
   "metadata": {},
   "source": [
    "- ## Alameda County의 배심원 패널리스트 특정 인종, 민족 그룹 과소 대표"
   ]
  },
  {
   "cell_type": "markdown",
   "id": "7db0095c-6a0d-4b7a-809e-d41e1c4714b2",
   "metadata": {},
   "source": [
    "<br>"
   ]
  },
  {
   "cell_type": "code",
   "execution_count": 46,
   "id": "40dbd447-b295-4c62-a1d6-39639ab5ece6",
   "metadata": {},
   "outputs": [
    {
     "data": {
      "text/html": [
       "<table border=\"1\" class=\"dataframe\">\n",
       "    <thead>\n",
       "        <tr>\n",
       "            <th>Ethnicity</th> <th>Eligible</th> <th>Panels</th>\n",
       "        </tr>\n",
       "    </thead>\n",
       "    <tbody>\n",
       "        <tr>\n",
       "            <td>Asian/PI </td> <td>0.15    </td> <td>0.26  </td>\n",
       "        </tr>\n",
       "        <tr>\n",
       "            <td>Black/AA </td> <td>0.18    </td> <td>0.08  </td>\n",
       "        </tr>\n",
       "        <tr>\n",
       "            <td>Caucasian</td> <td>0.54    </td> <td>0.54  </td>\n",
       "        </tr>\n",
       "        <tr>\n",
       "            <td>Hispanic </td> <td>0.12    </td> <td>0.08  </td>\n",
       "        </tr>\n",
       "        <tr>\n",
       "            <td>Other    </td> <td>0.01    </td> <td>0.04  </td>\n",
       "        </tr>\n",
       "    </tbody>\n",
       "</table>"
      ],
      "text/plain": [
       "Ethnicity | Eligible | Panels\n",
       "Asian/PI  | 0.15     | 0.26\n",
       "Black/AA  | 0.18     | 0.08\n",
       "Caucasian | 0.54     | 0.54\n",
       "Hispanic  | 0.12     | 0.08\n",
       "Other     | 0.01     | 0.04"
      ]
     },
     "execution_count": 46,
     "metadata": {},
     "output_type": "execute_result"
    }
   ],
   "source": [
    "jury = Table().with_columns(\n",
    "    \"Ethnicity\", make_array(\"Asian/PI\", \"Black/AA\", \"Caucasian\", \"Hispanic\", \"Other\"),\n",
    "    \"Eligible\", make_array(0.15, 0.18, 0.54, 0.12, 0.01),\n",
    "    \"Panels\", make_array(0.26, 0.08, 0.54, 0.08, 0.04))\n",
    "jury"
   ]
  },
  {
   "cell_type": "code",
   "execution_count": 24,
   "id": "c53e33a6-262a-418f-a805-8ecbb7439345",
   "metadata": {},
   "outputs": [
    {
     "data": {
      "image/png": "[encoded data removed]",
      "text/plain": [
       "<Figure size 600x400 with 1 Axes>"
      ]
     },
     "metadata": {},
     "output_type": "display_data"
    }
   ],
   "source": [
    "jury.barh(\"Ethnicity\")"
   ]
  },
  {
   "cell_type": "markdown",
   "id": "a3bca152-03c8-445a-8da9-508f151739f9",
   "metadata": {},
   "source": [
    "<br>"
   ]
  },
  {
   "cell_type": "markdown",
   "id": "ec812ae3-1a81-4630-a3e1-c875d7635f51",
   "metadata": {},
   "source": [
    "- ### 1453개의 무작위 표본에 대한 패널 비율 추가\n",
    "    - <h4 style=\"color: red\">적격 배심원 후보자 비율과 유사하게 나타남</h4>"
   ]
  },
  {
   "cell_type": "code",
   "execution_count": 21,
   "id": "b46f8b62-2b8b-4c29-9c02-49fcc4f4d06c",
   "metadata": {},
   "outputs": [
    {
     "data": {
      "text/html": [
       "<table border=\"1\" class=\"dataframe\">\n",
       "    <thead>\n",
       "        <tr>\n",
       "            <th>Ethnicity</th> <th>Eligible</th> <th>Panels</th> <th>Random Sample</th>\n",
       "        </tr>\n",
       "    </thead>\n",
       "    <tbody>\n",
       "        <tr>\n",
       "            <td>Asian/PI </td> <td>0.15    </td> <td>0.26  </td> <td>0.165175     </td>\n",
       "        </tr>\n",
       "        <tr>\n",
       "            <td>Black/AA </td> <td>0.18    </td> <td>0.08  </td> <td>0.17894      </td>\n",
       "        </tr>\n",
       "        <tr>\n",
       "            <td>Caucasian</td> <td>0.54    </td> <td>0.54  </td> <td>0.527185     </td>\n",
       "        </tr>\n",
       "        <tr>\n",
       "            <td>Hispanic </td> <td>0.12    </td> <td>0.08  </td> <td>0.121817     </td>\n",
       "        </tr>\n",
       "        <tr>\n",
       "            <td>Other    </td> <td>0.01    </td> <td>0.04  </td> <td>0.00688231   </td>\n",
       "        </tr>\n",
       "    </tbody>\n",
       "</table>"
      ],
      "text/plain": [
       "Ethnicity | Eligible | Panels | Random Sample\n",
       "Asian/PI  | 0.15     | 0.26   | 0.165175\n",
       "Black/AA  | 0.18     | 0.08   | 0.17894\n",
       "Caucasian | 0.54     | 0.54   | 0.527185\n",
       "Hispanic  | 0.12     | 0.08   | 0.121817\n",
       "Other     | 0.01     | 0.04   | 0.00688231"
      ]
     },
     "execution_count": 21,
     "metadata": {},
     "output_type": "execute_result"
    }
   ],
   "source": [
    "jury_with_sample = jury.with_column(\"Random Sample\", sample_proportions(1453, jury.column(\"Eligible\")))\n",
    "jury_with_sample"
   ]
  },
  {
   "cell_type": "code",
   "execution_count": 22,
   "id": "c6691cb4-e524-4598-9f29-d82aca1d1aa9",
   "metadata": {},
   "outputs": [
    {
     "data": {
      "image/png": "[encoded data removed]",
      "text/plain": [
       "<Figure size 600x400 with 1 Axes>"
      ]
     },
     "metadata": {},
     "output_type": "display_data"
    }
   ],
   "source": [
    "jury_with_sample.barh(\"Ethnicity\")"
   ]
  },
  {
   "cell_type": "markdown",
   "id": "01d7dfa7-8233-43e5-a201-3ab9d0cdc0ba",
   "metadata": {},
   "source": [
    "<br>"
   ]
  },
  {
   "cell_type": "markdown",
   "id": "0afee709-ad87-484d-8199-fc184efd23ef",
   "metadata": {},
   "source": [
    "---"
   ]
  },
  {
   "cell_type": "markdown",
   "id": "32385380-1509-4dc5-a19e-302b534d669a",
   "metadata": {},
   "source": [
    "- ### 선정된 패널과 무작위 표본의 TVD 비교\n",
    "    - #### TVD (거리 차의 합)\n",
    "        - #### 차이의 절댓값의 합 // 2\n",
    "        - #### 차이가 양수인 값들의 합"
   ]
  },
  {
   "cell_type": "markdown",
   "id": "d3b37b90-3643-47cd-8390-413ea120677c",
   "metadata": {},
   "source": [
    "<br>"
   ]
  },
  {
   "cell_type": "markdown",
   "id": "e5857e57-17f0-4218-bbc0-8775533e0111",
   "metadata": {},
   "source": [
    "- #### 선정된 패널의 TVD"
   ]
  },
  {
   "cell_type": "code",
   "execution_count": 28,
   "id": "f931370f-c4f2-4e9e-a904-ad4ea3654679",
   "metadata": {},
   "outputs": [
    {
     "data": {
      "text/html": [
       "<table border=\"1\" class=\"dataframe\">\n",
       "    <thead>\n",
       "        <tr>\n",
       "            <th>Ethnicity</th> <th>Eligible</th> <th>Panels</th> <th>Absolute Difference</th>\n",
       "        </tr>\n",
       "    </thead>\n",
       "    <tbody>\n",
       "        <tr>\n",
       "            <td>Asian/PI </td> <td>0.15    </td> <td>0.26  </td> <td>0.11               </td>\n",
       "        </tr>\n",
       "        <tr>\n",
       "            <td>Black/AA </td> <td>0.18    </td> <td>0.08  </td> <td>0.1                </td>\n",
       "        </tr>\n",
       "        <tr>\n",
       "            <td>Caucasian</td> <td>0.54    </td> <td>0.54  </td> <td>0                  </td>\n",
       "        </tr>\n",
       "        <tr>\n",
       "            <td>Hispanic </td> <td>0.12    </td> <td>0.08  </td> <td>0.04               </td>\n",
       "        </tr>\n",
       "        <tr>\n",
       "            <td>Other    </td> <td>0.01    </td> <td>0.04  </td> <td>0.03               </td>\n",
       "        </tr>\n",
       "    </tbody>\n",
       "</table>"
      ],
      "text/plain": [
       "Ethnicity | Eligible | Panels | Absolute Difference\n",
       "Asian/PI  | 0.15     | 0.26   | 0.11\n",
       "Black/AA  | 0.18     | 0.08   | 0.1\n",
       "Caucasian | 0.54     | 0.54   | 0\n",
       "Hispanic  | 0.12     | 0.08   | 0.04\n",
       "Other     | 0.01     | 0.04   | 0.03"
      ]
     },
     "execution_count": 28,
     "metadata": {},
     "output_type": "execute_result"
    }
   ],
   "source": [
    "jury_with_diff = jury.with_column(\"Absolute Difference\", np.abs(jury.column(\"Panels\") - jury.column(\"Eligible\")))\n",
    "jury_with_diff"
   ]
  },
  {
   "cell_type": "code",
   "execution_count": 29,
   "id": "4f9aefa4-f905-4b69-a0a0-3dc347979f3a",
   "metadata": {},
   "outputs": [
    {
     "data": {
      "text/plain": [
       "0.14000000000000001"
      ]
     },
     "execution_count": 29,
     "metadata": {},
     "output_type": "execute_result"
    }
   ],
   "source": [
    "np.sum(jury_with_diff.column(\"Absolute Difference\")) / 2"
   ]
  },
  {
   "cell_type": "markdown",
   "id": "e8b79b4c-8bc5-44e9-8d9d-3bf62bfb3e55",
   "metadata": {},
   "source": [
    "<br>"
   ]
  },
  {
   "cell_type": "markdown",
   "id": "5073fad4-b3a2-43b4-addf-ecc636d45e09",
   "metadata": {},
   "source": [
    "- #### 1453개의 무작위 샘플에 대한 TVD를 5000번 시뮬레이션\n",
    "    - <h4 style=\"color: red;\">0.14의 TVD를 가지는 패널리스트의 분포는 적절하지 않음</h4>"
   ]
  },
  {
   "cell_type": "code",
   "execution_count": 53,
   "id": "c140175e-b9e3-44c7-a11a-b17c92afbd6d",
   "metadata": {},
   "outputs": [
    {
     "data": {
      "text/plain": [
       "<matplotlib.collections.PathCollection at 0x1fff542ead0>"
      ]
     },
     "execution_count": 53,
     "metadata": {},
     "output_type": "execute_result"
    },
    {
     "data": {
      "image/png": "[encoded data removed]",
      "text/plain": [
       "<Figure size 600x400 with 1 Axes>"
      ]
     },
     "metadata": {},
     "output_type": "display_data"
    }
   ],
   "source": [
    "def one_simulated_tvd():\n",
    "    return np.sum(np.abs(sample_proportions(1453, jury.column(\"Eligible\")) - jury.column(\"Eligible\"))) / 2\n",
    "\n",
    "tvds = make_array()\n",
    "for _ in range(5000):\n",
    "    tvds = np.append(tvds, one_simulated_tvd())\n",
    "\n",
    "Table().with_column(\"TVD\", tvds).hist(bins=np.arange(0, 0.2, 0.005))\n",
    "plt.xlim(0)\n",
    "plt.ylim(-5)\n",
    "plt.scatter(0.14, 0, color=\"red\", s=30)"
   ]
  }
 ],
 "metadata": {
  "kernelspec": {
   "display_name": "Python 3 (ipykernel)",
   "language": "python",
   "name": "python3"
  },
  "language_info": {
   "codemirror_mode": {
    "name": "ipython",
    "version": 3
   },
   "file_extension": ".py",
   "mimetype": "text/x-python",
   "name": "python",
   "nbconvert_exporter": "python",
   "pygments_lexer": "ipython3",
   "version": "3.10.13"
  }
 },
 "nbformat": 4,
 "nbformat_minor": 5
}
