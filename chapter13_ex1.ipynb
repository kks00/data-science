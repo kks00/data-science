{
 "cells": [
  {
   "cell_type": "code",
   "execution_count": 1,
   "id": "1359e5a7-7b2c-4582-8406-4e9e2ba90681",
   "metadata": {},
   "outputs": [],
   "source": [
    "from datascience import *\n",
    "import numpy as np\n",
    "import matplotlib.pyplot as plt\n",
    "%matplotlib inline"
   ]
  },
  {
   "cell_type": "markdown",
   "id": "10102b9b-097e-428f-b5cf-e8db4c68c388",
   "metadata": {},
   "source": [
    "---"
   ]
  },
  {
   "cell_type": "code",
   "execution_count": 75,
   "id": "b52541e7-7d50-4e4d-b80c-7749ea5157da",
   "metadata": {},
   "outputs": [
    {
     "data": {
      "text/html": [
       "<table border=\"1\" class=\"dataframe\">\n",
       "    <thead>\n",
       "        <tr>\n",
       "            <th>Team</th> <th>Blakeman</th> <th>Prioleau</th>\n",
       "        </tr>\n",
       "    </thead>\n",
       "    <tbody>\n",
       "        <tr>\n",
       "            <td>Patriots</td> <td>11.5    </td> <td>11.8    </td>\n",
       "        </tr>\n",
       "        <tr>\n",
       "            <td>Patriots</td> <td>10.85   </td> <td>11.2    </td>\n",
       "        </tr>\n",
       "        <tr>\n",
       "            <td>Patriots</td> <td>11.15   </td> <td>11.5    </td>\n",
       "        </tr>\n",
       "        <tr>\n",
       "            <td>Patriots</td> <td>10.7    </td> <td>11      </td>\n",
       "        </tr>\n",
       "        <tr>\n",
       "            <td>Patriots</td> <td>11.1    </td> <td>11.45   </td>\n",
       "        </tr>\n",
       "        <tr>\n",
       "            <td>Patriots</td> <td>11.6    </td> <td>11.95   </td>\n",
       "        </tr>\n",
       "        <tr>\n",
       "            <td>Patriots</td> <td>11.85   </td> <td>12.3    </td>\n",
       "        </tr>\n",
       "        <tr>\n",
       "            <td>Patriots</td> <td>11.1    </td> <td>11.55   </td>\n",
       "        </tr>\n",
       "        <tr>\n",
       "            <td>Patriots</td> <td>10.95   </td> <td>11.35   </td>\n",
       "        </tr>\n",
       "        <tr>\n",
       "            <td>Patriots</td> <td>10.5    </td> <td>10.9    </td>\n",
       "        </tr>\n",
       "        <tr>\n",
       "            <td>Patriots</td> <td>10.9    </td> <td>11.35   </td>\n",
       "        </tr>\n",
       "        <tr>\n",
       "            <td>Colts   </td> <td>12.7    </td> <td>12.35   </td>\n",
       "        </tr>\n",
       "        <tr>\n",
       "            <td>Colts   </td> <td>12.75   </td> <td>12.3    </td>\n",
       "        </tr>\n",
       "        <tr>\n",
       "            <td>Colts   </td> <td>12.5    </td> <td>12.95   </td>\n",
       "        </tr>\n",
       "        <tr>\n",
       "            <td>Colts   </td> <td>12.55   </td> <td>12.15   </td>\n",
       "        </tr>\n",
       "    </tbody>\n",
       "</table>"
      ],
      "text/plain": [
       "<IPython.core.display.HTML object>"
      ]
     },
     "metadata": {},
     "output_type": "display_data"
    }
   ],
   "source": [
    "football = Table.read_table(\"./csv4/deflategate.csv\")\n",
    "football.show()"
   ]
  },
  {
   "cell_type": "markdown",
   "id": "e1238705-0bbe-4f05-b4ef-23eac850bb7f",
   "metadata": {},
   "source": [
    "- ### 두 측정의 평균을 각 공에 할당"
   ]
  },
  {
   "cell_type": "code",
   "execution_count": 76,
   "id": "ee8d3e2d-f66b-4442-9a29-064bedc0c3a0",
   "metadata": {},
   "outputs": [
    {
     "data": {
      "text/html": [
       "<table border=\"1\" class=\"dataframe\">\n",
       "    <thead>\n",
       "        <tr>\n",
       "            <th>Team</th> <th>Combined</th>\n",
       "        </tr>\n",
       "    </thead>\n",
       "    <tbody>\n",
       "        <tr>\n",
       "            <td>Patriots</td> <td>11.65   </td>\n",
       "        </tr>\n",
       "        <tr>\n",
       "            <td>Patriots</td> <td>11.025  </td>\n",
       "        </tr>\n",
       "        <tr>\n",
       "            <td>Patriots</td> <td>11.325  </td>\n",
       "        </tr>\n",
       "        <tr>\n",
       "            <td>Patriots</td> <td>10.85   </td>\n",
       "        </tr>\n",
       "        <tr>\n",
       "            <td>Patriots</td> <td>11.275  </td>\n",
       "        </tr>\n",
       "        <tr>\n",
       "            <td>Patriots</td> <td>11.775  </td>\n",
       "        </tr>\n",
       "        <tr>\n",
       "            <td>Patriots</td> <td>12.075  </td>\n",
       "        </tr>\n",
       "        <tr>\n",
       "            <td>Patriots</td> <td>11.325  </td>\n",
       "        </tr>\n",
       "        <tr>\n",
       "            <td>Patriots</td> <td>11.15   </td>\n",
       "        </tr>\n",
       "        <tr>\n",
       "            <td>Patriots</td> <td>10.7    </td>\n",
       "        </tr>\n",
       "        <tr>\n",
       "            <td>Patriots</td> <td>11.125  </td>\n",
       "        </tr>\n",
       "        <tr>\n",
       "            <td>Colts   </td> <td>12.525  </td>\n",
       "        </tr>\n",
       "        <tr>\n",
       "            <td>Colts   </td> <td>12.525  </td>\n",
       "        </tr>\n",
       "        <tr>\n",
       "            <td>Colts   </td> <td>12.725  </td>\n",
       "        </tr>\n",
       "        <tr>\n",
       "            <td>Colts   </td> <td>12.35   </td>\n",
       "        </tr>\n",
       "    </tbody>\n",
       "</table>"
      ],
      "text/plain": [
       "<IPython.core.display.HTML object>"
      ]
     },
     "metadata": {},
     "output_type": "display_data"
    }
   ],
   "source": [
    "football = football.select(\"Team\").with_column(\n",
    "\"Combined\", (football.column(1) + football.column(2)) / 2\n",
    ")\n",
    "football.show()"
   ]
  },
  {
   "cell_type": "markdown",
   "id": "42bc549a-8b65-4e5d-b3c0-3a63cde40b17",
   "metadata": {},
   "source": [
    "- ### 압력 감소를 확인하기 위한 초기 값 배열"
   ]
  },
  {
   "cell_type": "code",
   "execution_count": 77,
   "id": "ceac94e3-4b12-400b-a94b-e3f3163e5776",
   "metadata": {},
   "outputs": [
    {
     "data": {
      "text/plain": [
       "array([ 12.5,  12.5,  12.5,  12.5,  12.5,  12.5,  12.5,  12.5,  12.5,\n",
       "        12.5,  12.5,  13. ,  13. ,  13. ,  13. ])"
      ]
     },
     "execution_count": 77,
     "metadata": {},
     "output_type": "execute_result"
    }
   ],
   "source": [
    "patriots_start = 12.5 * np.ones(11)\n",
    "colts_start = 13 * np.ones(4)\n",
    "\n",
    "start = np.append(patriots_start, colts_start)\n",
    "start"
   ]
  },
  {
   "cell_type": "markdown",
   "id": "a245405d-c08c-4f6b-8e9d-4587ec48ad8d",
   "metadata": {},
   "source": [
    "- ### 압력 감소율을 포함한 테이블 생성"
   ]
  },
  {
   "cell_type": "code",
   "execution_count": 78,
   "id": "e6a4bff4-7ebe-4f95-aa09-b2cdafd34f16",
   "metadata": {},
   "outputs": [
    {
     "data": {
      "text/html": [
       "<table border=\"1\" class=\"dataframe\">\n",
       "    <thead>\n",
       "        <tr>\n",
       "            <th>Team</th> <th>Combined</th> <th>Pressure Drop</th>\n",
       "        </tr>\n",
       "    </thead>\n",
       "    <tbody>\n",
       "        <tr>\n",
       "            <td>Patriots</td> <td>11.65   </td> <td>0.85         </td>\n",
       "        </tr>\n",
       "        <tr>\n",
       "            <td>Patriots</td> <td>11.025  </td> <td>1.475        </td>\n",
       "        </tr>\n",
       "        <tr>\n",
       "            <td>Patriots</td> <td>11.325  </td> <td>1.175        </td>\n",
       "        </tr>\n",
       "        <tr>\n",
       "            <td>Patriots</td> <td>10.85   </td> <td>1.65         </td>\n",
       "        </tr>\n",
       "        <tr>\n",
       "            <td>Patriots</td> <td>11.275  </td> <td>1.225        </td>\n",
       "        </tr>\n",
       "        <tr>\n",
       "            <td>Patriots</td> <td>11.775  </td> <td>0.725        </td>\n",
       "        </tr>\n",
       "        <tr>\n",
       "            <td>Patriots</td> <td>12.075  </td> <td>0.425        </td>\n",
       "        </tr>\n",
       "        <tr>\n",
       "            <td>Patriots</td> <td>11.325  </td> <td>1.175        </td>\n",
       "        </tr>\n",
       "        <tr>\n",
       "            <td>Patriots</td> <td>11.15   </td> <td>1.35         </td>\n",
       "        </tr>\n",
       "        <tr>\n",
       "            <td>Patriots</td> <td>10.7    </td> <td>1.8          </td>\n",
       "        </tr>\n",
       "        <tr>\n",
       "            <td>Patriots</td> <td>11.125  </td> <td>1.375        </td>\n",
       "        </tr>\n",
       "        <tr>\n",
       "            <td>Colts   </td> <td>12.525  </td> <td>0.475        </td>\n",
       "        </tr>\n",
       "        <tr>\n",
       "            <td>Colts   </td> <td>12.525  </td> <td>0.475        </td>\n",
       "        </tr>\n",
       "        <tr>\n",
       "            <td>Colts   </td> <td>12.725  </td> <td>0.275        </td>\n",
       "        </tr>\n",
       "        <tr>\n",
       "            <td>Colts   </td> <td>12.35   </td> <td>0.65         </td>\n",
       "        </tr>\n",
       "    </tbody>\n",
       "</table>"
      ],
      "text/plain": [
       "<IPython.core.display.HTML object>"
      ]
     },
     "metadata": {},
     "output_type": "display_data"
    }
   ],
   "source": [
    "football = football.with_column(\n",
    "    \"Pressure Drop\", start - football.column(1)\n",
    ")\n",
    "football.show()"
   ]
  },
  {
   "cell_type": "markdown",
   "id": "35f81020-4f4d-4074-89fc-53cdafba3701",
   "metadata": {},
   "source": [
    "- ### 두 그룹 각각의 평균 하락"
   ]
  },
  {
   "cell_type": "code",
   "execution_count": 79,
   "id": "e03afff5-0174-4cbd-ab98-0776db3392af",
   "metadata": {},
   "outputs": [
    {
     "data": {
      "text/html": [
       "<table border=\"1\" class=\"dataframe\">\n",
       "    <thead>\n",
       "        <tr>\n",
       "            <th>Team</th> <th>Pressure Drop average</th>\n",
       "        </tr>\n",
       "    </thead>\n",
       "    <tbody>\n",
       "        <tr>\n",
       "            <td>Colts   </td> <td>0.46875              </td>\n",
       "        </tr>\n",
       "        <tr>\n",
       "            <td>Patriots</td> <td>1.20227              </td>\n",
       "        </tr>\n",
       "    </tbody>\n",
       "</table>"
      ],
      "text/plain": [
       "Team     | Pressure Drop average\n",
       "Colts    | 0.46875\n",
       "Patriots | 1.20227"
      ]
     },
     "execution_count": 79,
     "metadata": {},
     "output_type": "execute_result"
    }
   ],
   "source": [
    "football_avg = football.group(\"Team\", np.average).drop(1)\n",
    "football_avg"
   ]
  },
  {
   "cell_type": "markdown",
   "id": "7a93d68e-6c8f-490c-b8bc-6cd3417830e5",
   "metadata": {},
   "source": [
    "- ### 두 그룹의 평균 하락 차이 = 관측값"
   ]
  },
  {
   "cell_type": "code",
   "execution_count": 95,
   "id": "902c0f1f-69c2-4509-b4b0-de5350a1af3d",
   "metadata": {},
   "outputs": [
    {
     "data": {
      "text/plain": [
       "-0.73352272727272805"
      ]
     },
     "execution_count": 95,
     "metadata": {},
     "output_type": "execute_result"
    }
   ],
   "source": [
    "orig_distance = football_avg.column(1).take(0) - football_avg.column(1).take(1)\n",
    "orig_distance"
   ]
  },
  {
   "cell_type": "markdown",
   "id": "1cfb0be6-0af7-41ce-91db-22b7a3cea403",
   "metadata": {},
   "source": [
    "<br>"
   ]
  },
  {
   "cell_type": "markdown",
   "id": "6a0e0f40-6654-428b-8eb2-d673f4702379",
   "metadata": {},
   "source": [
    "- #### 귀무가설: 압력 감소 차이 없음\n",
    "- #### 대립가설: 압력 감소 차이 있음"
   ]
  },
  {
   "cell_type": "markdown",
   "id": "29ae27a7-c349-419a-a7e8-90c0db0ff3ba",
   "metadata": {},
   "source": [
    "<br>\n",
    "\n",
    "- ### 팀 셔플하여 배치"
   ]
  },
  {
   "cell_type": "code",
   "execution_count": 81,
   "id": "d50e8448-3518-47f1-a000-8a4ee11ff801",
   "metadata": {},
   "outputs": [
    {
     "data": {
      "text/html": [
       "<table border=\"1\" class=\"dataframe\">\n",
       "    <thead>\n",
       "        <tr>\n",
       "            <th>Shuffled Team</th> <th>Pressure Drop</th>\n",
       "        </tr>\n",
       "    </thead>\n",
       "    <tbody>\n",
       "        <tr>\n",
       "            <td>Colts        </td> <td>0.85         </td>\n",
       "        </tr>\n",
       "        <tr>\n",
       "            <td>Colts        </td> <td>1.475        </td>\n",
       "        </tr>\n",
       "        <tr>\n",
       "            <td>Patriots     </td> <td>1.175        </td>\n",
       "        </tr>\n",
       "        <tr>\n",
       "            <td>Patriots     </td> <td>1.65         </td>\n",
       "        </tr>\n",
       "        <tr>\n",
       "            <td>Patriots     </td> <td>1.225        </td>\n",
       "        </tr>\n",
       "        <tr>\n",
       "            <td>Patriots     </td> <td>0.725        </td>\n",
       "        </tr>\n",
       "        <tr>\n",
       "            <td>Colts        </td> <td>0.425        </td>\n",
       "        </tr>\n",
       "        <tr>\n",
       "            <td>Patriots     </td> <td>1.175        </td>\n",
       "        </tr>\n",
       "        <tr>\n",
       "            <td>Patriots     </td> <td>1.35         </td>\n",
       "        </tr>\n",
       "        <tr>\n",
       "            <td>Patriots     </td> <td>1.8          </td>\n",
       "        </tr>\n",
       "    </tbody>\n",
       "</table>\n",
       "<p>... (5 rows omitted)</p>"
      ],
      "text/plain": [
       "Shuffled Team | Pressure Drop\n",
       "Colts         | 0.85\n",
       "Colts         | 1.475\n",
       "Patriots      | 1.175\n",
       "Patriots      | 1.65\n",
       "Patriots      | 1.225\n",
       "Patriots      | 0.725\n",
       "Colts         | 0.425\n",
       "Patriots      | 1.175\n",
       "Patriots      | 1.35\n",
       "Patriots      | 1.8\n",
       "... (5 rows omitted)"
      ]
     },
     "execution_count": 81,
     "metadata": {},
     "output_type": "execute_result"
    }
   ],
   "source": [
    "def table_with_shuffled():\n",
    "    teams = football.sample(with_replacement=False).column(0)\n",
    "    return football.with_column(\"Shuffled Team\", teams).select((3, 2))\n",
    "\n",
    "table_with_shuffled()"
   ]
  },
  {
   "cell_type": "markdown",
   "id": "62bda5bd-6c4c-49d1-ab58-f1209d0362cb",
   "metadata": {},
   "source": [
    "- ### 무작위로 배치된 상태의 평균 차이"
   ]
  },
  {
   "cell_type": "code",
   "execution_count": 92,
   "id": "a954e6fe-a66d-4d0e-af0f-992852a13a9f",
   "metadata": {},
   "outputs": [
    {
     "data": {
      "text/plain": [
       "-0.060227272727272352"
      ]
     },
     "execution_count": 92,
     "metadata": {},
     "output_type": "execute_result"
    }
   ],
   "source": [
    "def one_simulated_distance():\n",
    "    table = table_with_shuffled()\n",
    "    table = table.group(\"Shuffled Team\", np.average)\n",
    "    return table.column(1).take(0) - table.column(1).take(1)\n",
    "\n",
    "one_simulated_distance()"
   ]
  },
  {
   "cell_type": "markdown",
   "id": "6c4456ec-76f2-41fe-a472-adc5ac7c7d5b",
   "metadata": {},
   "source": [
    "- ### 10000번 시뮬레이션 한 결과"
   ]
  },
  {
   "cell_type": "code",
   "execution_count": 93,
   "id": "e5ba3260-197f-4264-8f6e-7dec0c91c6be",
   "metadata": {},
   "outputs": [],
   "source": [
    "distances = make_array()\n",
    "for _ in range(10000):\n",
    "    distances = np.append(distances, one_simulated_distance())"
   ]
  },
  {
   "cell_type": "code",
   "execution_count": 96,
   "id": "de5e5468-c283-4f1d-b33b-b1ac18562702",
   "metadata": {},
   "outputs": [
    {
     "data": {
      "image/png": "[encoded data removed]",
      "text/plain": [
       "<Figure size 600x400 with 1 Axes>"
      ]
     },
     "metadata": {},
     "output_type": "display_data"
    }
   ],
   "source": [
    "Table().with_column(\"distances\", distances).hist(right_end=orig_distance)"
   ]
  },
  {
   "cell_type": "markdown",
   "id": "13745274-066f-4a35-a3b0-f6d98ea101ed",
   "metadata": {},
   "source": [
    "- ### P-Value\n",
    "    - ### 관측값은 히스토그램의 꼬리에 위치하므로 대립가설을 채택하여야 함"
   ]
  },
  {
   "cell_type": "code",
   "execution_count": 97,
   "id": "c38a6508-1b87-4aeb-b77b-3e0849de83f4",
   "metadata": {},
   "outputs": [
    {
     "data": {
      "text/plain": [
       "0.0033"
      ]
     },
     "execution_count": 97,
     "metadata": {},
     "output_type": "execute_result"
    }
   ],
   "source": [
    "np.count_nonzero(distances <= orig_distance) / 10000"
   ]
  }
 ],
 "metadata": {
  "kernelspec": {
   "display_name": "Python 3 (ipykernel)",
   "language": "python",
   "name": "python3"
  },
  "language_info": {
   "codemirror_mode": {
    "name": "ipython",
    "version": 3
   },
   "file_extension": ".py",
   "mimetype": "text/x-python",
   "name": "python",
   "nbconvert_exporter": "python",
   "pygments_lexer": "ipython3",
   "version": "3.10.13"
  }
 },
 "nbformat": 4,
 "nbformat_minor": 5
}
