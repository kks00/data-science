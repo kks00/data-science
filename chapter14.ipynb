{
 "cells": [
  {
   "cell_type": "code",
   "execution_count": 1,
   "id": "9137eb4e-3435-4415-9bdd-dd70890049dc",
   "metadata": {},
   "outputs": [],
   "source": [
    "from datascience import *\n",
    "import numpy as np\n",
    "import matplotlib.pyplot as plt\n",
    "%matplotlib inline"
   ]
  },
  {
   "cell_type": "markdown",
   "id": "d7ed64ff-7f96-4ec6-ac47-200208b8c869",
   "metadata": {},
   "source": [
    "---"
   ]
  },
  {
   "cell_type": "markdown",
   "id": "fc4a6ecd-cc8a-48aa-84e3-cab7d3dc78fc",
   "metadata": {},
   "source": [
    "- ## Estimation(추정)"
   ]
  },
  {
   "cell_type": "markdown",
   "id": "0f6b030f-94c8-4904-909d-982377e089ae",
   "metadata": {},
   "source": [
    "---"
   ]
  },
  {
   "cell_type": "markdown",
   "id": "b3503a39-edb2-4f66-b949-f0fcb4ca28ed",
   "metadata": {},
   "source": [
    "- ## Percentiles (백분위 수)\n",
    "    - #### 숫자 데이터를 정렬했을 때 특정 순위의 값\n",
    "    - #### 과정\n",
    "        - #### 1. 오름차순으로 집합 원소 정렬\n",
    "        - ### 2. $k = \\frac{p}{100} * n$\n",
    "            - #### 정수이면 정렬된 집합의 k번째 요소\n",
    "            - #### 정수가 아니면 올림하고 정렬된 집합의 k번째 요소"
   ]
  },
  {
   "cell_type": "markdown",
   "id": "aca79ae5-47f3-4dc5-a149-8893150505f2",
   "metadata": {},
   "source": [
    "<br><br>\n",
    "\n",
    "- ### 70번째 백분위 수\n",
    "\n",
    "<br>\n",
    "\n",
    "- #### 1. 5개 중 70%는 3.5개 요소이므로 4번째 요소를 취함 => 12"
   ]
  },
  {
   "cell_type": "code",
   "execution_count": 2,
   "id": "9af71e41-56b1-443c-9ae1-4f7efd1d10d3",
   "metadata": {},
   "outputs": [
    {
     "data": {
      "text/plain": [
       "array([ 6,  7,  9, 12, 17], dtype=int64)"
      ]
     },
     "execution_count": 2,
     "metadata": {},
     "output_type": "execute_result"
    }
   ],
   "source": [
    "sizes = make_array(12, 17, 6, 9, 7)\n",
    "sizes = np.sort(sizes)\n",
    "sizes"
   ]
  },
  {
   "cell_type": "markdown",
   "id": "5732329f-d4e5-40f7-90be-1ac0dafaf752",
   "metadata": {},
   "source": [
    "- #### 2. percentile(rank, 배열) 함수\n",
    "    - #### 배열에 일치하는 백분위 수를 반환"
   ]
  },
  {
   "cell_type": "code",
   "execution_count": 3,
   "id": "1f34e611-ce8b-4758-a9cf-2a7d60500c18",
   "metadata": {},
   "outputs": [
    {
     "data": {
      "text/plain": [
       "12"
      ]
     },
     "execution_count": 3,
     "metadata": {},
     "output_type": "execute_result"
    }
   ],
   "source": [
    "percentile(70, sizes)"
   ]
  },
  {
   "cell_type": "markdown",
   "id": "b1d283cb-d3e7-4bc9-bdba-b4b15eeb9cf3",
   "metadata": {},
   "source": [
    "<br><br>\n",
    "\n",
    "- ### 359명의 중간고사 점수 분포에서 85번째 백분위 수 찾기"
   ]
  },
  {
   "cell_type": "code",
   "execution_count": 5,
   "id": "0a9ca322-fa0a-481a-87a0-9e9684845ea9",
   "metadata": {},
   "outputs": [
    {
     "data": {
      "text/html": [
       "<table border=\"1\" class=\"dataframe\">\n",
       "    <thead>\n",
       "        <tr>\n",
       "            <th>Section</th> <th>Midterm</th>\n",
       "        </tr>\n",
       "    </thead>\n",
       "    <tbody>\n",
       "        <tr>\n",
       "            <td>1      </td> <td>22     </td>\n",
       "        </tr>\n",
       "        <tr>\n",
       "            <td>2      </td> <td>12     </td>\n",
       "        </tr>\n",
       "        <tr>\n",
       "            <td>2      </td> <td>23     </td>\n",
       "        </tr>\n",
       "        <tr>\n",
       "            <td>2      </td> <td>14     </td>\n",
       "        </tr>\n",
       "        <tr>\n",
       "            <td>1      </td> <td>20     </td>\n",
       "        </tr>\n",
       "        <tr>\n",
       "            <td>3      </td> <td>25     </td>\n",
       "        </tr>\n",
       "        <tr>\n",
       "            <td>4      </td> <td>19     </td>\n",
       "        </tr>\n",
       "        <tr>\n",
       "            <td>1      </td> <td>24     </td>\n",
       "        </tr>\n",
       "        <tr>\n",
       "            <td>5      </td> <td>8      </td>\n",
       "        </tr>\n",
       "        <tr>\n",
       "            <td>6      </td> <td>14     </td>\n",
       "        </tr>\n",
       "    </tbody>\n",
       "</table>\n",
       "<p>... (349 rows omitted)</p>"
      ],
      "text/plain": [
       "Section | Midterm\n",
       "1       | 22\n",
       "2       | 12\n",
       "2       | 23\n",
       "2       | 14\n",
       "1       | 20\n",
       "3       | 25\n",
       "4       | 19\n",
       "1       | 24\n",
       "5       | 8\n",
       "6       | 14\n",
       "... (349 rows omitted)"
      ]
     },
     "execution_count": 5,
     "metadata": {},
     "output_type": "execute_result"
    }
   ],
   "source": [
    "scores_and_sections = Table.read_table(\"./csv/scores_by_section.csv\")\n",
    "scores = scores_and_sections.column(1)\n",
    "scores_and_sections"
   ]
  },
  {
   "cell_type": "markdown",
   "id": "6238e8d7-2a25-464a-b41b-705d26344a19",
   "metadata": {},
   "source": [
    "- #### 1. percentile 사용"
   ]
  },
  {
   "cell_type": "code",
   "execution_count": 5,
   "id": "02014370-32d0-4a96-89c5-87b206dc23c1",
   "metadata": {},
   "outputs": [
    {
     "data": {
      "text/plain": [
       "22"
      ]
     },
     "execution_count": 5,
     "metadata": {},
     "output_type": "execute_result"
    }
   ],
   "source": [
    "percentile(85, scores_and_sections.column(1))"
   ]
  },
  {
   "cell_type": "markdown",
   "id": "91cafecb-7313-471d-bc2d-c58bc7577f6d",
   "metadata": {},
   "source": [
    "- #### 2. k 사용"
   ]
  },
  {
   "cell_type": "code",
   "execution_count": 10,
   "id": "892ca5c8-8d13-4b70-8b04-e4ff16f94f25",
   "metadata": {},
   "outputs": [
    {
     "data": {
      "text/plain": [
       "305"
      ]
     },
     "execution_count": 10,
     "metadata": {},
     "output_type": "execute_result"
    }
   ],
   "source": [
    "sorted_scores = np.sort(scores_and_sections.column(1))\n",
    "k = (85 / 100) * scores_and_sections.num_rows\n",
    "k = round(k)\n",
    "k"
   ]
  },
  {
   "cell_type": "code",
   "execution_count": 11,
   "id": "01693fd9-56d3-44a6-a3f1-99a3b56d55f7",
   "metadata": {},
   "outputs": [
    {
     "data": {
      "text/plain": [
       "22"
      ]
     },
     "execution_count": 11,
     "metadata": {},
     "output_type": "execute_result"
    }
   ],
   "source": [
    "sorted_scores.item(k)"
   ]
  },
  {
   "cell_type": "markdown",
   "id": "f09f884f-7e22-4717-a56d-73c32672c559",
   "metadata": {},
   "source": [
    "- #### 22 이상의 전체 비율"
   ]
  },
  {
   "cell_type": "code",
   "execution_count": 15,
   "id": "4b6122be-da1a-4a07-a1f3-9d2c5c050f6c",
   "metadata": {},
   "outputs": [
    {
     "data": {
      "text/plain": [
       "0.17270194986072424"
      ]
     },
     "execution_count": 15,
     "metadata": {},
     "output_type": "execute_result"
    }
   ],
   "source": [
    "np.count_nonzero(sorted_scores >= 22) / scores_and_sections.num_rows"
   ]
  },
  {
   "cell_type": "markdown",
   "id": "eb1fc5e1-2d80-4660-8d95-0c35934b8787",
   "metadata": {},
   "source": [
    "---"
   ]
  },
  {
   "cell_type": "markdown",
   "id": "dc8ba3b7-fd86-45f2-8c61-7ce961742fa1",
   "metadata": {},
   "source": [
    "- ## 사분위 수"
   ]
  },
  {
   "cell_type": "markdown",
   "id": "cf06da14-0e88-46a0-8c9b-261e773b68e5",
   "metadata": {},
   "source": [
    "- #### 상위 20퍼센트는 모두 20점 이상임"
   ]
  },
  {
   "cell_type": "code",
   "execution_count": 6,
   "id": "f8dbaca5-80c9-474c-ae22-83655084dda5",
   "metadata": {},
   "outputs": [
    {
     "data": {
      "text/plain": [
       "20"
      ]
     },
     "execution_count": 6,
     "metadata": {},
     "output_type": "execute_result"
    }
   ],
   "source": [
    "percentile(75, scores)"
   ]
  },
  {
   "cell_type": "markdown",
   "id": "24c49db3-1b05-411f-991f-4c053997ad58",
   "metadata": {},
   "source": [
    "---"
   ]
  },
  {
   "cell_type": "markdown",
   "id": "fdbef9e4-ec9c-47dd-a2ad-be068d488e2b",
   "metadata": {},
   "source": [
    "- ## Bootstrap\n",
    "    - ### 샘플로 모집단의 매개변수 값 추정하기 위한 목적\n",
    "    - ### 전수조사 하기 힘들기 때문\n",
    "\n",
    "    <br>\n",
    "    \n",
    "    - ### 모잡단에서 추출한 표본에 대한 데이터 중 1개만 가지고있는 상황\n",
    "    - ### 가지고 있는 샘플에서 새로운 무작위 샘플 생성"
   ]
  },
  {
   "cell_type": "markdown",
   "id": "8cabada6-08e4-47f6-a2f3-21160267d8a4",
   "metadata": {},
   "source": [
    "<br><br>"
   ]
  },
  {
   "cell_type": "markdown",
   "id": "d00d020e-dca7-4c11-abd5-3b9a0972628a",
   "metadata": {},
   "source": [
    "- ### 모집단 데이터"
   ]
  },
  {
   "cell_type": "code",
   "execution_count": 2,
   "id": "72c4a59a-2e14-4226-9aee-5528cb9d29dd",
   "metadata": {},
   "outputs": [
    {
     "data": {
      "text/html": [
       "<table border=\"1\" class=\"dataframe\">\n",
       "    <thead>\n",
       "        <tr>\n",
       "            <th>Organization Group</th> <th>Department</th> <th>Job Family</th> <th>Job</th> <th>Salary</th> <th>Overtime</th> <th>Benefits</th> <th>Total Compensation</th>\n",
       "        </tr>\n",
       "    </thead>\n",
       "    <tbody>\n",
       "        <tr>\n",
       "            <td>Public Protection </td> <td>Adult Probation</td> <td>Information Systems</td> <td>IS Trainer-Journey        </td> <td>91332 </td> <td>0       </td> <td>40059   </td> <td>131391            </td>\n",
       "        </tr>\n",
       "        <tr>\n",
       "            <td>Public Protection </td> <td>Adult Probation</td> <td>Information Systems</td> <td>IS Engineer-Assistant     </td> <td>123241</td> <td>0       </td> <td>49279   </td> <td>172520            </td>\n",
       "        </tr>\n",
       "        <tr>\n",
       "            <td>Public Protection </td> <td>Adult Probation</td> <td>Information Systems</td> <td>IS Business Analyst-Senior</td> <td>115715</td> <td>0       </td> <td>46752   </td> <td>162468            </td>\n",
       "        </tr>\n",
       "    </tbody>\n",
       "</table>\n",
       "<p>... (44522 rows omitted)</p>"
      ],
      "text/plain": [
       "<IPython.core.display.HTML object>"
      ]
     },
     "metadata": {},
     "output_type": "display_data"
    }
   ],
   "source": [
    "sf2019 = Table.read_table(\"./csv/san_francisco_2019.csv\")\n",
    "sf2019.show(3)"
   ]
  },
  {
   "cell_type": "markdown",
   "id": "380cf19c-ac07-472c-b106-a60630df898e",
   "metadata": {},
   "source": [
    "- #### 시장의 월급"
   ]
  },
  {
   "cell_type": "code",
   "execution_count": 3,
   "id": "494df678-da07-4407-a003-3ff47d694dbd",
   "metadata": {},
   "outputs": [
    {
     "data": {
      "text/html": [
       "<table border=\"1\" class=\"dataframe\">\n",
       "    <thead>\n",
       "        <tr>\n",
       "            <th>Organization Group</th> <th>Department</th> <th>Job Family</th> <th>Job</th> <th>Salary</th> <th>Overtime</th> <th>Benefits</th> <th>Total Compensation</th>\n",
       "        </tr>\n",
       "    </thead>\n",
       "    <tbody>\n",
       "        <tr>\n",
       "            <td>General Administration & Finance</td> <td>Mayor     </td> <td>Administrative & Mgmt (Unrep)</td> <td>Mayor</td> <td>342974</td> <td>0       </td> <td>98012   </td> <td>440987            </td>\n",
       "        </tr>\n",
       "    </tbody>\n",
       "</table>"
      ],
      "text/plain": [
       "Organization Group               | Department | Job Family                    | Job   | Salary | Overtime | Benefits | Total Compensation\n",
       "General Administration & Finance | Mayor      | Administrative & Mgmt (Unrep) | Mayor | 342974 | 0        | 98012    | 440987"
      ]
     },
     "execution_count": 3,
     "metadata": {},
     "output_type": "execute_result"
    }
   ],
   "source": [
    "sf2019.where(\"Job\", are.equal_to(\"Mayor\"))"
   ]
  },
  {
   "cell_type": "markdown",
   "id": "0593dd6b-5158-4570-afac-f36238941c55",
   "metadata": {},
   "source": [
    "- #### 입사한지 얼마 되지 않은 사람 제외하기 위하여 급여가 15000달러 이상인 사람만을 추출"
   ]
  },
  {
   "cell_type": "code",
   "execution_count": 4,
   "id": "4cc2bdee-30c9-4a65-9727-ba35e65a777d",
   "metadata": {},
   "outputs": [
    {
     "name": "stdout",
     "output_type": "stream",
     "text": [
      "37103\n"
     ]
    },
    {
     "data": {
      "text/html": [
       "<table border=\"1\" class=\"dataframe\">\n",
       "    <thead>\n",
       "        <tr>\n",
       "            <th>Organization Group</th> <th>Department</th> <th>Job Family</th> <th>Job</th> <th>Salary</th> <th>Overtime</th> <th>Benefits</th> <th>Total Compensation</th>\n",
       "        </tr>\n",
       "    </thead>\n",
       "    <tbody>\n",
       "        <tr>\n",
       "            <td>Public Protection </td> <td>Adult Probation</td> <td>Information Systems</td> <td>IS Trainer-Journey        </td> <td>91332 </td> <td>0       </td> <td>40059   </td> <td>131391            </td>\n",
       "        </tr>\n",
       "        <tr>\n",
       "            <td>Public Protection </td> <td>Adult Probation</td> <td>Information Systems</td> <td>IS Engineer-Assistant     </td> <td>123241</td> <td>0       </td> <td>49279   </td> <td>172520            </td>\n",
       "        </tr>\n",
       "        <tr>\n",
       "            <td>Public Protection </td> <td>Adult Probation</td> <td>Information Systems</td> <td>IS Business Analyst-Senior</td> <td>115715</td> <td>0       </td> <td>46752   </td> <td>162468            </td>\n",
       "        </tr>\n",
       "    </tbody>\n",
       "</table>\n",
       "<p>... (37100 rows omitted)</p>"
      ],
      "text/plain": [
       "<IPython.core.display.HTML object>"
      ]
     },
     "metadata": {},
     "output_type": "display_data"
    }
   ],
   "source": [
    "sf2019 = sf2019.where(\"Salary\", are.above(15000))\n",
    "print(sf2019.num_rows)\n",
    "sf2019.show(3)"
   ]
  },
  {
   "cell_type": "markdown",
   "id": "a605e6cd-63fe-44e2-a88a-c4d0ec437289",
   "metadata": {},
   "source": [
    "- #### 전체 보상 분포"
   ]
  },
  {
   "cell_type": "code",
   "execution_count": 15,
   "id": "6b93a4a6-4187-49bc-a007-d55beb90713c",
   "metadata": {},
   "outputs": [
    {
     "data": {
      "image/png": "[encoded data removed]",
      "text/plain": [
       "<Figure size 600x400 with 1 Axes>"
      ]
     },
     "metadata": {},
     "output_type": "display_data"
    }
   ],
   "source": [
    "sf2019.select(\"Total Compensation\").hist(bins=np.arange(0, 726000, 25000))"
   ]
  },
  {
   "cell_type": "markdown",
   "id": "cd487541-1235-457a-8c9f-4c7ba44aa692",
   "metadata": {},
   "source": [
    "- #### 높은 일부를 확인하기 위하여 테이블 Total Compensation 기준 내림차순으로 정렬"
   ]
  },
  {
   "cell_type": "code",
   "execution_count": 17,
   "id": "b17105a3-0a71-4994-a6b0-65d6e057ac23",
   "metadata": {},
   "outputs": [
    {
     "data": {
      "text/html": [
       "<table border=\"1\" class=\"dataframe\">\n",
       "    <thead>\n",
       "        <tr>\n",
       "            <th>Organization Group</th> <th>Department</th> <th>Job Family</th> <th>Job</th> <th>Salary</th> <th>Overtime</th> <th>Benefits</th> <th>Total Compensation</th>\n",
       "        </tr>\n",
       "    </thead>\n",
       "    <tbody>\n",
       "        <tr>\n",
       "            <td>General Administration & Finance</td> <td>Retirement Services</td> <td>Administrative & Mgmt (Unrep)</td> <td>Chief Investment Officer</td> <td>577633</td> <td>0       </td> <td>146398  </td> <td>724031            </td>\n",
       "        </tr>\n",
       "        <tr>\n",
       "            <td>General Administration & Finance</td> <td>Retirement Services</td> <td>Unassigned                   </td> <td>Managing Director       </td> <td>483072</td> <td>0       </td> <td>134879  </td> <td>617951            </td>\n",
       "        </tr>\n",
       "    </tbody>\n",
       "</table>\n",
       "<p>... (37101 rows omitted)</p>"
      ],
      "text/plain": [
       "<IPython.core.display.HTML object>"
      ]
     },
     "metadata": {},
     "output_type": "display_data"
    }
   ],
   "source": [
    "sf2019.sort(\"Total Compensation\", descending=True).show(2)"
   ]
  },
  {
   "cell_type": "markdown",
   "id": "6d2c1c8a-d774-4790-ad39-931869727a77",
   "metadata": {},
   "source": [
    "- #### 모집단 전체의 중앙값 확인"
   ]
  },
  {
   "cell_type": "code",
   "execution_count": 18,
   "id": "c564a308-85b1-430c-acdd-da6f777319e8",
   "metadata": {},
   "outputs": [
    {
     "data": {
      "text/plain": [
       "135747.0"
      ]
     },
     "execution_count": 18,
     "metadata": {},
     "output_type": "execute_result"
    }
   ],
   "source": [
    "percentile(50, sf2019.column(\"Total Compensation\"))"
   ]
  },
  {
   "cell_type": "markdown",
   "id": "a68633ac-d481-4511-ba56-1974befe77c3",
   "metadata": {},
   "source": [
    "<br>"
   ]
  },
  {
   "cell_type": "markdown",
   "id": "00f2d4f8-7f81-4225-b79b-fc9d7e081857",
   "metadata": {},
   "source": [
    "- ### 500명의 무작위 샘플의 중앙값 확인\n",
    "    - #### 평균의 원리\n",
    "        - #### 샘플 수가 클수록 모집단의 분포와 샘플의 분포 유사\n",
    "    - #### 모집단의 히스토그램과 중앙값과 유사"
   ]
  },
  {
   "cell_type": "code",
   "execution_count": 19,
   "id": "a5c37548-c429-4fa9-ba0c-f03128a3f24e",
   "metadata": {},
   "outputs": [
    {
     "data": {
      "image/png": "[encoded data removed]",
      "text/plain": [
       "<Figure size 600x400 with 1 Axes>"
      ]
     },
     "metadata": {},
     "output_type": "display_data"
    }
   ],
   "source": [
    "our_sample = sf2019.sample(500, with_replacement=False)\n",
    "our_sample.select(\"Total Compensation\").hist(bins=np.arange(0, 726000, 25000))"
   ]
  },
  {
   "cell_type": "code",
   "execution_count": 21,
   "id": "6911e68d-be5f-4985-9c64-79ef9f97ce2b",
   "metadata": {},
   "outputs": [
    {
     "data": {
      "text/plain": [
       "132257.0"
      ]
     },
     "execution_count": 21,
     "metadata": {},
     "output_type": "execute_result"
    }
   ],
   "source": [
    "percentile(50, our_sample.column(\"Total Compensation\"))"
   ]
  },
  {
   "cell_type": "markdown",
   "id": "deb47de3-e943-4444-81b4-ce3426ee2c9c",
   "metadata": {},
   "source": [
    "<br>\n",
    "\n",
    "- ### Original Sample(모집단에서 뽑은 샘플) 에서 Resample 진행\n",
    "    - #### 중복 허용하여 샘플 뽑기\n",
    "    - #### 모집단 분포와 유사"
   ]
  },
  {
   "cell_type": "code",
   "execution_count": 22,
   "id": "aa8cf54e-abfe-4bfa-bbc6-90e286f54f26",
   "metadata": {},
   "outputs": [
    {
     "data": {
      "image/png": "[encoded data removed]",
      "text/plain": [
       "<Figure size 600x400 with 1 Axes>"
      ]
     },
     "metadata": {},
     "output_type": "display_data"
    }
   ],
   "source": [
    "resample_1 = our_sample.sample()\n",
    "resample_1.select(\"Total Compensation\").hist(bins=np.arange(0, 726000, 25000))"
   ]
  },
  {
   "cell_type": "code",
   "execution_count": 23,
   "id": "63b753c1-2495-4e3b-8c84-1f07a47d335e",
   "metadata": {},
   "outputs": [
    {
     "data": {
      "text/plain": [
       "128067.0"
      ]
     },
     "execution_count": 23,
     "metadata": {},
     "output_type": "execute_result"
    }
   ],
   "source": [
    "resampled_median_1 = percentile(50, resample_1.column(\"Total Compensation\"))\n",
    "resampled_median_1"
   ]
  },
  {
   "cell_type": "markdown",
   "id": "e2c7e27e-defa-482c-8028-154aa4612fe2",
   "metadata": {},
   "source": [
    "<br>\n",
    "\n",
    "- ### 5000번 반복 실행"
   ]
  },
  {
   "cell_type": "code",
   "execution_count": 25,
   "id": "4fc3fa40-ee87-41bc-aedf-ebf86ebf11df",
   "metadata": {},
   "outputs": [
    {
     "data": {
      "text/plain": [
       "array([ 128241.,  133380.,  134884., ...,  132343.,  134684.,  132525.])"
      ]
     },
     "execution_count": 25,
     "metadata": {},
     "output_type": "execute_result"
    }
   ],
   "source": [
    "def one_bootstrap_median():\n",
    "    resample = our_sample.sample()\n",
    "    return percentile(50, resample.column(\"Total Compensation\"))\n",
    "\n",
    "bstrap_medians = make_array()\n",
    "for _ in range(5000):\n",
    "    bstrap_medians = np.append(bstrap_medians, one_bootstrap_median())\n",
    "\n",
    "bstrap_medians"
   ]
  },
  {
   "cell_type": "code",
   "execution_count": 36,
   "id": "8fb3d65f-d1ef-4854-8138-f4eb1f608245",
   "metadata": {},
   "outputs": [
    {
     "data": {
      "text/plain": [
       "<matplotlib.collections.PathCollection at 0x16e99c3f520>"
      ]
     },
     "execution_count": 36,
     "metadata": {},
     "output_type": "execute_result"
    },
    {
     "data": {
      "image/png": "[encoded data removed]",
      "text/plain": [
       "<Figure size 600x400 with 1 Axes>"
      ]
     },
     "metadata": {},
     "output_type": "display_data"
    }
   ],
   "source": [
    "resampled_medians = Table().with_column(\"Bootstrap Sample Median\", bstrap_medians)\n",
    "resampled_medians.hist(bins=np.arange(120000, 160000, 2000))\n",
    "\n",
    "orig_median = percentile(50, sf2019.column(\"Total Compensation\"))\n",
    "plt.ylim(-0.000003)\n",
    "plt.scatter(orig_median, 0, color=\"red\", s=30)"
   ]
  },
  {
   "cell_type": "markdown",
   "id": "87377575-2224-4b93-a210-97c0196646c9",
   "metadata": {},
   "source": [
    "<br>\n",
    "\n",
    "- ### 모집단의 중앙값이 리샘플의 중앙 95% 구간에 있을 확률\n",
    "    - #### 5000번 시뮬레이션 한 것의 중앙 95% 구간을 100번 추출\n",
    "    - #### 100개 중 모집단의 중앙값이 95% 구간 내 포함된 것은 몇개인가"
   ]
  },
  {
   "cell_type": "code",
   "execution_count": 17,
   "id": "60b4402d-0bb0-4c43-891c-a0237b4ec5f0",
   "metadata": {},
   "outputs": [
    {
     "data": {
      "text/html": [
       "<table border=\"1\" class=\"dataframe\">\n",
       "    <thead>\n",
       "        <tr>\n",
       "            <th>Left</th> <th>Right</th>\n",
       "        </tr>\n",
       "    </thead>\n",
       "    <tbody>\n",
       "        <tr>\n",
       "            <td>124761</td> <td>139813</td>\n",
       "        </tr>\n",
       "        <tr>\n",
       "            <td>131456</td> <td>148817</td>\n",
       "        </tr>\n",
       "        <tr>\n",
       "            <td>130106</td> <td>141175</td>\n",
       "        </tr>\n",
       "    </tbody>\n",
       "</table>\n",
       "<p>... (97 rows omitted)</p>"
      ],
      "text/plain": [
       "<IPython.core.display.HTML object>"
      ]
     },
     "metadata": {},
     "output_type": "display_data"
    }
   ],
   "source": [
    "left_ends = make_array()\n",
    "right_ends = make_array()\n",
    "\n",
    "def get_simulated_medians():\n",
    "    curr_sample = sf2019.sample(500, with_replacement=False)\n",
    "    medians = make_array()\n",
    "    for _ in range(5000):\n",
    "        curr_resample = curr_sample.sample()\n",
    "        medians = np.append(medians, percentile(50, curr_resample.column(\"Total Compensation\")))\n",
    "    return medians\n",
    "\n",
    "for _ in range(100):\n",
    "    simulated_medians = get_simulated_medians()\n",
    "    left_ends = np.append(left_ends, percentile(2.5, simulated_medians))\n",
    "    right_ends = np.append(right_ends, percentile(97.5, simulated_medians))\n",
    "\n",
    "intervals = Table().with_columns(\n",
    "    \"Left\", left_ends,\n",
    "    \"Right\", right_ends\n",
    ")\n",
    "intervals.show(3)"
   ]
  },
  {
   "cell_type": "code",
   "execution_count": 20,
   "id": "70034c59-5d5f-42ef-bab8-5731f9396088",
   "metadata": {},
   "outputs": [
    {
     "name": "stdout",
     "output_type": "stream",
     "text": [
      "모집단의 중앙값:  135747.0\n"
     ]
    },
    {
     "data": {
      "text/html": [
       "<table border=\"1\" class=\"dataframe\">\n",
       "    <thead>\n",
       "        <tr>\n",
       "            <th>Left</th> <th>Right</th>\n",
       "        </tr>\n",
       "    </thead>\n",
       "    <tbody>\n",
       "        <tr>\n",
       "            <td>124761</td> <td>139813</td>\n",
       "        </tr>\n",
       "        <tr>\n",
       "            <td>131456</td> <td>148817</td>\n",
       "        </tr>\n",
       "        <tr>\n",
       "            <td>130106</td> <td>141175</td>\n",
       "        </tr>\n",
       "        <tr>\n",
       "            <td>125799</td> <td>139041</td>\n",
       "        </tr>\n",
       "        <tr>\n",
       "            <td>133295</td> <td>143155</td>\n",
       "        </tr>\n",
       "        <tr>\n",
       "            <td>133893</td> <td>149046</td>\n",
       "        </tr>\n",
       "        <tr>\n",
       "            <td>128604</td> <td>138491</td>\n",
       "        </tr>\n",
       "        <tr>\n",
       "            <td>125388</td> <td>137780</td>\n",
       "        </tr>\n",
       "        <tr>\n",
       "            <td>130737</td> <td>143806</td>\n",
       "        </tr>\n",
       "        <tr>\n",
       "            <td>127665</td> <td>138544</td>\n",
       "        </tr>\n",
       "    </tbody>\n",
       "</table>\n",
       "<p>... (83 rows omitted)</p>"
      ],
      "text/plain": [
       "Left   | Right\n",
       "124761 | 139813\n",
       "131456 | 148817\n",
       "130106 | 141175\n",
       "125799 | 139041\n",
       "133295 | 143155\n",
       "133893 | 149046\n",
       "128604 | 138491\n",
       "125388 | 137780\n",
       "130737 | 143806\n",
       "127665 | 138544\n",
       "... (83 rows omitted)"
      ]
     },
     "execution_count": 20,
     "metadata": {},
     "output_type": "execute_result"
    }
   ],
   "source": [
    "pop_median = percentile(50, sf2019.column(\"Total Compensation\"))\n",
    "print(\"모집단의 중앙값: \", pop_median)\n",
    "\n",
    "intervals.where(\"Left\", are.below(pop_median)).where(\"Right\", are.above(pop_median))"
   ]
  },
  {
   "cell_type": "code",
   "execution_count": 22,
   "id": "d8bf656d-51d4-4440-b0c3-ba1487cdbd6b",
   "metadata": {},
   "outputs": [
    {
     "data": {
      "text/plain": [
       "93"
      ]
     },
     "execution_count": 22,
     "metadata": {},
     "output_type": "execute_result"
    }
   ],
   "source": [
    "intervals.where(\"Left\", are.below(pop_median)).where(\"Right\", are.above(pop_median)).num_rows"
   ]
  }
 ],
 "metadata": {
  "kernelspec": {
   "display_name": "Python 3 (ipykernel)",
   "language": "python",
   "name": "python3"
  },
  "language_info": {
   "codemirror_mode": {
    "name": "ipython",
    "version": 3
   },
   "file_extension": ".py",
   "mimetype": "text/x-python",
   "name": "python",
   "nbconvert_exporter": "python",
   "pygments_lexer": "ipython3",
   "version": "3.10.13"
  }
 },
 "nbformat": 4,
 "nbformat_minor": 5
}
