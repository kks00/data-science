{
 "cells": [
  {
   "cell_type": "markdown",
   "id": "7c5d750a-e1f3-40bb-a802-7e859d7c0321",
   "metadata": {},
   "source": [
    "# Chapter4 - Example 3\n",
    "\n",
    "![image](https://github.com/kks00/data-science/assets/68108664/f65d06a2-747e-4267-8ae1-02e29af3fa20)"
   ]
  },
  {
   "cell_type": "code",
   "execution_count": 39,
   "id": "0c85ad0a-b07d-4a79-a938-4ee467024f50",
   "metadata": {},
   "outputs": [],
   "source": [
    "import numpy as np\n",
    "from datascience import *"
   ]
  },
  {
   "cell_type": "markdown",
   "id": "a885f5ee-3e30-462b-ac06-46e20eb2c018",
   "metadata": {},
   "source": [
    "## URL로부터 데이터 읽어오기"
   ]
  },
  {
   "cell_type": "code",
   "execution_count": 2,
   "id": "55a8eddd-7dbe-4b28-937e-abd4b89d9a64",
   "metadata": {},
   "outputs": [
    {
     "data": {
      "text/html": [
       "<table border=\"1\" class=\"dataframe\">\n",
       "    <thead>\n",
       "        <tr>\n",
       "            <th>SEX</th> <th>AGE</th> <th>CENSUS2010POP</th> <th>ESTIMATESBASE2010</th> <th>POPESTIMATE2010</th> <th>POPESTIMATE2011</th> <th>POPESTIMATE2012</th> <th>POPESTIMATE2013</th> <th>POPESTIMATE2014</th> <th>POPESTIMATE2015</th> <th>POPESTIMATE2016</th> <th>POPESTIMATE2017</th> <th>POPESTIMATE2018</th> <th>POPESTIMATE2019</th>\n",
       "        </tr>\n",
       "    </thead>\n",
       "    <tbody>\n",
       "        <tr>\n",
       "            <td>0   </td> <td>0   </td> <td>3944153      </td> <td>3944160          </td> <td>3951430        </td> <td>3963092        </td> <td>3926570        </td> <td>3931258        </td> <td>3954787        </td> <td>3983981        </td> <td>3954773        </td> <td>3893990        </td> <td>3815343        </td> <td>3783052        </td>\n",
       "        </tr>\n",
       "        <tr>\n",
       "            <td>0   </td> <td>1   </td> <td>3978070      </td> <td>3978090          </td> <td>3957730        </td> <td>3966225        </td> <td>3977549        </td> <td>3942698        </td> <td>3948891        </td> <td>3973133        </td> <td>4002903        </td> <td>3972711        </td> <td>3908830        </td> <td>3829599        </td>\n",
       "        </tr>\n",
       "        <tr>\n",
       "            <td>0   </td> <td>2   </td> <td>4096929      </td> <td>4096939          </td> <td>4090621        </td> <td>3970654        </td> <td>3978925        </td> <td>3991740        </td> <td>3958711        </td> <td>3966321        </td> <td>3991349        </td> <td>4020045        </td> <td>3987032        </td> <td>3922044        </td>\n",
       "        </tr>\n",
       "        <tr>\n",
       "            <td>0   </td> <td>3   </td> <td>4119040      </td> <td>4119051          </td> <td>4111688        </td> <td>4101644        </td> <td>3981531        </td> <td>3991017        </td> <td>4005928        </td> <td>3974351        </td> <td>3982984        </td> <td>4006946        </td> <td>4033038        </td> <td>3998665        </td>\n",
       "        </tr>\n",
       "        <tr>\n",
       "            <td>0   </td> <td>4   </td> <td>4063170      </td> <td>4063186          </td> <td>4077346        </td> <td>4121488        </td> <td>4111490        </td> <td>3992502        </td> <td>4004032        </td> <td>4020292        </td> <td>3989750        </td> <td>3997280        </td> <td>4018719        </td> <td>4043323        </td>\n",
       "        </tr>\n",
       "        <tr>\n",
       "            <td>0   </td> <td>5   </td> <td>4056858      </td> <td>4056872          </td> <td>4064521        </td> <td>4087054        </td> <td>4131049        </td> <td>4121876        </td> <td>4004576        </td> <td>4017589        </td> <td>4035033        </td> <td>4003452        </td> <td>4008443        </td> <td>4028281        </td>\n",
       "        </tr>\n",
       "        <tr>\n",
       "            <td>0   </td> <td>6   </td> <td>4066381      </td> <td>4066412          </td> <td>4072904        </td> <td>4074531        </td> <td>4096631        </td> <td>4141126        </td> <td>4133372        </td> <td>4017388        </td> <td>4031568        </td> <td>4048018        </td> <td>4014057        </td> <td>4017227        </td>\n",
       "        </tr>\n",
       "        <tr>\n",
       "            <td>0   </td> <td>7   </td> <td>4030579      </td> <td>4030594          </td> <td>4042990        </td> <td>4082821        </td> <td>4084175        </td> <td>4106756        </td> <td>4152666        </td> <td>4145872        </td> <td>4030888        </td> <td>4044139        </td> <td>4058370        </td> <td>4022319        </td>\n",
       "        </tr>\n",
       "        <tr>\n",
       "            <td>0   </td> <td>8   </td> <td>4046486      </td> <td>4046497          </td> <td>4025501        </td> <td>4052773        </td> <td>4092559        </td> <td>4094513        </td> <td>4118349        </td> <td>4165033        </td> <td>4158848        </td> <td>4042924        </td> <td>4054236        </td> <td>4066194        </td>\n",
       "        </tr>\n",
       "        <tr>\n",
       "            <td>0   </td> <td>9   </td> <td>4148353      </td> <td>4148369          </td> <td>4125312        </td> <td>4035319        </td> <td>4062726        </td> <td>4103052        </td> <td>4106068        </td> <td>4130887        </td> <td>4177895        </td> <td>4170813        </td> <td>4053179        </td> <td>4061874        </td>\n",
       "        </tr>\n",
       "    </tbody>\n",
       "</table>\n",
       "<p>... (296 rows omitted)</p>"
      ],
      "text/plain": [
       "SEX  | AGE  | CENSUS2010POP | ESTIMATESBASE2010 | POPESTIMATE2010 | POPESTIMATE2011 | POPESTIMATE2012 | POPESTIMATE2013 | POPESTIMATE2014 | POPESTIMATE2015 | POPESTIMATE2016 | POPESTIMATE2017 | POPESTIMATE2018 | POPESTIMATE2019\n",
       "0    | 0    | 3944153       | 3944160           | 3951430         | 3963092         | 3926570         | 3931258         | 3954787         | 3983981         | 3954773         | 3893990         | 3815343         | 3783052\n",
       "0    | 1    | 3978070       | 3978090           | 3957730         | 3966225         | 3977549         | 3942698         | 3948891         | 3973133         | 4002903         | 3972711         | 3908830         | 3829599\n",
       "0    | 2    | 4096929       | 4096939           | 4090621         | 3970654         | 3978925         | 3991740         | 3958711         | 3966321         | 3991349         | 4020045         | 3987032         | 3922044\n",
       "0    | 3    | 4119040       | 4119051           | 4111688         | 4101644         | 3981531         | 3991017         | 4005928         | 3974351         | 3982984         | 4006946         | 4033038         | 3998665\n",
       "0    | 4    | 4063170       | 4063186           | 4077346         | 4121488         | 4111490         | 3992502         | 4004032         | 4020292         | 3989750         | 3997280         | 4018719         | 4043323\n",
       "0    | 5    | 4056858       | 4056872           | 4064521         | 4087054         | 4131049         | 4121876         | 4004576         | 4017589         | 4035033         | 4003452         | 4008443         | 4028281\n",
       "0    | 6    | 4066381       | 4066412           | 4072904         | 4074531         | 4096631         | 4141126         | 4133372         | 4017388         | 4031568         | 4048018         | 4014057         | 4017227\n",
       "0    | 7    | 4030579       | 4030594           | 4042990         | 4082821         | 4084175         | 4106756         | 4152666         | 4145872         | 4030888         | 4044139         | 4058370         | 4022319\n",
       "0    | 8    | 4046486       | 4046497           | 4025501         | 4052773         | 4092559         | 4094513         | 4118349         | 4165033         | 4158848         | 4042924         | 4054236         | 4066194\n",
       "0    | 9    | 4148353       | 4148369           | 4125312         | 4035319         | 4062726         | 4103052         | 4106068         | 4130887         | 4177895         | 4170813         | 4053179         | 4061874\n",
       "... (296 rows omitted)"
      ]
     },
     "execution_count": 2,
     "metadata": {},
     "output_type": "execute_result"
    }
   ],
   "source": [
    "table = Table.read_table(\"http://www2.census.gov/programs-surveys/popest/technical-documentation/file-layouts/2010-2019/nc-est2019-agesex-res.csv\")\n",
    "table"
   ]
  },
  {
   "cell_type": "markdown",
   "id": "502150b4-249b-46ed-8743-c15e9f397a42",
   "metadata": {},
   "source": [
    "---"
   ]
  },
  {
   "cell_type": "markdown",
   "id": "d27605fe-cf7f-4090-bb21-03390e842263",
   "metadata": {},
   "source": [
    "## Label 중 2014와 2019를 포함하는 라벨 찾기"
   ]
  },
  {
   "cell_type": "code",
   "execution_count": 8,
   "id": "f4d4897c-c658-416b-bcc8-04d1d4b2f48d",
   "metadata": {},
   "outputs": [
    {
     "data": {
      "text/plain": [
       "['POPESTIMATE2014', 'POPESTIMATE2019']"
      ]
     },
     "execution_count": 8,
     "metadata": {},
     "output_type": "execute_result"
    }
   ],
   "source": [
    "target_labels = [i for i in table.labels if i.find(\"2014\") >= 0 or i.find(\"2019\") >= 0]\n",
    "target_labels"
   ]
  },
  {
   "cell_type": "markdown",
   "id": "3efdfbce-be0a-426b-b4b8-a355f6b0fec0",
   "metadata": {},
   "source": [
    "---"
   ]
  },
  {
   "cell_type": "markdown",
   "id": "c042cef9-00fe-4ef6-ad62-0070eae3fa1a",
   "metadata": {},
   "source": [
    "## 연령, 성별, 2014년, 2019년 자료만 추출"
   ]
  },
  {
   "cell_type": "code",
   "execution_count": 14,
   "id": "cb4f8111-99d0-4bae-9f5c-d589142b8fb5",
   "metadata": {},
   "outputs": [
    {
     "data": {
      "text/html": [
       "<table border=\"1\" class=\"dataframe\">\n",
       "    <thead>\n",
       "        <tr>\n",
       "            <th>SEX</th> <th>AGE</th> <th>2014</th> <th>2019</th>\n",
       "        </tr>\n",
       "    </thead>\n",
       "    <tbody>\n",
       "        <tr>\n",
       "            <td>0   </td> <td>0   </td> <td>3954787</td> <td>3783052</td>\n",
       "        </tr>\n",
       "        <tr>\n",
       "            <td>0   </td> <td>1   </td> <td>3948891</td> <td>3829599</td>\n",
       "        </tr>\n",
       "        <tr>\n",
       "            <td>0   </td> <td>2   </td> <td>3958711</td> <td>3922044</td>\n",
       "        </tr>\n",
       "        <tr>\n",
       "            <td>0   </td> <td>3   </td> <td>4005928</td> <td>3998665</td>\n",
       "        </tr>\n",
       "        <tr>\n",
       "            <td>0   </td> <td>4   </td> <td>4004032</td> <td>4043323</td>\n",
       "        </tr>\n",
       "        <tr>\n",
       "            <td>0   </td> <td>5   </td> <td>4004576</td> <td>4028281</td>\n",
       "        </tr>\n",
       "        <tr>\n",
       "            <td>0   </td> <td>6   </td> <td>4133372</td> <td>4017227</td>\n",
       "        </tr>\n",
       "        <tr>\n",
       "            <td>0   </td> <td>7   </td> <td>4152666</td> <td>4022319</td>\n",
       "        </tr>\n",
       "        <tr>\n",
       "            <td>0   </td> <td>8   </td> <td>4118349</td> <td>4066194</td>\n",
       "        </tr>\n",
       "        <tr>\n",
       "            <td>0   </td> <td>9   </td> <td>4106068</td> <td>4061874</td>\n",
       "        </tr>\n",
       "    </tbody>\n",
       "</table>\n",
       "<p>... (296 rows omitted)</p>"
      ],
      "text/plain": [
       "SEX  | AGE  | 2014    | 2019\n",
       "0    | 0    | 3954787 | 3783052\n",
       "0    | 1    | 3948891 | 3829599\n",
       "0    | 2    | 3958711 | 3922044\n",
       "0    | 3    | 4005928 | 3998665\n",
       "0    | 4    | 4004032 | 4043323\n",
       "0    | 5    | 4004576 | 4028281\n",
       "0    | 6    | 4133372 | 4017227\n",
       "0    | 7    | 4152666 | 4022319\n",
       "0    | 8    | 4118349 | 4066194\n",
       "0    | 9    | 4106068 | 4061874\n",
       "... (296 rows omitted)"
      ]
     },
     "execution_count": 14,
     "metadata": {},
     "output_type": "execute_result"
    }
   ],
   "source": [
    "selected_table = table.select([\"SEX\", \"AGE\"] + target_labels)\n",
    "selected_table = selected_table.relabeled(\"POPESTIMATE2014\", \"2014\").relabeled(\"POPESTIMATE2019\", \"2019\")\n",
    "selected_table"
   ]
  },
  {
   "cell_type": "markdown",
   "id": "03020318-0591-4a66-9146-015c81e29b46",
   "metadata": {},
   "source": [
    "---"
   ]
  },
  {
   "cell_type": "markdown",
   "id": "c5b5f77e-d16c-4375-9d1f-ce0bbc98dce0",
   "metadata": {},
   "source": [
    "## 증가율, 감소율을 포함한 테이블 만들기"
   ]
  },
  {
   "cell_type": "code",
   "execution_count": 24,
   "id": "19b86ed1-b9b7-46a2-9f84-2c492321bf91",
   "metadata": {},
   "outputs": [
    {
     "data": {
      "text/html": [
       "<table border=\"1\" class=\"dataframe\">\n",
       "    <thead>\n",
       "        <tr>\n",
       "            <th>SEX</th> <th>AGE</th> <th>2014</th> <th>2019</th> <th>증가율</th> <th>감소율</th>\n",
       "        </tr>\n",
       "    </thead>\n",
       "    <tbody>\n",
       "        <tr>\n",
       "            <td>0   </td> <td>0   </td> <td>3954787</td> <td>3783052</td> <td>-4.54%</td> <td>4.54% </td>\n",
       "        </tr>\n",
       "        <tr>\n",
       "            <td>0   </td> <td>1   </td> <td>3948891</td> <td>3829599</td> <td>-3.11%</td> <td>3.11% </td>\n",
       "        </tr>\n",
       "        <tr>\n",
       "            <td>0   </td> <td>2   </td> <td>3958711</td> <td>3922044</td> <td>-0.93%</td> <td>0.93% </td>\n",
       "        </tr>\n",
       "        <tr>\n",
       "            <td>0   </td> <td>3   </td> <td>4005928</td> <td>3998665</td> <td>-0.18%</td> <td>0.18% </td>\n",
       "        </tr>\n",
       "        <tr>\n",
       "            <td>0   </td> <td>4   </td> <td>4004032</td> <td>4043323</td> <td>0.97% </td> <td>-0.97%</td>\n",
       "        </tr>\n",
       "        <tr>\n",
       "            <td>0   </td> <td>5   </td> <td>4004576</td> <td>4028281</td> <td>0.59% </td> <td>-0.59%</td>\n",
       "        </tr>\n",
       "        <tr>\n",
       "            <td>0   </td> <td>6   </td> <td>4133372</td> <td>4017227</td> <td>-2.89%</td> <td>2.89% </td>\n",
       "        </tr>\n",
       "        <tr>\n",
       "            <td>0   </td> <td>7   </td> <td>4152666</td> <td>4022319</td> <td>-3.24%</td> <td>3.24% </td>\n",
       "        </tr>\n",
       "        <tr>\n",
       "            <td>0   </td> <td>8   </td> <td>4118349</td> <td>4066194</td> <td>-1.28%</td> <td>1.28% </td>\n",
       "        </tr>\n",
       "        <tr>\n",
       "            <td>0   </td> <td>9   </td> <td>4106068</td> <td>4061874</td> <td>-1.09%</td> <td>1.09% </td>\n",
       "        </tr>\n",
       "    </tbody>\n",
       "</table>\n",
       "<p>... (296 rows omitted)</p>"
      ],
      "text/plain": [
       "SEX  | AGE  | 2014    | 2019    | 증가율    | 감소율\n",
       "0    | 0    | 3954787 | 3783052 | -4.54% | 4.54%\n",
       "0    | 1    | 3948891 | 3829599 | -3.11% | 3.11%\n",
       "0    | 2    | 3958711 | 3922044 | -0.93% | 0.93%\n",
       "0    | 3    | 4005928 | 3998665 | -0.18% | 0.18%\n",
       "0    | 4    | 4004032 | 4043323 | 0.97%  | -0.97%\n",
       "0    | 5    | 4004576 | 4028281 | 0.59%  | -0.59%\n",
       "0    | 6    | 4133372 | 4017227 | -2.89% | 2.89%\n",
       "0    | 7    | 4152666 | 4022319 | -3.24% | 3.24%\n",
       "0    | 8    | 4118349 | 4066194 | -1.28% | 1.28%\n",
       "0    | 9    | 4106068 | 4061874 | -1.09% | 1.09%\n",
       "... (296 rows omitted)"
      ]
     },
     "execution_count": 24,
     "metadata": {},
     "output_type": "execute_result"
    }
   ],
   "source": [
    "arr_2014 = selected_table.column(\"2014\")\n",
    "arr_2019 = selected_table.column(\"2019\")\n",
    "\n",
    "increase_data = (arr_2019 - arr_2014) / arr_2019\n",
    "decrease_data = (arr_2014 - arr_2019) / arr_2019\n",
    "\n",
    "selected_table = selected_table.with_columns(\"증가율\", increase_data).set_format(\"증가율\", PercentFormatter)\n",
    "selected_table = selected_table.with_columns(\"감소율\", decrease_data).set_format(\"감소율\", PercentFormatter)\n",
    "selected_table"
   ]
  },
  {
   "cell_type": "markdown",
   "id": "2f4acc7c-67ec-403f-a598-f7ba970434ea",
   "metadata": {},
   "source": [
    "---"
   ]
  },
  {
   "cell_type": "markdown",
   "id": "70235586-1833-45f5-8ad4-63f24d230590",
   "metadata": {},
   "source": [
    "## 해당 기간에서 가장 많이 증가한 연령은?"
   ]
  },
  {
   "cell_type": "code",
   "execution_count": 31,
   "id": "956c19b8-9a21-4df2-881f-c0c798f9d416",
   "metadata": {},
   "outputs": [
    {
     "data": {
      "text/plain": [
       "100"
      ]
     },
     "execution_count": 31,
     "metadata": {},
     "output_type": "execute_result"
    }
   ],
   "source": [
    "max_increased_index = selected_table.column(\"증가율\").argmax()\n",
    "\n",
    "selected_table.column(\"AGE\")[max_increased_index]"
   ]
  },
  {
   "cell_type": "markdown",
   "id": "6b6d8d64-b9b8-45b1-8bdf-82f18ffcdaac",
   "metadata": {},
   "source": [
    "---"
   ]
  },
  {
   "cell_type": "markdown",
   "id": "aa470e4c-a014-45f1-9ef5-c8d964a88d94",
   "metadata": {},
   "source": [
    "## 해당 기간에서 가장 감소한 연령은?"
   ]
  },
  {
   "cell_type": "code",
   "execution_count": 32,
   "id": "536b524d-2644-4843-86aa-602ede3f88e7",
   "metadata": {},
   "outputs": [
    {
     "data": {
      "text/plain": [
       "51"
      ]
     },
     "execution_count": 32,
     "metadata": {},
     "output_type": "execute_result"
    }
   ],
   "source": [
    "max_decreased_index = selected_table.column(\"감소율\").argmax()\n",
    "\n",
    "selected_table.column(\"AGE\")[max_decreased_index]"
   ]
  },
  {
   "cell_type": "markdown",
   "id": "912bab25-9089-4bd4-90c2-1b3cb7a04912",
   "metadata": {},
   "source": [
    "---"
   ]
  },
  {
   "cell_type": "markdown",
   "id": "84f85426-1ccb-4857-80cd-fda0633ca441",
   "metadata": {},
   "source": [
    "## 해당 기간에서 전체 인구는 증가 하였는가? 아님 감소 하였는가?\n",
    "- #### SEX=0, AGE=999인 행 추출"
   ]
  },
  {
   "cell_type": "code",
   "execution_count": 36,
   "id": "0c8c804a-8538-4b62-9acb-6cd95a5bbc92",
   "metadata": {},
   "outputs": [
    {
     "data": {
      "text/html": [
       "<table border=\"1\" class=\"dataframe\">\n",
       "    <thead>\n",
       "        <tr>\n",
       "            <th>SEX</th> <th>AGE</th> <th>2014</th> <th>2019</th> <th>증가율</th> <th>감소율</th>\n",
       "        </tr>\n",
       "    </thead>\n",
       "    <tbody>\n",
       "        <tr>\n",
       "            <td>0   </td> <td>999 </td> <td>318301008</td> <td>328239523</td> <td>3.03%</td> <td>-3.03%</td>\n",
       "        </tr>\n",
       "    </tbody>\n",
       "</table>"
      ],
      "text/plain": [
       "SEX  | AGE  | 2014      | 2019      | 증가율   | 감소율\n",
       "0    | 999  | 318301008 | 328239523 | 3.03% | -3.03%"
      ]
     },
     "execution_count": 36,
     "metadata": {},
     "output_type": "execute_result"
    }
   ],
   "source": [
    "selected_table.where(\"SEX\", are.equal_to(0)).where(\"AGE\", are.equal_to(999))"
   ]
  },
  {
   "cell_type": "markdown",
   "id": "4c35c118-a259-4ae7-a29d-d79afb7e3e40",
   "metadata": {},
   "source": [
    "\n",
    "####    증가율이 양수이므로 증가하였다."
   ]
  }
 ],
 "metadata": {
  "kernelspec": {
   "display_name": "Python 3 (ipykernel)",
   "language": "python",
   "name": "python3"
  },
  "language_info": {
   "codemirror_mode": {
    "name": "ipython",
    "version": 3
   },
   "file_extension": ".py",
   "mimetype": "text/x-python",
   "name": "python",
   "nbconvert_exporter": "python",
   "pygments_lexer": "ipython3",
   "version": "3.10.13"
  }
 },
 "nbformat": 4,
 "nbformat_minor": 5
}
