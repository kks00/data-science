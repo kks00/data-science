{
 "cells": [
  {
   "cell_type": "markdown",
   "id": "7c5d750a-e1f3-40bb-a802-7e859d7c0321",
   "metadata": {},
   "source": [
    "# Chapter4 - Example 3\n",
    "\n",
    "![image](https://github.com/kks00/data-science/assets/68108664/f65d06a2-747e-4267-8ae1-02e29af3fa20)"
   ]
  },
  {
   "cell_type": "code",
   "execution_count": 6,
   "id": "0c85ad0a-b07d-4a79-a938-4ee467024f50",
   "metadata": {},
   "outputs": [],
   "source": [
    "import numpy as np\n",
    "from datascience import *"
   ]
  },
  {
   "cell_type": "markdown",
   "id": "a885f5ee-3e30-462b-ac06-46e20eb2c018",
   "metadata": {},
   "source": [
    "## URL로부터 데이터 읽어오기"
   ]
  },
  {
   "cell_type": "code",
   "execution_count": 7,
   "id": "55a8eddd-7dbe-4b28-937e-abd4b89d9a64",
   "metadata": {},
   "outputs": [
    {
     "data": {
      "text/html": [
       "<table border=\"1\" class=\"dataframe\">\n",
       "    <thead>\n",
       "        <tr>\n",
       "            <th>SEX</th> <th>AGE</th> <th>CENSUS2010POP</th> <th>ESTIMATESBASE2010</th> <th>POPESTIMATE2010</th> <th>POPESTIMATE2011</th> <th>POPESTIMATE2012</th> <th>POPESTIMATE2013</th> <th>POPESTIMATE2014</th> <th>POPESTIMATE2015</th> <th>POPESTIMATE2016</th> <th>POPESTIMATE2017</th> <th>POPESTIMATE2018</th> <th>POPESTIMATE2019</th>\n",
       "        </tr>\n",
       "    </thead>\n",
       "    <tbody>\n",
       "        <tr>\n",
       "            <td>0   </td> <td>0   </td> <td>3944153      </td> <td>3944160          </td> <td>3951430        </td> <td>3963092        </td> <td>3926570        </td> <td>3931258        </td> <td>3954787        </td> <td>3983981        </td> <td>3954773        </td> <td>3893990        </td> <td>3815343        </td> <td>3783052        </td>\n",
       "        </tr>\n",
       "        <tr>\n",
       "            <td>0   </td> <td>1   </td> <td>3978070      </td> <td>3978090          </td> <td>3957730        </td> <td>3966225        </td> <td>3977549        </td> <td>3942698        </td> <td>3948891        </td> <td>3973133        </td> <td>4002903        </td> <td>3972711        </td> <td>3908830        </td> <td>3829599        </td>\n",
       "        </tr>\n",
       "        <tr>\n",
       "            <td>0   </td> <td>2   </td> <td>4096929      </td> <td>4096939          </td> <td>4090621        </td> <td>3970654        </td> <td>3978925        </td> <td>3991740        </td> <td>3958711        </td> <td>3966321        </td> <td>3991349        </td> <td>4020045        </td> <td>3987032        </td> <td>3922044        </td>\n",
       "        </tr>\n",
       "        <tr>\n",
       "            <td>0   </td> <td>3   </td> <td>4119040      </td> <td>4119051          </td> <td>4111688        </td> <td>4101644        </td> <td>3981531        </td> <td>3991017        </td> <td>4005928        </td> <td>3974351        </td> <td>3982984        </td> <td>4006946        </td> <td>4033038        </td> <td>3998665        </td>\n",
       "        </tr>\n",
       "        <tr>\n",
       "            <td>0   </td> <td>4   </td> <td>4063170      </td> <td>4063186          </td> <td>4077346        </td> <td>4121488        </td> <td>4111490        </td> <td>3992502        </td> <td>4004032        </td> <td>4020292        </td> <td>3989750        </td> <td>3997280        </td> <td>4018719        </td> <td>4043323        </td>\n",
       "        </tr>\n",
       "        <tr>\n",
       "            <td>0   </td> <td>5   </td> <td>4056858      </td> <td>4056872          </td> <td>4064521        </td> <td>4087054        </td> <td>4131049        </td> <td>4121876        </td> <td>4004576        </td> <td>4017589        </td> <td>4035033        </td> <td>4003452        </td> <td>4008443        </td> <td>4028281        </td>\n",
       "        </tr>\n",
       "        <tr>\n",
       "            <td>0   </td> <td>6   </td> <td>4066381      </td> <td>4066412          </td> <td>4072904        </td> <td>4074531        </td> <td>4096631        </td> <td>4141126        </td> <td>4133372        </td> <td>4017388        </td> <td>4031568        </td> <td>4048018        </td> <td>4014057        </td> <td>4017227        </td>\n",
       "        </tr>\n",
       "        <tr>\n",
       "            <td>0   </td> <td>7   </td> <td>4030579      </td> <td>4030594          </td> <td>4042990        </td> <td>4082821        </td> <td>4084175        </td> <td>4106756        </td> <td>4152666        </td> <td>4145872        </td> <td>4030888        </td> <td>4044139        </td> <td>4058370        </td> <td>4022319        </td>\n",
       "        </tr>\n",
       "        <tr>\n",
       "            <td>0   </td> <td>8   </td> <td>4046486      </td> <td>4046497          </td> <td>4025501        </td> <td>4052773        </td> <td>4092559        </td> <td>4094513        </td> <td>4118349        </td> <td>4165033        </td> <td>4158848        </td> <td>4042924        </td> <td>4054236        </td> <td>4066194        </td>\n",
       "        </tr>\n",
       "        <tr>\n",
       "            <td>0   </td> <td>9   </td> <td>4148353      </td> <td>4148369          </td> <td>4125312        </td> <td>4035319        </td> <td>4062726        </td> <td>4103052        </td> <td>4106068        </td> <td>4130887        </td> <td>4177895        </td> <td>4170813        </td> <td>4053179        </td> <td>4061874        </td>\n",
       "        </tr>\n",
       "    </tbody>\n",
       "</table>\n",
       "<p>... (296 rows omitted)</p>"
      ],
      "text/plain": [
       "SEX  | AGE  | CENSUS2010POP | ESTIMATESBASE2010 | POPESTIMATE2010 | POPESTIMATE2011 | POPESTIMATE2012 | POPESTIMATE2013 | POPESTIMATE2014 | POPESTIMATE2015 | POPESTIMATE2016 | POPESTIMATE2017 | POPESTIMATE2018 | POPESTIMATE2019\n",
       "0    | 0    | 3944153       | 3944160           | 3951430         | 3963092         | 3926570         | 3931258         | 3954787         | 3983981         | 3954773         | 3893990         | 3815343         | 3783052\n",
       "0    | 1    | 3978070       | 3978090           | 3957730         | 3966225         | 3977549         | 3942698         | 3948891         | 3973133         | 4002903         | 3972711         | 3908830         | 3829599\n",
       "0    | 2    | 4096929       | 4096939           | 4090621         | 3970654         | 3978925         | 3991740         | 3958711         | 3966321         | 3991349         | 4020045         | 3987032         | 3922044\n",
       "0    | 3    | 4119040       | 4119051           | 4111688         | 4101644         | 3981531         | 3991017         | 4005928         | 3974351         | 3982984         | 4006946         | 4033038         | 3998665\n",
       "0    | 4    | 4063170       | 4063186           | 4077346         | 4121488         | 4111490         | 3992502         | 4004032         | 4020292         | 3989750         | 3997280         | 4018719         | 4043323\n",
       "0    | 5    | 4056858       | 4056872           | 4064521         | 4087054         | 4131049         | 4121876         | 4004576         | 4017589         | 4035033         | 4003452         | 4008443         | 4028281\n",
       "0    | 6    | 4066381       | 4066412           | 4072904         | 4074531         | 4096631         | 4141126         | 4133372         | 4017388         | 4031568         | 4048018         | 4014057         | 4017227\n",
       "0    | 7    | 4030579       | 4030594           | 4042990         | 4082821         | 4084175         | 4106756         | 4152666         | 4145872         | 4030888         | 4044139         | 4058370         | 4022319\n",
       "0    | 8    | 4046486       | 4046497           | 4025501         | 4052773         | 4092559         | 4094513         | 4118349         | 4165033         | 4158848         | 4042924         | 4054236         | 4066194\n",
       "0    | 9    | 4148353       | 4148369           | 4125312         | 4035319         | 4062726         | 4103052         | 4106068         | 4130887         | 4177895         | 4170813         | 4053179         | 4061874\n",
       "... (296 rows omitted)"
      ]
     },
     "execution_count": 7,
     "metadata": {},
     "output_type": "execute_result"
    }
   ],
   "source": [
    "table = Table.read_table(\"http://www2.census.gov/programs-surveys/popest/technical-documentation/file-layouts/2010-2019/nc-est2019-agesex-res.csv\")\n",
    "# table.show() # 표 전체 출력\n",
    "table"
   ]
  },
  {
   "cell_type": "markdown",
   "id": "502150b4-249b-46ed-8743-c15e9f397a42",
   "metadata": {},
   "source": [
    "---"
   ]
  },
  {
   "cell_type": "markdown",
   "id": "d27605fe-cf7f-4090-bb21-03390e842263",
   "metadata": {},
   "source": [
    "## Label 중 2014와 2019를 포함하는 라벨 찾기"
   ]
  },
  {
   "cell_type": "code",
   "execution_count": 8,
   "id": "f4d4897c-c658-416b-bcc8-04d1d4b2f48d",
   "metadata": {},
   "outputs": [
    {
     "data": {
      "text/plain": [
       "['POPESTIMATE2014', 'POPESTIMATE2019']"
      ]
     },
     "execution_count": 8,
     "metadata": {},
     "output_type": "execute_result"
    }
   ],
   "source": [
    "target_labels = [i for i in table.labels if i.find(\"2014\") >= 0 or i.find(\"2019\") >= 0]\n",
    "target_labels"
   ]
  },
  {
   "cell_type": "markdown",
   "id": "3efdfbce-be0a-426b-b4b8-a355f6b0fec0",
   "metadata": {},
   "source": [
    "---"
   ]
  },
  {
   "cell_type": "markdown",
   "id": "c042cef9-00fe-4ef6-ad62-0070eae3fa1a",
   "metadata": {},
   "source": [
    "## 전체 연령 2014년, 2019년 자료만 추출"
   ]
  },
  {
   "cell_type": "code",
   "execution_count": 27,
   "id": "cb4f8111-99d0-4bae-9f5c-d589142b8fb5",
   "metadata": {},
   "outputs": [
    {
     "data": {
      "text/html": [
       "<table border=\"1\" class=\"dataframe\">\n",
       "    <thead>\n",
       "        <tr>\n",
       "            <th>AGE</th> <th>2014</th> <th>2019</th>\n",
       "        </tr>\n",
       "    </thead>\n",
       "    <tbody>\n",
       "        <tr>\n",
       "            <td>0   </td> <td>3954787</td> <td>3783052</td>\n",
       "        </tr>\n",
       "        <tr>\n",
       "            <td>1   </td> <td>3948891</td> <td>3829599</td>\n",
       "        </tr>\n",
       "        <tr>\n",
       "            <td>2   </td> <td>3958711</td> <td>3922044</td>\n",
       "        </tr>\n",
       "        <tr>\n",
       "            <td>3   </td> <td>4005928</td> <td>3998665</td>\n",
       "        </tr>\n",
       "        <tr>\n",
       "            <td>4   </td> <td>4004032</td> <td>4043323</td>\n",
       "        </tr>\n",
       "        <tr>\n",
       "            <td>5   </td> <td>4004576</td> <td>4028281</td>\n",
       "        </tr>\n",
       "        <tr>\n",
       "            <td>6   </td> <td>4133372</td> <td>4017227</td>\n",
       "        </tr>\n",
       "        <tr>\n",
       "            <td>7   </td> <td>4152666</td> <td>4022319</td>\n",
       "        </tr>\n",
       "        <tr>\n",
       "            <td>8   </td> <td>4118349</td> <td>4066194</td>\n",
       "        </tr>\n",
       "        <tr>\n",
       "            <td>9   </td> <td>4106068</td> <td>4061874</td>\n",
       "        </tr>\n",
       "    </tbody>\n",
       "</table>\n",
       "<p>... (92 rows omitted)</p>"
      ],
      "text/plain": [
       "AGE  | 2014    | 2019\n",
       "0    | 3954787 | 3783052\n",
       "1    | 3948891 | 3829599\n",
       "2    | 3958711 | 3922044\n",
       "3    | 4005928 | 3998665\n",
       "4    | 4004032 | 4043323\n",
       "5    | 4004576 | 4028281\n",
       "6    | 4133372 | 4017227\n",
       "7    | 4152666 | 4022319\n",
       "8    | 4118349 | 4066194\n",
       "9    | 4106068 | 4061874\n",
       "... (92 rows omitted)"
      ]
     },
     "execution_count": 27,
     "metadata": {},
     "output_type": "execute_result"
    }
   ],
   "source": [
    "selected_table = table.select([\"SEX\", \"AGE\"] + target_labels)\n",
    "selected_table = selected_table.relabeled(\"POPESTIMATE2014\", \"2014\").relabeled(\"POPESTIMATE2019\", \"2019\")\n",
    "\n",
    "selected_table = selected_table.where('SEX', are.equal_to(0)) # 전체 성별만 가져오기\n",
    "selected_table = selected_table.drop('SEX') # 성별 레이블 제거\n",
    "\n",
    "selected_table"
   ]
  },
  {
   "cell_type": "markdown",
   "id": "03020318-0591-4a66-9146-015c81e29b46",
   "metadata": {},
   "source": [
    "---"
   ]
  },
  {
   "cell_type": "markdown",
   "id": "c5b5f77e-d16c-4375-9d1f-ce0bbc98dce0",
   "metadata": {},
   "source": [
    "## 변동율 포함한 테이블 만들기"
   ]
  },
  {
   "cell_type": "code",
   "execution_count": 29,
   "id": "19b86ed1-b9b7-46a2-9f84-2c492321bf91",
   "metadata": {},
   "outputs": [
    {
     "data": {
      "text/html": [
       "<table border=\"1\" class=\"dataframe\">\n",
       "    <thead>\n",
       "        <tr>\n",
       "            <th>AGE</th> <th>2014</th> <th>2019</th> <th>변동율</th>\n",
       "        </tr>\n",
       "    </thead>\n",
       "    <tbody>\n",
       "        <tr>\n",
       "            <td>0   </td> <td>3954787</td> <td>3783052</td> <td>-4.34%</td>\n",
       "        </tr>\n",
       "        <tr>\n",
       "            <td>1   </td> <td>3948891</td> <td>3829599</td> <td>-3.02%</td>\n",
       "        </tr>\n",
       "        <tr>\n",
       "            <td>2   </td> <td>3958711</td> <td>3922044</td> <td>-0.93%</td>\n",
       "        </tr>\n",
       "        <tr>\n",
       "            <td>3   </td> <td>4005928</td> <td>3998665</td> <td>-0.18%</td>\n",
       "        </tr>\n",
       "        <tr>\n",
       "            <td>4   </td> <td>4004032</td> <td>4043323</td> <td>0.98% </td>\n",
       "        </tr>\n",
       "        <tr>\n",
       "            <td>5   </td> <td>4004576</td> <td>4028281</td> <td>0.59% </td>\n",
       "        </tr>\n",
       "        <tr>\n",
       "            <td>6   </td> <td>4133372</td> <td>4017227</td> <td>-2.81%</td>\n",
       "        </tr>\n",
       "        <tr>\n",
       "            <td>7   </td> <td>4152666</td> <td>4022319</td> <td>-3.14%</td>\n",
       "        </tr>\n",
       "        <tr>\n",
       "            <td>8   </td> <td>4118349</td> <td>4066194</td> <td>-1.27%</td>\n",
       "        </tr>\n",
       "        <tr>\n",
       "            <td>9   </td> <td>4106068</td> <td>4061874</td> <td>-1.08%</td>\n",
       "        </tr>\n",
       "    </tbody>\n",
       "</table>\n",
       "<p>... (92 rows omitted)</p>"
      ],
      "text/plain": [
       "AGE  | 2014    | 2019    | 변동율\n",
       "0    | 3954787 | 3783052 | -4.34%\n",
       "1    | 3948891 | 3829599 | -3.02%\n",
       "2    | 3958711 | 3922044 | -0.93%\n",
       "3    | 4005928 | 3998665 | -0.18%\n",
       "4    | 4004032 | 4043323 | 0.98%\n",
       "5    | 4004576 | 4028281 | 0.59%\n",
       "6    | 4133372 | 4017227 | -2.81%\n",
       "7    | 4152666 | 4022319 | -3.14%\n",
       "8    | 4118349 | 4066194 | -1.27%\n",
       "9    | 4106068 | 4061874 | -1.08%\n",
       "... (92 rows omitted)"
      ]
     },
     "execution_count": 29,
     "metadata": {},
     "output_type": "execute_result"
    }
   ],
   "source": [
    "arr_2014 = selected_table.column(\"2014\")\n",
    "arr_2019 = selected_table.column(\"2019\")\n",
    "\n",
    "change_data = (arr_2019 - arr_2014) / arr_2014\n",
    "\n",
    "selected_table = selected_table.with_columns(\"변동율\", increase_data).set_format(\"변동율\", PercentFormatter)\n",
    "selected_table"
   ]
  },
  {
   "cell_type": "markdown",
   "id": "2f4acc7c-67ec-403f-a598-f7ba970434ea",
   "metadata": {},
   "source": [
    "---"
   ]
  },
  {
   "cell_type": "markdown",
   "id": "70235586-1833-45f5-8ad4-63f24d230590",
   "metadata": {},
   "source": [
    "## 해당 기간에서 가장 많이 증가한 연령은?"
   ]
  },
  {
   "cell_type": "markdown",
   "id": "332979d7-e86f-47ab-a374-c001cd5be8c5",
   "metadata": {
    "jp-MarkdownHeadingCollapsed": true
   },
   "source": [
    "- ### AGE 999 미만 항목들 중 변동율 기준 내림차순으로 정렬"
   ]
  },
  {
   "cell_type": "code",
   "execution_count": 34,
   "id": "2871d06d-daa5-4e0c-b369-1cdf247fee26",
   "metadata": {},
   "outputs": [
    {
     "data": {
      "text/html": [
       "<table border=\"1\" class=\"dataframe\">\n",
       "    <thead>\n",
       "        <tr>\n",
       "            <th>AGE</th> <th>2014</th> <th>2019</th> <th>변동율</th>\n",
       "        </tr>\n",
       "    </thead>\n",
       "    <tbody>\n",
       "        <tr>\n",
       "            <td>72  </td> <td>2191642</td> <td>3191048</td> <td>45.60%</td>\n",
       "        </tr>\n",
       "        <tr>\n",
       "            <td>98  </td> <td>59546  </td> <td>86150  </td> <td>44.68%</td>\n",
       "        </tr>\n",
       "        <tr>\n",
       "            <td>100 </td> <td>70685  </td> <td>100322 </td> <td>41.93%</td>\n",
       "        </tr>\n",
       "        <tr>\n",
       "            <td>97  </td> <td>82948  </td> <td>116969 </td> <td>41.01%</td>\n",
       "        </tr>\n",
       "        <tr>\n",
       "            <td>99  </td> <td>41277  </td> <td>57124  </td> <td>38.39%</td>\n",
       "        </tr>\n",
       "        <tr>\n",
       "            <td>95  </td> <td>155992 </td> <td>207086 </td> <td>32.75%</td>\n",
       "        </tr>\n",
       "        <tr>\n",
       "            <td>76  </td> <td>1692960</td> <td>2222392</td> <td>31.27%</td>\n",
       "        </tr>\n",
       "        <tr>\n",
       "            <td>96  </td> <td>120427 </td> <td>157463 </td> <td>30.75%</td>\n",
       "        </tr>\n",
       "        <tr>\n",
       "            <td>68  </td> <td>2567511</td> <td>3345475</td> <td>30.30%</td>\n",
       "        </tr>\n",
       "        <tr>\n",
       "            <td>69  </td> <td>2530460</td> <td>3252423</td> <td>28.53%</td>\n",
       "        </tr>\n",
       "    </tbody>\n",
       "</table>\n",
       "<p>... (91 rows omitted)</p>"
      ],
      "text/plain": [
       "AGE  | 2014    | 2019    | 변동율\n",
       "72   | 2191642 | 3191048 | 45.60%\n",
       "98   | 59546   | 86150   | 44.68%\n",
       "100  | 70685   | 100322  | 41.93%\n",
       "97   | 82948   | 116969  | 41.01%\n",
       "99   | 41277   | 57124   | 38.39%\n",
       "95   | 155992  | 207086  | 32.75%\n",
       "76   | 1692960 | 2222392 | 31.27%\n",
       "96   | 120427  | 157463  | 30.75%\n",
       "68   | 2567511 | 3345475 | 30.30%\n",
       "69   | 2530460 | 3252423 | 28.53%\n",
       "... (91 rows omitted)"
      ]
     },
     "execution_count": 34,
     "metadata": {},
     "output_type": "execute_result"
    }
   ],
   "source": [
    "selected_table.where('AGE', are.below(999)).sort('변동율', descending=True)"
   ]
  },
  {
   "cell_type": "code",
   "execution_count": 36,
   "id": "956c19b8-9a21-4df2-881f-c0c798f9d416",
   "metadata": {},
   "outputs": [
    {
     "data": {
      "text/plain": [
       "72"
      ]
     },
     "execution_count": 36,
     "metadata": {},
     "output_type": "execute_result"
    }
   ],
   "source": [
    "max_increased_index = selected_table.column(\"변동율\").argmax()\n",
    "\n",
    "selected_table.column(\"AGE\")[max_increased_index]"
   ]
  },
  {
   "cell_type": "markdown",
   "id": "6b6d8d64-b9b8-45b1-8bdf-82f18ffcdaac",
   "metadata": {},
   "source": [
    "---"
   ]
  },
  {
   "cell_type": "markdown",
   "id": "aa470e4c-a014-45f1-9ef5-c8d964a88d94",
   "metadata": {},
   "source": [
    "## 해당 기간에서 가장 감소한 연령은?"
   ]
  },
  {
   "cell_type": "markdown",
   "id": "0fbc9e85-ee3e-476f-b0c8-313a9b83edfd",
   "metadata": {},
   "source": [
    "- #### AGE 999 미만 항목들 중 변동율 기준 오름차순 정렬"
   ]
  },
  {
   "cell_type": "code",
   "execution_count": 37,
   "id": "5fe1119f-9dfe-46fa-a498-ea21ca20b9c9",
   "metadata": {},
   "outputs": [
    {
     "data": {
      "text/html": [
       "<table border=\"1\" class=\"dataframe\">\n",
       "    <thead>\n",
       "        <tr>\n",
       "            <th>AGE</th> <th>2014</th> <th>2019</th> <th>변동율</th>\n",
       "        </tr>\n",
       "    </thead>\n",
       "    <tbody>\n",
       "        <tr>\n",
       "            <td>43  </td> <td>4319265</td> <td>3854040</td> <td>-10.77%</td>\n",
       "        </tr>\n",
       "        <tr>\n",
       "            <td>51  </td> <td>4476281</td> <td>4004343</td> <td>-10.54%</td>\n",
       "        </tr>\n",
       "        <tr>\n",
       "            <td>52  </td> <td>4467724</td> <td>4001782</td> <td>-10.43%</td>\n",
       "        </tr>\n",
       "        <tr>\n",
       "            <td>53  </td> <td>4523245</td> <td>4068851</td> <td>-10.05%</td>\n",
       "        </tr>\n",
       "        <tr>\n",
       "            <td>44  </td> <td>4375450</td> <td>3967275</td> <td>-9.33% </td>\n",
       "        </tr>\n",
       "        <tr>\n",
       "            <td>50  </td> <td>4479191</td> <td>4096572</td> <td>-8.54% </td>\n",
       "        </tr>\n",
       "        <tr>\n",
       "            <td>23  </td> <td>4692295</td> <td>4341644</td> <td>-7.47% </td>\n",
       "        </tr>\n",
       "        <tr>\n",
       "            <td>45  </td> <td>4147532</td> <td>3837909</td> <td>-7.47% </td>\n",
       "        </tr>\n",
       "        <tr>\n",
       "            <td>22  </td> <td>4604115</td> <td>4298772</td> <td>-6.63% </td>\n",
       "        </tr>\n",
       "        <tr>\n",
       "            <td>54  </td> <td>4563253</td> <td>4305603</td> <td>-5.65% </td>\n",
       "        </tr>\n",
       "    </tbody>\n",
       "</table>\n",
       "<p>... (91 rows omitted)</p>"
      ],
      "text/plain": [
       "AGE  | 2014    | 2019    | 변동율\n",
       "43   | 4319265 | 3854040 | -10.77%\n",
       "51   | 4476281 | 4004343 | -10.54%\n",
       "52   | 4467724 | 4001782 | -10.43%\n",
       "53   | 4523245 | 4068851 | -10.05%\n",
       "44   | 4375450 | 3967275 | -9.33%\n",
       "50   | 4479191 | 4096572 | -8.54%\n",
       "23   | 4692295 | 4341644 | -7.47%\n",
       "45   | 4147532 | 3837909 | -7.47%\n",
       "22   | 4604115 | 4298772 | -6.63%\n",
       "54   | 4563253 | 4305603 | -5.65%\n",
       "... (91 rows omitted)"
      ]
     },
     "execution_count": 37,
     "metadata": {},
     "output_type": "execute_result"
    }
   ],
   "source": [
    "selected_table.where(\"AGE\", are.below(999)).sort(\"변동율\")"
   ]
  },
  {
   "cell_type": "code",
   "execution_count": 35,
   "id": "536b524d-2644-4843-86aa-602ede3f88e7",
   "metadata": {},
   "outputs": [
    {
     "data": {
      "text/plain": [
       "43"
      ]
     },
     "execution_count": 35,
     "metadata": {},
     "output_type": "execute_result"
    }
   ],
   "source": [
    "max_decreased_index = selected_table.column(\"변동율\").argmin()\n",
    "\n",
    "selected_table.column(\"AGE\")[max_decreased_index]"
   ]
  },
  {
   "cell_type": "markdown",
   "id": "912bab25-9089-4bd4-90c2-1b3cb7a04912",
   "metadata": {},
   "source": [
    "---"
   ]
  },
  {
   "cell_type": "markdown",
   "id": "84f85426-1ccb-4857-80cd-fda0633ca441",
   "metadata": {},
   "source": [
    "## 해당 기간에서 전체 인구는 증가 하였는가? 아님 감소 하였는가?\n",
    "- #### AGE=999인 행 추출"
   ]
  },
  {
   "cell_type": "code",
   "execution_count": 32,
   "id": "0c8c804a-8538-4b62-9acb-6cd95a5bbc92",
   "metadata": {},
   "outputs": [
    {
     "data": {
      "text/html": [
       "<table border=\"1\" class=\"dataframe\">\n",
       "    <thead>\n",
       "        <tr>\n",
       "            <th>AGE</th> <th>2014</th> <th>2019</th> <th>변동율</th>\n",
       "        </tr>\n",
       "    </thead>\n",
       "    <tbody>\n",
       "        <tr>\n",
       "            <td>999 </td> <td>318301008</td> <td>328239523</td> <td>3.12%</td>\n",
       "        </tr>\n",
       "    </tbody>\n",
       "</table>"
      ],
      "text/plain": [
       "AGE  | 2014      | 2019      | 변동율\n",
       "999  | 318301008 | 328239523 | 3.12%"
      ]
     },
     "execution_count": 32,
     "metadata": {},
     "output_type": "execute_result"
    }
   ],
   "source": [
    "selected_table.where(\"AGE\", are.equal_to(999))"
   ]
  },
  {
   "cell_type": "markdown",
   "id": "4c35c118-a259-4ae7-a29d-d79afb7e3e40",
   "metadata": {},
   "source": [
    "\n",
    "####    증가율이 양수이므로 증가하였다."
   ]
  }
 ],
 "metadata": {
  "kernelspec": {
   "display_name": "Python 3 (ipykernel)",
   "language": "python",
   "name": "python3"
  },
  "language_info": {
   "codemirror_mode": {
    "name": "ipython",
    "version": 3
   },
   "file_extension": ".py",
   "mimetype": "text/x-python",
   "name": "python",
   "nbconvert_exporter": "python",
   "pygments_lexer": "ipython3",
   "version": "3.10.13"
  }
 },
 "nbformat": 4,
 "nbformat_minor": 5
}
