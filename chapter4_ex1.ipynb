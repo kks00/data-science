{
 "cells": [
  {
   "cell_type": "markdown",
   "id": "b39b8a84-d9c9-4177-89a8-e064e2a5972b",
   "metadata": {},
   "source": [
    "# Chapter4 - Example 1"
   ]
  },
  {
   "cell_type": "markdown",
   "id": "e6d50d29-7adf-466d-a5ba-bcd7670759e1",
   "metadata": {},
   "source": [
    "![image](https://github.com/kks00/data-science/assets/68108664/6013ddb0-5f01-4f7b-b582-aa932714d3ac)\r\n"
   ]
  },
  {
   "cell_type": "markdown",
   "id": "951ff3f1-f65b-48e7-a522-0d488d3c375f",
   "metadata": {},
   "source": [
    "---"
   ]
  },
  {
   "cell_type": "markdown",
   "id": "c5e417f7-77fa-475d-b71f-2de268ef5ac6",
   "metadata": {},
   "source": [
    "# CSV 파일 읽어 테이블 생성"
   ]
  },
  {
   "cell_type": "code",
   "execution_count": 1,
   "id": "fb5df4e1-38f8-4e7d-8813-188bf05561e1",
   "metadata": {},
   "outputs": [],
   "source": [
    "import numpy as np\n",
    "from datascience import *"
   ]
  },
  {
   "cell_type": "code",
   "execution_count": 39,
   "id": "3616c4fb-f4cb-437c-85d8-1a8c5992ab5d",
   "metadata": {},
   "outputs": [
    {
     "data": {
      "text/html": [
       "<table border=\"1\" class=\"dataframe\">\n",
       "    <thead>\n",
       "        <tr>\n",
       "            <th>Longitude</th> <th>Latitude</th> <th>City</th> <th>Direction</th> <th>Survivors</th>\n",
       "        </tr>\n",
       "    </thead>\n",
       "    <tbody>\n",
       "        <tr>\n",
       "            <td>32       </td> <td>54.8    </td> <td>Smolensk   </td> <td>Advance  </td> <td>145000   </td>\n",
       "        </tr>\n",
       "        <tr>\n",
       "            <td>33.2     </td> <td>54.9    </td> <td>Dorogobouge</td> <td>Advance  </td> <td>140000   </td>\n",
       "        </tr>\n",
       "        <tr>\n",
       "            <td>34.4     </td> <td>55.5    </td> <td>Chjat      </td> <td>Advance  </td> <td>127100   </td>\n",
       "        </tr>\n",
       "        <tr>\n",
       "            <td>37.6     </td> <td>55.8    </td> <td>Moscou     </td> <td>Advance  </td> <td>100000   </td>\n",
       "        </tr>\n",
       "        <tr>\n",
       "            <td>34.3     </td> <td>55.2    </td> <td>Wixma      </td> <td>Retreat  </td> <td>55000    </td>\n",
       "        </tr>\n",
       "        <tr>\n",
       "            <td>32       </td> <td>54.6    </td> <td>Smolensk   </td> <td>Retreat  </td> <td>24000    </td>\n",
       "        </tr>\n",
       "        <tr>\n",
       "            <td>30.4     </td> <td>54.4    </td> <td>Orscha     </td> <td>Retreat  </td> <td>20000    </td>\n",
       "        </tr>\n",
       "        <tr>\n",
       "            <td>26.8     </td> <td>54.3    </td> <td>Moiodexno  </td> <td>Retreat  </td> <td>12000    </td>\n",
       "        </tr>\n",
       "    </tbody>\n",
       "</table>"
      ],
      "text/plain": [
       "Longitude | Latitude | City        | Direction | Survivors\n",
       "32        | 54.8     | Smolensk    | Advance   | 145000\n",
       "33.2      | 54.9     | Dorogobouge | Advance   | 140000\n",
       "34.4      | 55.5     | Chjat       | Advance   | 127100\n",
       "37.6      | 55.8     | Moscou      | Advance   | 100000\n",
       "34.3      | 55.2     | Wixma       | Retreat   | 55000\n",
       "32        | 54.6     | Smolensk    | Retreat   | 24000\n",
       "30.4      | 54.4     | Orscha      | Retreat   | 20000\n",
       "26.8      | 54.3     | Moiodexno   | Retreat   | 12000"
      ]
     },
     "execution_count": 39,
     "metadata": {},
     "output_type": "execute_result"
    }
   ],
   "source": [
    "table = Table.read_table('csv/minard.csv')\n",
    "table"
   ]
  },
  {
   "cell_type": "markdown",
   "id": "665f8732-ad6c-4add-9069-0ab32f5c8afb",
   "metadata": {},
   "source": [
    "---"
   ]
  },
  {
   "cell_type": "markdown",
   "id": "033cb8ab-e05b-487c-9ae4-82e338737ec8",
   "metadata": {},
   "source": [
    "# 생존율 컬럼을 포함한 테이블 생성"
   ]
  },
  {
   "cell_type": "code",
   "execution_count": 29,
   "id": "fad3a418-7304-4725-8eb8-20a6a7874c4f",
   "metadata": {},
   "outputs": [
    {
     "data": {
      "text/html": [
       "<table border=\"1\" class=\"dataframe\">\n",
       "    <thead>\n",
       "        <tr>\n",
       "            <th>Longitude</th> <th>Latitude</th> <th>City</th> <th>Direction</th> <th>Survivors</th> <th>생존율</th>\n",
       "        </tr>\n",
       "    </thead>\n",
       "    <tbody>\n",
       "        <tr>\n",
       "            <td>32       </td> <td>54.8    </td> <td>Smolensk   </td> <td>Advance  </td> <td>145000   </td> <td>100.00%</td>\n",
       "        </tr>\n",
       "        <tr>\n",
       "            <td>33.2     </td> <td>54.9    </td> <td>Dorogobouge</td> <td>Advance  </td> <td>140000   </td> <td>96.55% </td>\n",
       "        </tr>\n",
       "        <tr>\n",
       "            <td>34.4     </td> <td>55.5    </td> <td>Chjat      </td> <td>Advance  </td> <td>127100   </td> <td>87.66% </td>\n",
       "        </tr>\n",
       "        <tr>\n",
       "            <td>37.6     </td> <td>55.8    </td> <td>Moscou     </td> <td>Advance  </td> <td>100000   </td> <td>68.97% </td>\n",
       "        </tr>\n",
       "        <tr>\n",
       "            <td>34.3     </td> <td>55.2    </td> <td>Wixma      </td> <td>Retreat  </td> <td>55000    </td> <td>37.93% </td>\n",
       "        </tr>\n",
       "        <tr>\n",
       "            <td>32       </td> <td>54.6    </td> <td>Smolensk   </td> <td>Retreat  </td> <td>24000    </td> <td>16.55% </td>\n",
       "        </tr>\n",
       "        <tr>\n",
       "            <td>30.4     </td> <td>54.4    </td> <td>Orscha     </td> <td>Retreat  </td> <td>20000    </td> <td>13.79% </td>\n",
       "        </tr>\n",
       "        <tr>\n",
       "            <td>26.8     </td> <td>54.3    </td> <td>Moiodexno  </td> <td>Retreat  </td> <td>12000    </td> <td>8.28%  </td>\n",
       "        </tr>\n",
       "    </tbody>\n",
       "</table>"
      ],
      "text/plain": [
       "Longitude | Latitude | City        | Direction | Survivors | 생존율\n",
       "32        | 54.8     | Smolensk    | Advance   | 145000    | 100.00%\n",
       "33.2      | 54.9     | Dorogobouge | Advance   | 140000    | 96.55%\n",
       "34.4      | 55.5     | Chjat       | Advance   | 127100    | 87.66%\n",
       "37.6      | 55.8     | Moscou      | Advance   | 100000    | 68.97%\n",
       "34.3      | 55.2     | Wixma       | Retreat   | 55000     | 37.93%\n",
       "32        | 54.6     | Smolensk    | Retreat   | 24000     | 16.55%\n",
       "30.4      | 54.4     | Orscha      | Retreat   | 20000     | 13.79%\n",
       "26.8      | 54.3     | Moiodexno   | Retreat   | 12000     | 8.28%"
      ]
     },
     "execution_count": 29,
     "metadata": {},
     "output_type": "execute_result"
    }
   ],
   "source": [
    "survivors = table.column('Survivors')\n",
    "init_survivor = survivors[0]\n",
    "\n",
    "alive_rate = survivors / init_survivor\n",
    "\n",
    "table_with_alive_rate = table.with_columns('생존율', alive_rate).set_format('생존율', PercentFormatter)\n",
    "table_with_alive_rate"
   ]
  },
  {
   "cell_type": "markdown",
   "id": "8da38c7c-2245-457d-944d-96194e1e8a1a",
   "metadata": {},
   "source": [
    "---"
   ]
  },
  {
   "cell_type": "markdown",
   "id": "d28361a7-be5d-4d9c-adc0-f3675bcdf187",
   "metadata": {},
   "source": [
    "# 감소율 컬럼을 포함한 테이블 생성"
   ]
  },
  {
   "cell_type": "code",
   "execution_count": 54,
   "id": "6a8a4167-b274-428d-80c4-111a6415bc5c",
   "metadata": {},
   "outputs": [
    {
     "data": {
      "text/html": [
       "<table border=\"1\" class=\"dataframe\">\n",
       "    <thead>\n",
       "        <tr>\n",
       "            <th>Longitude</th> <th>Latitude</th> <th>City</th> <th>Direction</th> <th>Survivors</th> <th>생존율</th> <th>감소율</th>\n",
       "        </tr>\n",
       "    </thead>\n",
       "    <tbody>\n",
       "        <tr>\n",
       "            <td>32       </td> <td>54.8    </td> <td>Smolensk   </td> <td>Advance  </td> <td>145000   </td> <td>100.00%</td> <td>0.00%  </td>\n",
       "        </tr>\n",
       "        <tr>\n",
       "            <td>33.2     </td> <td>54.9    </td> <td>Dorogobouge</td> <td>Advance  </td> <td>140000   </td> <td>96.55% </td> <td>-3.45% </td>\n",
       "        </tr>\n",
       "        <tr>\n",
       "            <td>34.4     </td> <td>55.5    </td> <td>Chjat      </td> <td>Advance  </td> <td>127100   </td> <td>87.66% </td> <td>-8.90% </td>\n",
       "        </tr>\n",
       "        <tr>\n",
       "            <td>37.6     </td> <td>55.8    </td> <td>Moscou     </td> <td>Advance  </td> <td>100000   </td> <td>68.97% </td> <td>-18.69%</td>\n",
       "        </tr>\n",
       "        <tr>\n",
       "            <td>34.3     </td> <td>55.2    </td> <td>Wixma      </td> <td>Retreat  </td> <td>55000    </td> <td>37.93% </td> <td>-31.03%</td>\n",
       "        </tr>\n",
       "        <tr>\n",
       "            <td>32       </td> <td>54.6    </td> <td>Smolensk   </td> <td>Retreat  </td> <td>24000    </td> <td>16.55% </td> <td>-21.38%</td>\n",
       "        </tr>\n",
       "        <tr>\n",
       "            <td>30.4     </td> <td>54.4    </td> <td>Orscha     </td> <td>Retreat  </td> <td>20000    </td> <td>13.79% </td> <td>-2.76% </td>\n",
       "        </tr>\n",
       "        <tr>\n",
       "            <td>26.8     </td> <td>54.3    </td> <td>Moiodexno  </td> <td>Retreat  </td> <td>12000    </td> <td>8.28%  </td> <td>-5.52% </td>\n",
       "        </tr>\n",
       "    </tbody>\n",
       "</table>"
      ],
      "text/plain": [
       "Longitude | Latitude | City        | Direction | Survivors | 생존율     | 감소율\n",
       "32        | 54.8     | Smolensk    | Advance   | 145000    | 100.00% | 0.00%\n",
       "33.2      | 54.9     | Dorogobouge | Advance   | 140000    | 96.55%  | -3.45%\n",
       "34.4      | 55.5     | Chjat       | Advance   | 127100    | 87.66%  | -8.90%\n",
       "37.6      | 55.8     | Moscou      | Advance   | 100000    | 68.97%  | -18.69%\n",
       "34.3      | 55.2     | Wixma       | Retreat   | 55000     | 37.93%  | -31.03%\n",
       "32        | 54.6     | Smolensk    | Retreat   | 24000     | 16.55%  | -21.38%\n",
       "30.4      | 54.4     | Orscha      | Retreat   | 20000     | 13.79%  | -2.76%\n",
       "26.8      | 54.3     | Moiodexno   | Retreat   | 12000     | 8.28%   | -5.52%"
      ]
     },
     "execution_count": 54,
     "metadata": {},
     "output_type": "execute_result"
    }
   ],
   "source": [
    "alive_rate = table_with_alive_rate.column('생존율')\n",
    "decrease_rate = np.diff(alive_rate) # 인접 원소와의 차이를 보여줌, 가장 앞 원소 제외한 결과\n",
    "decrease_rate = np.array([0] + list(decrease_rate)) # 맨 앞 감소율 0으로 설정\n",
    "\n",
    "table_with_decrease_rate = table_with_alive_rate.with_columns(\"감소율\", decrease_rate).set_format(\"감소율\", PercentFormatter)\n",
    "table_with_decrease_rate"
   ]
  },
  {
   "cell_type": "markdown",
   "id": "fa081c4c-7c92-49c3-96cb-33b8496bf563",
   "metadata": {},
   "source": [
    "---"
   ]
  },
  {
   "cell_type": "markdown",
   "id": "24722273-b5f3-4eea-9961-98bb746a90b0",
   "metadata": {},
   "source": [
    "# 가장 많은 감소가 발생한 도시"
   ]
  },
  {
   "cell_type": "code",
   "execution_count": 60,
   "id": "5d293f15-a851-4159-993a-139f0fc2f990",
   "metadata": {},
   "outputs": [
    {
     "data": {
      "text/plain": [
       "4"
      ]
     },
     "execution_count": 60,
     "metadata": {},
     "output_type": "execute_result"
    }
   ],
   "source": [
    "city_index = table_with_decrease_rate.column(\"감소율\").argmin() # 축에서 가장 적은 값의 인덱스 반환\n",
    "city_index"
   ]
  },
  {
   "cell_type": "code",
   "execution_count": 61,
   "id": "9855ca87-32d3-466d-a74e-a97fbfa8b7f5",
   "metadata": {},
   "outputs": [
    {
     "data": {
      "text/plain": [
       "'Wixma'"
      ]
     },
     "execution_count": 61,
     "metadata": {},
     "output_type": "execute_result"
    }
   ],
   "source": [
    "table_with_decrease_rate.column(\"City\")[city_index]"
   ]
  }
 ],
 "metadata": {
  "kernelspec": {
   "display_name": "Python 3 (ipykernel)",
   "language": "python",
   "name": "python3"
  },
  "language_info": {
   "codemirror_mode": {
    "name": "ipython",
    "version": 3
   },
   "file_extension": ".py",
   "mimetype": "text/x-python",
   "name": "python",
   "nbconvert_exporter": "python",
   "pygments_lexer": "ipython3",
   "version": "3.10.13"
  }
 },
 "nbformat": 4,
 "nbformat_minor": 5
}
