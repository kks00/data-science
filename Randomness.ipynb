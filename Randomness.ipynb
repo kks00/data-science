{
 "cells": [
  {
   "cell_type": "code",
   "execution_count": 1,
   "id": "f8d27f4f-8237-4468-9f9f-d8bb133d52af",
   "metadata": {},
   "outputs": [],
   "source": [
    "import numpy as np\n",
    "from datascience import *\n",
    "%matplotlib inline"
   ]
  },
  {
   "cell_type": "markdown",
   "id": "ea98ebe7-4368-4705-92ee-b83742cf458b",
   "metadata": {},
   "source": [
    "---"
   ]
  },
  {
   "cell_type": "markdown",
   "id": "d960c368-1636-4bda-8e93-b867077c1118",
   "metadata": {},
   "source": [
    "- ### np.random.choice(array, size=None, replace=True)\n",
    "    - #### size: 출력 배열의 shape\n",
    "    - #### replace: 중복 허용 여부"
   ]
  },
  {
   "cell_type": "markdown",
   "id": "c37b6991-27ea-47fd-9b2b-1f64e3f26377",
   "metadata": {},
   "source": [
    "<br>"
   ]
  },
  {
   "cell_type": "markdown",
   "id": "2341e013-9519-44ee-8f2f-3908f1a71e6d",
   "metadata": {},
   "source": [
    "- #### 동전 100번 던졌을 때 앞면이 나오는 횟수 시뮬레이션"
   ]
  },
  {
   "cell_type": "code",
   "execution_count": 10,
   "id": "83bbc7bf-de32-4f59-af6e-91100be64d91",
   "metadata": {},
   "outputs": [
    {
     "name": "stdout",
     "output_type": "stream",
     "text": [
      "['head' 'head' 'head' 'tail' 'head' 'tail' 'head' 'tail' 'tail' 'head'\n",
      " 'tail' 'head' 'tail' 'tail' 'head' 'tail' 'tail' 'tail' 'tail' 'tail'\n",
      " 'head' 'head' 'tail' 'head' 'head' 'head' 'tail' 'head' 'head' 'head'\n",
      " 'head' 'head' 'tail' 'tail' 'tail' 'head' 'tail' 'head' 'head' 'tail'\n",
      " 'tail' 'head' 'head' 'head' 'tail' 'head' 'head' 'head' 'head' 'head'\n",
      " 'head' 'head' 'tail' 'tail' 'tail' 'head' 'head' 'head' 'head' 'tail'\n",
      " 'head' 'head' 'head' 'tail' 'head' 'head' 'tail' 'head' 'head' 'tail'\n",
      " 'head' 'tail' 'head' 'head' 'tail' 'tail' 'tail' 'tail' 'head' 'head'\n",
      " 'tail' 'head' 'head' 'head' 'tail' 'head' 'head' 'head' 'tail' 'head'\n",
      " 'head' 'tail' 'tail' 'head' 'tail' 'head' 'head' 'tail' 'tail' 'head']\n"
     ]
    },
    {
     "data": {
      "text/plain": [
       "59"
      ]
     },
     "execution_count": 10,
     "metadata": {},
     "output_type": "execute_result"
    }
   ],
   "source": [
    "coin = make_array(\"head\", \"tail\")\n",
    "outcomes = np.random.choice(coin, 100)\n",
    "print(outcomes)\n",
    "np.count_nonzero(outcomes==\"head\")"
   ]
  },
  {
   "cell_type": "markdown",
   "id": "cdce5e1a-a61f-4f49-825c-2d87212d0a53",
   "metadata": {},
   "source": [
    "- #### 동전을 100회 던지는 작업을 20000번 반복하여 결과값 테이블에 저장"
   ]
  },
  {
   "cell_type": "code",
   "execution_count": 18,
   "id": "6adb7af0-266a-440e-b904-2b2b4c930579",
   "metadata": {},
   "outputs": [
    {
     "data": {
      "text/html": [
       "<table border=\"1\" class=\"dataframe\">\n",
       "    <thead>\n",
       "        <tr>\n",
       "            <th>Repetition</th> <th>Number of Heads</th>\n",
       "        </tr>\n",
       "    </thead>\n",
       "    <tbody>\n",
       "        <tr>\n",
       "            <td>1         </td> <td>49             </td>\n",
       "        </tr>\n",
       "        <tr>\n",
       "            <td>2         </td> <td>54             </td>\n",
       "        </tr>\n",
       "        <tr>\n",
       "            <td>3         </td> <td>52             </td>\n",
       "        </tr>\n",
       "        <tr>\n",
       "            <td>4         </td> <td>47             </td>\n",
       "        </tr>\n",
       "        <tr>\n",
       "            <td>5         </td> <td>44             </td>\n",
       "        </tr>\n",
       "        <tr>\n",
       "            <td>6         </td> <td>51             </td>\n",
       "        </tr>\n",
       "        <tr>\n",
       "            <td>7         </td> <td>58             </td>\n",
       "        </tr>\n",
       "        <tr>\n",
       "            <td>8         </td> <td>50             </td>\n",
       "        </tr>\n",
       "        <tr>\n",
       "            <td>9         </td> <td>46             </td>\n",
       "        </tr>\n",
       "        <tr>\n",
       "            <td>10        </td> <td>57             </td>\n",
       "        </tr>\n",
       "    </tbody>\n",
       "</table>\n",
       "<p>... (19990 rows omitted)</p>"
      ],
      "text/plain": [
       "Repetition | Number of Heads\n",
       "1          | 49\n",
       "2          | 54\n",
       "3          | 52\n",
       "4          | 47\n",
       "5          | 44\n",
       "6          | 51\n",
       "7          | 58\n",
       "8          | 50\n",
       "9          | 46\n",
       "10         | 57\n",
       "... (19990 rows omitted)"
      ]
     },
     "execution_count": 18,
     "metadata": {},
     "output_type": "execute_result"
    }
   ],
   "source": [
    "def one_simulated_value():\n",
    "    coins = make_array(\"head\", \"tail\")\n",
    "    return np.count_nonzero(np.random.choice(coins, 100) == \"head\")\n",
    "\n",
    "result_arr = make_array()\n",
    "for rep in range(1, 20001):\n",
    "    result_arr = np.append(result_arr, one_simulated_value())\n",
    "\n",
    "table = Table().with_columns(\n",
    "    \"Repetition\", np.arange(1, 20001),\n",
    "    \"Number of Heads\", result_arr\n",
    ")\n",
    "table"
   ]
  },
  {
   "cell_type": "markdown",
   "id": "fd326347-93d8-4f1d-b48a-e0fb0572d1da",
   "metadata": {},
   "source": [
    "- #### 너비 1인 히스토그램 생성"
   ]
  },
  {
   "cell_type": "code",
   "execution_count": 20,
   "id": "0d578338-bbc5-4112-beeb-38699e1873bf",
   "metadata": {},
   "outputs": [
    {
     "data": {
      "image/png": "[encoded data removed]",
      "text/plain": [
       "<Figure size 600x400 with 1 Axes>"
      ]
     },
     "metadata": {},
     "output_type": "display_data"
    }
   ],
   "source": [
    "table.hist(\"Number of Heads\", bins=np.arange(30.5, 69.6, 1))"
   ]
  },
  {
   "cell_type": "markdown",
   "id": "036d3eee-a14c-43ca-bb20-73dec8c734d1",
   "metadata": {},
   "source": [
    "---"
   ]
  },
  {
   "cell_type": "markdown",
   "id": "46084be1-89f2-4c07-85f8-d798814aa7a7",
   "metadata": {},
   "source": [
    "- ## Monopoly 게임\n",
    "    - #### 주사위 두 번 굴렸을때의 합 분석"
   ]
  },
  {
   "cell_type": "markdown",
   "id": "893b55bd-f5d2-49ef-8e14-46636ce87138",
   "metadata": {},
   "source": [
    "<br>"
   ]
  },
  {
   "cell_type": "code",
   "execution_count": 23,
   "id": "2559421f-dfb2-48ed-b0c5-38a6e567180b",
   "metadata": {},
   "outputs": [
    {
     "data": {
      "text/html": [
       "<table border=\"1\" class=\"dataframe\">\n",
       "    <thead>\n",
       "        <tr>\n",
       "            <th>Try</th> <th>Result</th>\n",
       "        </tr>\n",
       "    </thead>\n",
       "    <tbody>\n",
       "        <tr>\n",
       "            <td>1   </td> <td>4     </td>\n",
       "        </tr>\n",
       "        <tr>\n",
       "            <td>2   </td> <td>8     </td>\n",
       "        </tr>\n",
       "        <tr>\n",
       "            <td>3   </td> <td>4     </td>\n",
       "        </tr>\n",
       "        <tr>\n",
       "            <td>4   </td> <td>6     </td>\n",
       "        </tr>\n",
       "        <tr>\n",
       "            <td>5   </td> <td>10    </td>\n",
       "        </tr>\n",
       "        <tr>\n",
       "            <td>6   </td> <td>4     </td>\n",
       "        </tr>\n",
       "        <tr>\n",
       "            <td>7   </td> <td>7     </td>\n",
       "        </tr>\n",
       "        <tr>\n",
       "            <td>8   </td> <td>7     </td>\n",
       "        </tr>\n",
       "        <tr>\n",
       "            <td>9   </td> <td>8     </td>\n",
       "        </tr>\n",
       "        <tr>\n",
       "            <td>10  </td> <td>4     </td>\n",
       "        </tr>\n",
       "    </tbody>\n",
       "</table>\n",
       "<p>... (9990 rows omitted)</p>"
      ],
      "text/plain": [
       "Try  | Result\n",
       "1    | 4\n",
       "2    | 8\n",
       "3    | 4\n",
       "4    | 6\n",
       "5    | 10\n",
       "6    | 4\n",
       "7    | 7\n",
       "8    | 7\n",
       "9    | 8\n",
       "10   | 4\n",
       "... (9990 rows omitted)"
      ]
     },
     "execution_count": 23,
     "metadata": {},
     "output_type": "execute_result"
    }
   ],
   "source": [
    "dice = np.arange(1, 7, 1)\n",
    "\n",
    "def one_simulated_value():\n",
    "    return np.random.choice(dice, 1) + np.random.choice(dice, 1)\n",
    "\n",
    "arr = make_array()\n",
    "for _ in range(10000):\n",
    "    arr = np.append(arr, one_simulated_value())\n",
    "\n",
    "table = Table().with_columns(\n",
    "    \"Try\", np.arange(1, 10001, 1),\n",
    "    \"Result\", arr\n",
    ")\n",
    "table"
   ]
  },
  {
   "cell_type": "code",
   "execution_count": 25,
   "id": "e4b08ef0-8045-4ac4-b593-3bdf262c7c27",
   "metadata": {},
   "outputs": [
    {
     "data": {
      "image/png": "[encoded data removed]",
      "text/plain": [
       "<Figure size 600x400 with 1 Axes>"
      ]
     },
     "metadata": {},
     "output_type": "display_data"
    }
   ],
   "source": [
    "table.hist(\"Result\", bins=np.arange(1.5, 12.5, 1))"
   ]
  },
  {
   "cell_type": "markdown",
   "id": "62e2b9db-14d7-456a-817e-261a8803b626",
   "metadata": {},
   "source": [
    "---"
   ]
  },
  {
   "cell_type": "markdown",
   "id": "7d1ee5e5-2ddb-4398-9a80-cbee990c283b",
   "metadata": {},
   "source": [
    "- ## The Monty Hall Problem\n",
    "    - #### 1. 세 개의 닫힌 문 중 참가자가 한 개의 문 선택\n",
    "    - #### 2. 참가자가 선택하지 않은 문 중 염소인 문을 진행자가 열어서 보여줌\n",
    "    - #### 3. 다른 문으로 선택을 바꾸는 것이 이득이다.  \n",
    "        - #### 참가자가 처음 선택했을 때 자동차를 선택할 확률: $\\frac{1}{3}$\n",
    "        - #### 진행자가 염소인 문을 공개한 후 참가자가 선택을 바꿨을 때 자동차를 선택할 확률\n",
    "            - #### 내가 선택하지 않은 문에 자동차가 있을 확률: $\\frac{2}{3}$"
   ]
  },
  {
   "cell_type": "markdown",
   "id": "ef6b135e-d83f-4851-a467-51920f5032f0",
   "metadata": {},
   "source": [
    "<br>"
   ]
  },
  {
   "cell_type": "markdown",
   "id": "4e620f83-6f45-4506-ab84-38c6b3613a9a",
   "metadata": {},
   "source": [
    "- #### 시뮬레이션"
   ]
  },
  {
   "cell_type": "code",
   "execution_count": 34,
   "id": "fcabe653-138a-4539-bf3c-e4c7972b34c6",
   "metadata": {},
   "outputs": [],
   "source": [
    "goats = make_array(\"first goat\", \"second goat\")\n",
    "\n",
    "def other_goat(goat):\n",
    "    if goat == \"first goat\":\n",
    "        return \"second goat\"\n",
    "    elif goat == \"second goat\":\n",
    "        return \"first goat\"\n",
    "\n",
    "behind_doors = np.append(goats, \"car\")\n",
    "\n",
    "def monty_hall_game():\n",
    "    contestant_guess = np.random.choice(behind_doors)\n",
    "\n",
    "    if contestant_guess == \"first goat\":\n",
    "        return [\"first goat\", \"second goat\", \"car\"]\n",
    "    elif contestant_guess == \"second goat\":\n",
    "        return [\"second goat\", \"first goat\", \"car\"] \n",
    "    elif contestant_guess == \"car\":\n",
    "        revealed = np.random.choice(goats)\n",
    "        return [\"car\", revealed, other_goat(revealed)]"
   ]
  },
  {
   "cell_type": "code",
   "execution_count": 36,
   "id": "86b651dd-5657-4740-9480-490bad6de750",
   "metadata": {},
   "outputs": [
    {
     "data": {
      "text/html": [
       "<table border=\"1\" class=\"dataframe\">\n",
       "    <thead>\n",
       "        <tr>\n",
       "            <th>Guess</th> <th>Revealed</th> <th>Remaining</th>\n",
       "        </tr>\n",
       "    </thead>\n",
       "    <tbody>\n",
       "        <tr>\n",
       "            <td>second goat</td> <td>first goat </td> <td>car        </td>\n",
       "        </tr>\n",
       "        <tr>\n",
       "            <td>second goat</td> <td>first goat </td> <td>car        </td>\n",
       "        </tr>\n",
       "        <tr>\n",
       "            <td>second goat</td> <td>first goat </td> <td>car        </td>\n",
       "        </tr>\n",
       "        <tr>\n",
       "            <td>first goat </td> <td>second goat</td> <td>car        </td>\n",
       "        </tr>\n",
       "        <tr>\n",
       "            <td>first goat </td> <td>second goat</td> <td>car        </td>\n",
       "        </tr>\n",
       "        <tr>\n",
       "            <td>first goat </td> <td>second goat</td> <td>car        </td>\n",
       "        </tr>\n",
       "        <tr>\n",
       "            <td>first goat </td> <td>second goat</td> <td>car        </td>\n",
       "        </tr>\n",
       "        <tr>\n",
       "            <td>second goat</td> <td>first goat </td> <td>car        </td>\n",
       "        </tr>\n",
       "        <tr>\n",
       "            <td>first goat </td> <td>second goat</td> <td>car        </td>\n",
       "        </tr>\n",
       "        <tr>\n",
       "            <td>car        </td> <td>first goat </td> <td>second goat</td>\n",
       "        </tr>\n",
       "    </tbody>\n",
       "</table>\n",
       "<p>... (9990 rows omitted)</p>"
      ],
      "text/plain": [
       "Guess       | Revealed    | Remaining\n",
       "second goat | first goat  | car\n",
       "second goat | first goat  | car\n",
       "second goat | first goat  | car\n",
       "first goat  | second goat | car\n",
       "first goat  | second goat | car\n",
       "first goat  | second goat | car\n",
       "first goat  | second goat | car\n",
       "second goat | first goat  | car\n",
       "first goat  | second goat | car\n",
       "car         | first goat  | second goat\n",
       "... (9990 rows omitted)"
      ]
     },
     "execution_count": 36,
     "metadata": {},
     "output_type": "execute_result"
    }
   ],
   "source": [
    "result = make_array()\n",
    "\n",
    "table = Table([\"Guess\", \"Revealed\", \"Remaining\"])\n",
    "for _ in range(10000):\n",
    "    table.append(monty_hall_game())\n",
    "table"
   ]
  },
  {
   "cell_type": "markdown",
   "id": "87f67280-6724-4e6b-ac43-6ac86d9d8c22",
   "metadata": {},
   "source": [
    "- #### 참가자의 추측의 결과와, 남은 문의 결과를 포함한 테이블 생성"
   ]
  },
  {
   "cell_type": "code",
   "execution_count": 39,
   "id": "207d2cc8-b6d6-49f4-bc56-f5fd6acec52b",
   "metadata": {},
   "outputs": [
    {
     "data": {
      "text/html": [
       "<table border=\"1\" class=\"dataframe\">\n",
       "    <thead>\n",
       "        <tr>\n",
       "            <th>Guess</th> <th>count</th>\n",
       "        </tr>\n",
       "    </thead>\n",
       "    <tbody>\n",
       "        <tr>\n",
       "            <td>car        </td> <td>3326 </td>\n",
       "        </tr>\n",
       "        <tr>\n",
       "            <td>first goat </td> <td>3406 </td>\n",
       "        </tr>\n",
       "        <tr>\n",
       "            <td>second goat</td> <td>3268 </td>\n",
       "        </tr>\n",
       "    </tbody>\n",
       "</table>"
      ],
      "text/plain": [
       "Guess       | count\n",
       "car         | 3326\n",
       "first goat  | 3406\n",
       "second goat | 3268"
      ]
     },
     "execution_count": 39,
     "metadata": {},
     "output_type": "execute_result"
    }
   ],
   "source": [
    "guess_table = table.group(\"Guess\")\n",
    "guess_table"
   ]
  },
  {
   "cell_type": "code",
   "execution_count": 41,
   "id": "c78672ca-de87-46ec-bb14-50292c4a73d4",
   "metadata": {},
   "outputs": [
    {
     "data": {
      "text/html": [
       "<table border=\"1\" class=\"dataframe\">\n",
       "    <thead>\n",
       "        <tr>\n",
       "            <th>Remaining</th> <th>count</th>\n",
       "        </tr>\n",
       "    </thead>\n",
       "    <tbody>\n",
       "        <tr>\n",
       "            <td>car        </td> <td>6674 </td>\n",
       "        </tr>\n",
       "        <tr>\n",
       "            <td>first goat </td> <td>1649 </td>\n",
       "        </tr>\n",
       "        <tr>\n",
       "            <td>second goat</td> <td>1677 </td>\n",
       "        </tr>\n",
       "    </tbody>\n",
       "</table>"
      ],
      "text/plain": [
       "Remaining   | count\n",
       "car         | 6674\n",
       "first goat  | 1649\n",
       "second goat | 1677"
      ]
     },
     "execution_count": 41,
     "metadata": {},
     "output_type": "execute_result"
    }
   ],
   "source": [
    "remaining_table = table.group(\"Remaining\")\n",
    "remaining_table"
   ]
  },
  {
   "cell_type": "markdown",
   "id": "d9522595-c96b-45e5-92bf-2b9914d6bd72",
   "metadata": {},
   "source": [
    "- #### 두 테이블을 합친 테이블 생성"
   ]
  },
  {
   "cell_type": "code",
   "execution_count": 45,
   "id": "b02be3e1-473c-4d86-8cd5-4a46ed45c802",
   "metadata": {},
   "outputs": [
    {
     "data": {
      "text/html": [
       "<table border=\"1\" class=\"dataframe\">\n",
       "    <thead>\n",
       "        <tr>\n",
       "            <th>Guess</th> <th>Original Door</th> <th>Remaining Door</th>\n",
       "        </tr>\n",
       "    </thead>\n",
       "    <tbody>\n",
       "        <tr>\n",
       "            <td>car        </td> <td>3326         </td> <td>6674          </td>\n",
       "        </tr>\n",
       "        <tr>\n",
       "            <td>first goat </td> <td>3406         </td> <td>1649          </td>\n",
       "        </tr>\n",
       "        <tr>\n",
       "            <td>second goat</td> <td>3268         </td> <td>1677          </td>\n",
       "        </tr>\n",
       "    </tbody>\n",
       "</table>"
      ],
      "text/plain": [
       "Guess       | Original Door | Remaining Door\n",
       "car         | 3326          | 6674\n",
       "first goat  | 3406          | 1649\n",
       "second goat | 3268          | 1677"
      ]
     },
     "execution_count": 45,
     "metadata": {},
     "output_type": "execute_result"
    }
   ],
   "source": [
    "joined_table = guess_table.join(\"Guess\", remaining_table, \"Remaining\").relabeled(1, \"Original Door\").relabeled(2, \"Remaining Door\")\n",
    "joined_table"
   ]
  },
  {
   "cell_type": "markdown",
   "id": "a3081628-0f1e-48fc-9e44-667d37ec9108",
   "metadata": {},
   "source": [
    "- #### 두 결과를 시각화\n",
    "    - #### 파란색 막대\n",
    "        - #### 처음 선택에 대한 결과는 $\\frac{1}{3}$으로 모두 동일\n",
    "    - #### 노란색 막대\n",
    "        - #### 남은 문이 자동차일 확률은 $\\frac{2}{3}$임"
   ]
  },
  {
   "cell_type": "code",
   "execution_count": 46,
   "id": "9a23c887-bd66-4b50-a9b3-4a3af97c0299",
   "metadata": {},
   "outputs": [
    {
     "data": {
      "image/png": "[encoded data removed]",
      "text/plain": [
       "<Figure size 600x400 with 1 Axes>"
      ]
     },
     "metadata": {},
     "output_type": "display_data"
    }
   ],
   "source": [
    "joined_table.barh(\"Guess\", make_array(\"Original Door\", \"Remaining Door\"))"
   ]
  }
 ],
 "metadata": {
  "kernelspec": {
   "display_name": "Python 3 (ipykernel)",
   "language": "python",
   "name": "python3"
  },
  "language_info": {
   "codemirror_mode": {
    "name": "ipython",
    "version": 3
   },
   "file_extension": ".py",
   "mimetype": "text/x-python",
   "name": "python",
   "nbconvert_exporter": "python",
   "pygments_lexer": "ipython3",
   "version": "3.10.13"
  }
 },
 "nbformat": 4,
 "nbformat_minor": 5
}
