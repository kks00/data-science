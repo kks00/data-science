{
 "cells": [
  {
   "cell_type": "code",
   "execution_count": 22,
   "id": "2e5e9ade-414e-4eb2-a952-dbb7c2f17d64",
   "metadata": {},
   "outputs": [],
   "source": [
    "from datascience import *\n",
    "import numpy as np"
   ]
  },
  {
   "cell_type": "markdown",
   "id": "edcc364c-d519-4f36-87e0-8f08887b46cf",
   "metadata": {},
   "source": [
    "- ### Table().with_columns('label', array, 'label', array, ...)\n",
    "    - #### 레이블이 지정된 열을 테이블에 추가\n",
    "    - #### 모든 열의 길이가 똑같아야 한다."
   ]
  },
  {
   "cell_type": "code",
   "execution_count": 2,
   "id": "f0c5c180-65b8-4664-b237-5e35c7fdf607",
   "metadata": {},
   "outputs": [
    {
     "data": {
      "text/html": [
       "<table border=\"1\" class=\"dataframe\">\n",
       "    <thead>\n",
       "        <tr>\n",
       "            <th>Numbers</th>\n",
       "        </tr>\n",
       "    </thead>\n",
       "    <tbody>\n",
       "        <tr>\n",
       "            <td>1      </td>\n",
       "        </tr>\n",
       "        <tr>\n",
       "            <td>2      </td>\n",
       "        </tr>\n",
       "        <tr>\n",
       "            <td>3      </td>\n",
       "        </tr>\n",
       "    </tbody>\n",
       "</table>"
      ],
      "text/plain": [
       "Numbers\n",
       "1\n",
       "2\n",
       "3"
      ]
     },
     "execution_count": 2,
     "metadata": {},
     "output_type": "execute_result"
    }
   ],
   "source": [
    "Table().with_columns('Numbers', make_array(1, 2, 3))"
   ]
  },
  {
   "cell_type": "markdown",
   "id": "abbceadc-03bb-42bc-8797-146ebd9e16f4",
   "metadata": {},
   "source": [
    "- ### make_array()\n",
    "    - #### numpy array를 만드는 함수"
   ]
  },
  {
   "cell_type": "code",
   "execution_count": 3,
   "id": "691b1930-6ab5-47b2-9877-550d6ff9cc05",
   "metadata": {},
   "outputs": [
    {
     "data": {
      "text/plain": [
       "array([1, 2, 3], dtype=int64)"
      ]
     },
     "execution_count": 3,
     "metadata": {},
     "output_type": "execute_result"
    }
   ],
   "source": [
    "make_array(1, 2, 3)"
   ]
  },
  {
   "cell_type": "markdown",
   "id": "cb316d68-72c2-40b2-add4-fca12fe4cb3c",
   "metadata": {},
   "source": [
    "- ### Table.read_table(URL, 파일 경로)\n",
    "    - #### csv 읽어서 테이블로 변환"
   ]
  },
  {
   "cell_type": "code",
   "execution_count": 4,
   "id": "81b33e38-0709-4cea-afad-8d2d9bce9718",
   "metadata": {},
   "outputs": [
    {
     "data": {
      "text/html": [
       "<table border=\"1\" class=\"dataframe\">\n",
       "    <thead>\n",
       "        <tr>\n",
       "            <th>State</th> <th>Participation Rate</th> <th>Critical Reading</th> <th>Math</th> <th>Writing</th> <th>Combined</th>\n",
       "        </tr>\n",
       "    </thead>\n",
       "    <tbody>\n",
       "        <tr>\n",
       "            <td>North Dakota</td> <td>2.3               </td> <td>612             </td> <td>620 </td> <td>584    </td> <td>1816    </td>\n",
       "        </tr>\n",
       "        <tr>\n",
       "            <td>Illinois    </td> <td>4.6               </td> <td>599             </td> <td>616 </td> <td>587    </td> <td>1802    </td>\n",
       "        </tr>\n",
       "        <tr>\n",
       "            <td>Iowa        </td> <td>3.1               </td> <td>605             </td> <td>611 </td> <td>578    </td> <td>1794    </td>\n",
       "        </tr>\n",
       "        <tr>\n",
       "            <td>South Dakota</td> <td>2.9               </td> <td>604             </td> <td>609 </td> <td>579    </td> <td>1792    </td>\n",
       "        </tr>\n",
       "        <tr>\n",
       "            <td>Minnesota   </td> <td>5.9               </td> <td>598             </td> <td>610 </td> <td>578    </td> <td>1786    </td>\n",
       "        </tr>\n",
       "        <tr>\n",
       "            <td>Michigan    </td> <td>3.8               </td> <td>593             </td> <td>610 </td> <td>581    </td> <td>1784    </td>\n",
       "        </tr>\n",
       "        <tr>\n",
       "            <td>Wisconsin   </td> <td>3.9               </td> <td>596             </td> <td>608 </td> <td>578    </td> <td>1782    </td>\n",
       "        </tr>\n",
       "        <tr>\n",
       "            <td>Missouri    </td> <td>4.2               </td> <td>595             </td> <td>597 </td> <td>579    </td> <td>1771    </td>\n",
       "        </tr>\n",
       "        <tr>\n",
       "            <td>Wyoming     </td> <td>3.3               </td> <td>590             </td> <td>599 </td> <td>573    </td> <td>1762    </td>\n",
       "        </tr>\n",
       "        <tr>\n",
       "            <td>Kansas      </td> <td>5.3               </td> <td>591             </td> <td>596 </td> <td>566    </td> <td>1753    </td>\n",
       "        </tr>\n",
       "    </tbody>\n",
       "</table>\n",
       "<p>... (41 rows omitted)</p>"
      ],
      "text/plain": [
       "State        | Participation Rate | Critical Reading | Math | Writing | Combined\n",
       "North Dakota | 2.3                | 612              | 620  | 584     | 1816\n",
       "Illinois     | 4.6                | 599              | 616  | 587     | 1802\n",
       "Iowa         | 3.1                | 605              | 611  | 578     | 1794\n",
       "South Dakota | 2.9                | 604              | 609  | 579     | 1792\n",
       "Minnesota    | 5.9                | 598              | 610  | 578     | 1786\n",
       "Michigan     | 3.8                | 593              | 610  | 581     | 1784\n",
       "Wisconsin    | 3.9                | 596              | 608  | 578     | 1782\n",
       "Missouri     | 4.2                | 595              | 597  | 579     | 1771\n",
       "Wyoming      | 3.3                | 590              | 599  | 573     | 1762\n",
       "Kansas       | 5.3                | 591              | 596  | 566     | 1753\n",
       "... (41 rows omitted)"
      ]
     },
     "execution_count": 4,
     "metadata": {},
     "output_type": "execute_result"
    }
   ],
   "source": [
    "table = Table.read_table(\"https://inferentialthinking.com/data/sat2014.csv\")\n",
    "table"
   ]
  },
  {
   "cell_type": "markdown",
   "id": "2c9744b0-e5dd-48e5-89c3-a4e0aa65c70e",
   "metadata": {},
   "source": [
    "---"
   ]
  },
  {
   "cell_type": "markdown",
   "id": "f3ee9f00-825d-4390-b5a2-b4daeed1001c",
   "metadata": {},
   "source": [
    "- ### Table.num_columns: 열의 수\n",
    "- ### Table.num_rows: 행의 수\n",
    "\n",
    "<br>\n",
    "\n",
    "- ### Table.labels: 모든 Label 열거\n",
    "\n",
    "<br>\n",
    "\n",
    "- ### Table.relabeled(이전 레이블, 변경할 레이블)"
   ]
  },
  {
   "cell_type": "code",
   "execution_count": 8,
   "id": "052bfa6a-1336-40b2-820d-e49cdbcfa7ce",
   "metadata": {},
   "outputs": [
    {
     "name": "stdout",
     "output_type": "stream",
     "text": [
      "labels:  ('State', 'Participation Rate', 'Critical Reading', 'Math', 'Writing', 'Combined')\n",
      "num_columns:  6\n",
      "num_rows:  51\n"
     ]
    }
   ],
   "source": [
    "print(\"labels: \", table.labels)\n",
    "\n",
    "print(\"num_columns: \", table.num_columns)\n",
    "print(\"num_rows: \", table.num_rows)"
   ]
  },
  {
   "cell_type": "markdown",
   "id": "9638ea77-bbc1-4e4b-b41e-c61fc1d5c19b",
   "metadata": {},
   "source": [
    "---"
   ]
  },
  {
   "cell_type": "markdown",
   "id": "160e21c7-db7b-4965-9e25-d6a363cdcbf1",
   "metadata": {},
   "source": [
    "- ### Table.column(label)\n",
    "    - #### 한 열의 데이터를 배열로 반환"
   ]
  },
  {
   "cell_type": "code",
   "execution_count": 9,
   "id": "f703b29f-84d3-4e11-b2d3-5fada70bda02",
   "metadata": {},
   "outputs": [
    {
     "data": {
      "text/plain": [
       "array(['North Dakota', 'Illinois', 'Iowa', 'South Dakota', 'Minnesota',\n",
       "       'Michigan', 'Wisconsin', 'Missouri', 'Wyoming', 'Kansas',\n",
       "       'Kentucky', 'Nebraska', 'Colorado', 'Mississippi', 'Tennessee',\n",
       "       'Arkansas', 'Oklahoma', 'Utah', 'Louisiana', 'Ohio', 'Montana',\n",
       "       'Alabama', 'New Mexico', 'New Hampshire', 'Massachusetts',\n",
       "       'Vermont', 'Arizona', 'Oregon', 'Virginia', 'New Jersey',\n",
       "       'Connecticut', 'West Virginia', 'Washington', 'California',\n",
       "       'Alaska', 'North Carolina', 'Pennsylvania', 'Rhode Island',\n",
       "       'Indiana', 'Maryland', 'New York', 'Hawaii', 'Nevada', 'Florida',\n",
       "       'Georgia', 'South Carolina', 'Texas', 'Maine', 'Idaho', 'Delaware',\n",
       "       'District of Columbia'],\n",
       "      dtype='<U20')"
      ]
     },
     "execution_count": 9,
     "metadata": {},
     "output_type": "execute_result"
    }
   ],
   "source": [
    "table.column(\"State\")"
   ]
  },
  {
   "cell_type": "markdown",
   "id": "0e572baa-d963-4a53-aa77-d8bf7d565181",
   "metadata": {},
   "source": [
    "---"
   ]
  },
  {
   "cell_type": "markdown",
   "id": "cf607e1e-7145-4cf7-aa0e-81ffcba00081",
   "metadata": {},
   "source": [
    "- ### Table.select(column)\n",
    "    - #### 선택한 column만 포함하는 새 테이블 생성"
   ]
  },
  {
   "cell_type": "code",
   "execution_count": 14,
   "id": "5752d2db-ac3e-46dd-97b9-9fc04199e1a7",
   "metadata": {},
   "outputs": [
    {
     "data": {
      "text/html": [
       "<table border=\"1\" class=\"dataframe\">\n",
       "    <thead>\n",
       "        <tr>\n",
       "            <th>State</th>\n",
       "        </tr>\n",
       "    </thead>\n",
       "    <tbody>\n",
       "        <tr>\n",
       "            <td>North Dakota</td>\n",
       "        </tr>\n",
       "        <tr>\n",
       "            <td>Illinois    </td>\n",
       "        </tr>\n",
       "        <tr>\n",
       "            <td>Iowa        </td>\n",
       "        </tr>\n",
       "        <tr>\n",
       "            <td>South Dakota</td>\n",
       "        </tr>\n",
       "        <tr>\n",
       "            <td>Minnesota   </td>\n",
       "        </tr>\n",
       "        <tr>\n",
       "            <td>Michigan    </td>\n",
       "        </tr>\n",
       "        <tr>\n",
       "            <td>Wisconsin   </td>\n",
       "        </tr>\n",
       "        <tr>\n",
       "            <td>Missouri    </td>\n",
       "        </tr>\n",
       "        <tr>\n",
       "            <td>Wyoming     </td>\n",
       "        </tr>\n",
       "        <tr>\n",
       "            <td>Kansas      </td>\n",
       "        </tr>\n",
       "    </tbody>\n",
       "</table>\n",
       "<p>... (41 rows omitted)</p>"
      ],
      "text/plain": [
       "State\n",
       "North Dakota\n",
       "Illinois\n",
       "Iowa\n",
       "South Dakota\n",
       "Minnesota\n",
       "Michigan\n",
       "Wisconsin\n",
       "Missouri\n",
       "Wyoming\n",
       "Kansas\n",
       "... (41 rows omitted)"
      ]
     },
     "execution_count": 14,
     "metadata": {},
     "output_type": "execute_result"
    }
   ],
   "source": [
    "table.select(\"State\")"
   ]
  },
  {
   "cell_type": "markdown",
   "id": "e2264fd3-bb8c-45b8-8045-71f3cefab5bc",
   "metadata": {},
   "source": [
    "- ### Table.drop(column)\n",
    "    - #### 지정 label 제외한 새 Table 생성"
   ]
  },
  {
   "cell_type": "code",
   "execution_count": 16,
   "id": "93def246-29d9-4877-813c-25cf169dca71",
   "metadata": {},
   "outputs": [
    {
     "data": {
      "text/html": [
       "<table border=\"1\" class=\"dataframe\">\n",
       "    <thead>\n",
       "        <tr>\n",
       "            <th>State</th> <th>Participation Rate</th> <th>Critical Reading</th> <th>Math</th> <th>Writing</th>\n",
       "        </tr>\n",
       "    </thead>\n",
       "    <tbody>\n",
       "        <tr>\n",
       "            <td>North Dakota</td> <td>2.3               </td> <td>612             </td> <td>620 </td> <td>584    </td>\n",
       "        </tr>\n",
       "        <tr>\n",
       "            <td>Illinois    </td> <td>4.6               </td> <td>599             </td> <td>616 </td> <td>587    </td>\n",
       "        </tr>\n",
       "        <tr>\n",
       "            <td>Iowa        </td> <td>3.1               </td> <td>605             </td> <td>611 </td> <td>578    </td>\n",
       "        </tr>\n",
       "        <tr>\n",
       "            <td>South Dakota</td> <td>2.9               </td> <td>604             </td> <td>609 </td> <td>579    </td>\n",
       "        </tr>\n",
       "        <tr>\n",
       "            <td>Minnesota   </td> <td>5.9               </td> <td>598             </td> <td>610 </td> <td>578    </td>\n",
       "        </tr>\n",
       "        <tr>\n",
       "            <td>Michigan    </td> <td>3.8               </td> <td>593             </td> <td>610 </td> <td>581    </td>\n",
       "        </tr>\n",
       "        <tr>\n",
       "            <td>Wisconsin   </td> <td>3.9               </td> <td>596             </td> <td>608 </td> <td>578    </td>\n",
       "        </tr>\n",
       "        <tr>\n",
       "            <td>Missouri    </td> <td>4.2               </td> <td>595             </td> <td>597 </td> <td>579    </td>\n",
       "        </tr>\n",
       "        <tr>\n",
       "            <td>Wyoming     </td> <td>3.3               </td> <td>590             </td> <td>599 </td> <td>573    </td>\n",
       "        </tr>\n",
       "        <tr>\n",
       "            <td>Kansas      </td> <td>5.3               </td> <td>591             </td> <td>596 </td> <td>566    </td>\n",
       "        </tr>\n",
       "    </tbody>\n",
       "</table>\n",
       "<p>... (41 rows omitted)</p>"
      ],
      "text/plain": [
       "State        | Participation Rate | Critical Reading | Math | Writing\n",
       "North Dakota | 2.3                | 612              | 620  | 584\n",
       "Illinois     | 4.6                | 599              | 616  | 587\n",
       "Iowa         | 3.1                | 605              | 611  | 578\n",
       "South Dakota | 2.9                | 604              | 609  | 579\n",
       "Minnesota    | 5.9                | 598              | 610  | 578\n",
       "Michigan     | 3.8                | 593              | 610  | 581\n",
       "Wisconsin    | 3.9                | 596              | 608  | 578\n",
       "Missouri     | 4.2                | 595              | 597  | 579\n",
       "Wyoming      | 3.3                | 590              | 599  | 573\n",
       "Kansas       | 5.3                | 591              | 596  | 566\n",
       "... (41 rows omitted)"
      ]
     },
     "execution_count": 16,
     "metadata": {},
     "output_type": "execute_result"
    }
   ],
   "source": [
    "table.drop([\"Combined\", \"Write\"])"
   ]
  },
  {
   "cell_type": "markdown",
   "id": "42bbe364-c91c-4554-9c81-4e570d38c557",
   "metadata": {},
   "source": [
    "---"
   ]
  },
  {
   "cell_type": "markdown",
   "id": "832f29e7-eb6d-4670-93c9-a88f453ba388",
   "metadata": {},
   "source": [
    "- ### Table.set_format(column, formatter)\n",
    "    - #### 서식 변환\n",
    "    - #### Formatter\n",
    "        - #### PercentFormatter\n",
    "        - #### DateFormatter\n",
    "        - #### CurrencyFormatter\n",
    "    "
   ]
  },
  {
   "cell_type": "code",
   "execution_count": 12,
   "id": "4da63b26-94aa-4ebd-851b-d596d7599a45",
   "metadata": {},
   "outputs": [
    {
     "data": {
      "text/html": [
       "<table border=\"1\" class=\"dataframe\">\n",
       "    <thead>\n",
       "        <tr>\n",
       "            <th>State</th> <th>Participation Rate</th> <th>Critical Reading</th> <th>Math</th> <th>Writing</th> <th>Combined</th> <th>Percent Math</th>\n",
       "        </tr>\n",
       "    </thead>\n",
       "    <tbody>\n",
       "        <tr>\n",
       "            <td>North Dakota</td> <td>2.3               </td> <td>612             </td> <td>620 </td> <td>584    </td> <td>1816    </td> <td>77.50%      </td>\n",
       "        </tr>\n",
       "        <tr>\n",
       "            <td>Illinois    </td> <td>4.6               </td> <td>599             </td> <td>616 </td> <td>587    </td> <td>1802    </td> <td>77.00%      </td>\n",
       "        </tr>\n",
       "        <tr>\n",
       "            <td>Iowa        </td> <td>3.1               </td> <td>605             </td> <td>611 </td> <td>578    </td> <td>1794    </td> <td>76.38%      </td>\n",
       "        </tr>\n",
       "        <tr>\n",
       "            <td>South Dakota</td> <td>2.9               </td> <td>604             </td> <td>609 </td> <td>579    </td> <td>1792    </td> <td>76.12%      </td>\n",
       "        </tr>\n",
       "        <tr>\n",
       "            <td>Minnesota   </td> <td>5.9               </td> <td>598             </td> <td>610 </td> <td>578    </td> <td>1786    </td> <td>76.25%      </td>\n",
       "        </tr>\n",
       "        <tr>\n",
       "            <td>Michigan    </td> <td>3.8               </td> <td>593             </td> <td>610 </td> <td>581    </td> <td>1784    </td> <td>76.25%      </td>\n",
       "        </tr>\n",
       "        <tr>\n",
       "            <td>Wisconsin   </td> <td>3.9               </td> <td>596             </td> <td>608 </td> <td>578    </td> <td>1782    </td> <td>76.00%      </td>\n",
       "        </tr>\n",
       "        <tr>\n",
       "            <td>Missouri    </td> <td>4.2               </td> <td>595             </td> <td>597 </td> <td>579    </td> <td>1771    </td> <td>74.62%      </td>\n",
       "        </tr>\n",
       "        <tr>\n",
       "            <td>Wyoming     </td> <td>3.3               </td> <td>590             </td> <td>599 </td> <td>573    </td> <td>1762    </td> <td>74.88%      </td>\n",
       "        </tr>\n",
       "        <tr>\n",
       "            <td>Kansas      </td> <td>5.3               </td> <td>591             </td> <td>596 </td> <td>566    </td> <td>1753    </td> <td>74.50%      </td>\n",
       "        </tr>\n",
       "    </tbody>\n",
       "</table>\n",
       "<p>... (41 rows omitted)</p>"
      ],
      "text/plain": [
       "State        | Participation Rate | Critical Reading | Math | Writing | Combined | Percent Math\n",
       "North Dakota | 2.3                | 612              | 620  | 584     | 1816     | 77.50%\n",
       "Illinois     | 4.6                | 599              | 616  | 587     | 1802     | 77.00%\n",
       "Iowa         | 3.1                | 605              | 611  | 578     | 1794     | 76.38%\n",
       "South Dakota | 2.9                | 604              | 609  | 579     | 1792     | 76.12%\n",
       "Minnesota    | 5.9                | 598              | 610  | 578     | 1786     | 76.25%\n",
       "Michigan     | 3.8                | 593              | 610  | 581     | 1784     | 76.25%\n",
       "Wisconsin    | 3.9                | 596              | 608  | 578     | 1782     | 76.00%\n",
       "Missouri     | 4.2                | 595              | 597  | 579     | 1771     | 74.62%\n",
       "Wyoming      | 3.3                | 590              | 599  | 573     | 1762     | 74.88%\n",
       "Kansas       | 5.3                | 591              | 596  | 566     | 1753     | 74.50%\n",
       "... (41 rows omitted)"
      ]
     },
     "execution_count": 12,
     "metadata": {},
     "output_type": "execute_result"
    }
   ],
   "source": [
    "table.with_column(\"Percent Math\", table.column(\"Math\") / 800).set_format(\"Percent Math\", PercentFormatter)"
   ]
  },
  {
   "cell_type": "markdown",
   "id": "a5faa41e-b02d-4fe7-b5a2-d3ee9fa2d5b1",
   "metadata": {},
   "source": [
    "---"
   ]
  },
  {
   "cell_type": "markdown",
   "id": "3c654f25-6457-4dda-a027-cd5c1cb9bdff",
   "metadata": {},
   "source": [
    "- ### Table.show(max_rows)\n",
    "    - #### max_rows까지 행 표시\n",
    "    - #### max_rows 생략하면 모든 행 표시"
   ]
  },
  {
   "cell_type": "code",
   "execution_count": 17,
   "id": "fc87f97c-2880-40f8-acc7-d98acdc070ff",
   "metadata": {},
   "outputs": [
    {
     "data": {
      "text/html": [
       "<table border=\"1\" class=\"dataframe\">\n",
       "    <thead>\n",
       "        <tr>\n",
       "            <th>State</th> <th>Participation Rate</th> <th>Critical Reading</th> <th>Math</th> <th>Writing</th> <th>Combined</th>\n",
       "        </tr>\n",
       "    </thead>\n",
       "    <tbody>\n",
       "        <tr>\n",
       "            <td>North Dakota</td> <td>2.3               </td> <td>612             </td> <td>620 </td> <td>584    </td> <td>1816    </td>\n",
       "        </tr>\n",
       "        <tr>\n",
       "            <td>Illinois    </td> <td>4.6               </td> <td>599             </td> <td>616 </td> <td>587    </td> <td>1802    </td>\n",
       "        </tr>\n",
       "        <tr>\n",
       "            <td>Iowa        </td> <td>3.1               </td> <td>605             </td> <td>611 </td> <td>578    </td> <td>1794    </td>\n",
       "        </tr>\n",
       "        <tr>\n",
       "            <td>South Dakota</td> <td>2.9               </td> <td>604             </td> <td>609 </td> <td>579    </td> <td>1792    </td>\n",
       "        </tr>\n",
       "        <tr>\n",
       "            <td>Minnesota   </td> <td>5.9               </td> <td>598             </td> <td>610 </td> <td>578    </td> <td>1786    </td>\n",
       "        </tr>\n",
       "    </tbody>\n",
       "</table>\n",
       "<p>... (46 rows omitted)</p>"
      ],
      "text/plain": [
       "<IPython.core.display.HTML object>"
      ]
     },
     "metadata": {},
     "output_type": "display_data"
    }
   ],
   "source": [
    "table.show(5)"
   ]
  },
  {
   "cell_type": "markdown",
   "id": "5b9cbdd8-0d30-4e04-bbb7-8eea11e85422",
   "metadata": {},
   "source": [
    "---"
   ]
  },
  {
   "cell_type": "markdown",
   "id": "6d38b8d3-a356-4385-aeb7-b9eae7cf3e8e",
   "metadata": {},
   "source": [
    "- ### Table.sort(column, descending)"
   ]
  },
  {
   "cell_type": "code",
   "execution_count": 19,
   "id": "bdd73c79-4ae9-4f44-84e3-536eac0c4f4e",
   "metadata": {},
   "outputs": [
    {
     "data": {
      "text/html": [
       "<table border=\"1\" class=\"dataframe\">\n",
       "    <thead>\n",
       "        <tr>\n",
       "            <th>State</th> <th>Participation Rate</th> <th>Critical Reading</th> <th>Math</th> <th>Writing</th> <th>Combined</th>\n",
       "        </tr>\n",
       "    </thead>\n",
       "    <tbody>\n",
       "        <tr>\n",
       "            <td>Idaho               </td> <td>100               </td> <td>458             </td> <td>456 </td> <td>450    </td> <td>1364    </td>\n",
       "        </tr>\n",
       "        <tr>\n",
       "            <td>Delaware            </td> <td>100               </td> <td>456             </td> <td>459 </td> <td>444    </td> <td>1359    </td>\n",
       "        </tr>\n",
       "        <tr>\n",
       "            <td>District of Columbia</td> <td>100               </td> <td>440             </td> <td>438 </td> <td>431    </td> <td>1309    </td>\n",
       "        </tr>\n",
       "        <tr>\n",
       "            <td>Maine               </td> <td>95.6              </td> <td>467             </td> <td>471 </td> <td>449    </td> <td>1387    </td>\n",
       "        </tr>\n",
       "        <tr>\n",
       "            <td>Connecticut         </td> <td>88.4              </td> <td>507             </td> <td>510 </td> <td>508    </td> <td>1525    </td>\n",
       "        </tr>\n",
       "        <tr>\n",
       "            <td>Massachusetts       </td> <td>84.1              </td> <td>516             </td> <td>531 </td> <td>509    </td> <td>1556    </td>\n",
       "        </tr>\n",
       "        <tr>\n",
       "            <td>New Jersey          </td> <td>79.3              </td> <td>501             </td> <td>523 </td> <td>502    </td> <td>1526    </td>\n",
       "        </tr>\n",
       "        <tr>\n",
       "            <td>Maryland            </td> <td>78.5              </td> <td>492             </td> <td>495 </td> <td>481    </td> <td>1468    </td>\n",
       "        </tr>\n",
       "        <tr>\n",
       "            <td>Georgia             </td> <td>77.2              </td> <td>488             </td> <td>485 </td> <td>472    </td> <td>1445    </td>\n",
       "        </tr>\n",
       "        <tr>\n",
       "            <td>New York            </td> <td>76.3              </td> <td>488             </td> <td>502 </td> <td>478    </td> <td>1468    </td>\n",
       "        </tr>\n",
       "    </tbody>\n",
       "</table>\n",
       "<p>... (41 rows omitted)</p>"
      ],
      "text/plain": [
       "State                | Participation Rate | Critical Reading | Math | Writing | Combined\n",
       "Idaho                | 100                | 458              | 456  | 450     | 1364\n",
       "Delaware             | 100                | 456              | 459  | 444     | 1359\n",
       "District of Columbia | 100                | 440              | 438  | 431     | 1309\n",
       "Maine                | 95.6               | 467              | 471  | 449     | 1387\n",
       "Connecticut          | 88.4               | 507              | 510  | 508     | 1525\n",
       "Massachusetts        | 84.1               | 516              | 531  | 509     | 1556\n",
       "New Jersey           | 79.3               | 501              | 523  | 502     | 1526\n",
       "Maryland             | 78.5               | 492              | 495  | 481     | 1468\n",
       "Georgia              | 77.2               | 488              | 485  | 472     | 1445\n",
       "New York             | 76.3               | 488              | 502  | 478     | 1468\n",
       "... (41 rows omitted)"
      ]
     },
     "execution_count": 19,
     "metadata": {},
     "output_type": "execute_result"
    }
   ],
   "source": [
    "table.sort(\"Participation Rate\", descending=True)"
   ]
  },
  {
   "cell_type": "markdown",
   "id": "c7b222b2-0bee-495e-8084-2c3d92940ffb",
   "metadata": {},
   "source": [
    "---"
   ]
  },
  {
   "cell_type": "markdown",
   "id": "7cf30914-facf-4166-bf51-15347039f91e",
   "metadata": {},
   "source": [
    "- ### Table.take(row index)\n",
    "    - #### 지정 행만 가져오기"
   ]
  },
  {
   "cell_type": "code",
   "execution_count": 24,
   "id": "8ff4e3e3-c0e4-4b3c-bd52-f7fd8606bd1f",
   "metadata": {},
   "outputs": [
    {
     "data": {
      "text/html": [
       "<table border=\"1\" class=\"dataframe\">\n",
       "    <thead>\n",
       "        <tr>\n",
       "            <th>State</th> <th>Participation Rate</th> <th>Critical Reading</th> <th>Math</th> <th>Writing</th> <th>Combined</th>\n",
       "        </tr>\n",
       "    </thead>\n",
       "    <tbody>\n",
       "        <tr>\n",
       "            <td>South Dakota</td> <td>2.9               </td> <td>604             </td> <td>609 </td> <td>579    </td> <td>1792    </td>\n",
       "        </tr>\n",
       "        <tr>\n",
       "            <td>Minnesota   </td> <td>5.9               </td> <td>598             </td> <td>610 </td> <td>578    </td> <td>1786    </td>\n",
       "        </tr>\n",
       "        <tr>\n",
       "            <td>Michigan    </td> <td>3.8               </td> <td>593             </td> <td>610 </td> <td>581    </td> <td>1784    </td>\n",
       "        </tr>\n",
       "    </tbody>\n",
       "</table>"
      ],
      "text/plain": [
       "State        | Participation Rate | Critical Reading | Math | Writing | Combined\n",
       "South Dakota | 2.9                | 604              | 609  | 579     | 1792\n",
       "Minnesota    | 5.9                | 598              | 610  | 578     | 1786\n",
       "Michigan     | 3.8                | 593              | 610  | 581     | 1784"
      ]
     },
     "execution_count": 24,
     "metadata": {},
     "output_type": "execute_result"
    }
   ],
   "source": [
    "table.take(np.arange(3, 6))"
   ]
  },
  {
   "cell_type": "markdown",
   "id": "156ea806-aa62-4e22-8c1e-b23a14c1b848",
   "metadata": {},
   "source": [
    "---"
   ]
  },
  {
   "cell_type": "markdown",
   "id": "98c2c837-6063-47ee-a064-ec327ba4ae74",
   "metadata": {},
   "source": [
    "- ### Table.where(column, are.condition)\n",
    "    - #### 특정 조건에 일치하는 행 추출"
   ]
  },
  {
   "cell_type": "markdown",
   "id": "9ff67f54-adc5-4c23-bacf-f062a2a51a7e",
   "metadata": {},
   "source": [
    "- #### are.condition"
   ]
  },
  {
   "cell_type": "markdown",
   "id": "c1b5ecad-2fa2-48b6-91a9-9fcb2e335016",
   "metadata": {},
   "source": [
    "| 함수 | 설명 |\n",
    "|---|---|\n",
    "| are.equal_to(x) | n = x |\n",
    "| are.not_equal_to(x) | n != x |\n",
    "| | |\n",
    "| are.above(x) | n > x |\n",
    "| are.not_above(x) | n <= x |\n",
    "| are.above_or_equal_to(x) | n >= x |\n",
    "| | |\n",
    "| are.below(x) | n < x |\n",
    "| are.below_or_equal_to(x) | n <= x |\n",
    "| | |\n",
    "| are.between(x, y) | x <= n < y |\n",
    "| are.strictly_between(x, y) | x < n < y |\n",
    "| are.between_or_equal_to(x, y) | x <= n <= y |\n",
    "| | |\n",
    "| are.containing(S) | 문자열 S 포함 |"
   ]
  },
  {
   "cell_type": "code",
   "execution_count": 28,
   "id": "42d46d82-7e07-4ed8-ae51-4d4021e328d3",
   "metadata": {},
   "outputs": [
    {
     "data": {
      "text/html": [
       "<table border=\"1\" class=\"dataframe\">\n",
       "    <thead>\n",
       "        <tr>\n",
       "            <th>State</th> <th>Participation Rate</th> <th>Critical Reading</th> <th>Math</th> <th>Writing</th> <th>Combined</th>\n",
       "        </tr>\n",
       "    </thead>\n",
       "    <tbody>\n",
       "        <tr>\n",
       "            <td>Illinois </td> <td>4.6               </td> <td>599             </td> <td>616 </td> <td>587    </td> <td>1802    </td>\n",
       "        </tr>\n",
       "        <tr>\n",
       "            <td>Minnesota</td> <td>5.9               </td> <td>598             </td> <td>610 </td> <td>578    </td> <td>1786    </td>\n",
       "        </tr>\n",
       "        <tr>\n",
       "            <td>Missouri </td> <td>4.2               </td> <td>595             </td> <td>597 </td> <td>579    </td> <td>1771    </td>\n",
       "        </tr>\n",
       "        <tr>\n",
       "            <td>Kansas   </td> <td>5.3               </td> <td>591             </td> <td>596 </td> <td>566    </td> <td>1753    </td>\n",
       "        </tr>\n",
       "        <tr>\n",
       "            <td>Kentucky </td> <td>4.6               </td> <td>589             </td> <td>585 </td> <td>572    </td> <td>1746    </td>\n",
       "        </tr>\n",
       "        <tr>\n",
       "            <td>Colorado </td> <td>14.3              </td> <td>582             </td> <td>586 </td> <td>567    </td> <td>1735    </td>\n",
       "        </tr>\n",
       "        <tr>\n",
       "            <td>Tennessee</td> <td>7.9               </td> <td>578             </td> <td>570 </td> <td>566    </td> <td>1714    </td>\n",
       "        </tr>\n",
       "        <tr>\n",
       "            <td>Arkansas </td> <td>4.2               </td> <td>573             </td> <td>571 </td> <td>554    </td> <td>1698    </td>\n",
       "        </tr>\n",
       "        <tr>\n",
       "            <td>Oklahoma </td> <td>4.5               </td> <td>576             </td> <td>571 </td> <td>550    </td> <td>1697    </td>\n",
       "        </tr>\n",
       "        <tr>\n",
       "            <td>Utah     </td> <td>5.2               </td> <td>571             </td> <td>568 </td> <td>551    </td> <td>1690    </td>\n",
       "        </tr>\n",
       "    </tbody>\n",
       "</table>\n",
       "<p>... (33 rows omitted)</p>"
      ],
      "text/plain": [
       "State     | Participation Rate | Critical Reading | Math | Writing | Combined\n",
       "Illinois  | 4.6                | 599              | 616  | 587     | 1802\n",
       "Minnesota | 5.9                | 598              | 610  | 578     | 1786\n",
       "Missouri  | 4.2                | 595              | 597  | 579     | 1771\n",
       "Kansas    | 5.3                | 591              | 596  | 566     | 1753\n",
       "Kentucky  | 4.6                | 589              | 585  | 572     | 1746\n",
       "Colorado  | 14.3               | 582              | 586  | 567     | 1735\n",
       "Tennessee | 7.9                | 578              | 570  | 566     | 1714\n",
       "Arkansas  | 4.2                | 573              | 571  | 554     | 1698\n",
       "Oklahoma  | 4.5                | 576              | 571  | 550     | 1697\n",
       "Utah      | 5.2                | 571              | 568  | 551     | 1690\n",
       "... (33 rows omitted)"
      ]
     },
     "execution_count": 28,
     "metadata": {},
     "output_type": "execute_result"
    }
   ],
   "source": [
    "table.where(\"Participation Rate\", are.above(4))"
   ]
  },
  {
   "cell_type": "markdown",
   "id": "5c764437-5e3d-4787-8243-e7694aa76b12",
   "metadata": {},
   "source": [
    "---"
   ]
  }
 ],
 "metadata": {
  "kernelspec": {
   "display_name": "Python 3 (ipykernel)",
   "language": "python",
   "name": "python3"
  },
  "language_info": {
   "codemirror_mode": {
    "name": "ipython",
    "version": 3
   },
   "file_extension": ".py",
   "mimetype": "text/x-python",
   "name": "python",
   "nbconvert_exporter": "python",
   "pygments_lexer": "ipython3",
   "version": "3.10.13"
  }
 },
 "nbformat": 4,
 "nbformat_minor": 5
}
