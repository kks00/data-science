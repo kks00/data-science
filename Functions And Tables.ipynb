{
 "cells": [
  {
   "cell_type": "code",
   "execution_count": 76,
   "id": "a8b4ed10-6775-44b9-9a31-b158f3235fc2",
   "metadata": {},
   "outputs": [],
   "source": [
    "from datascience import *\n",
    "import numpy as np\n",
    "%matplotlib inline"
   ]
  },
  {
   "cell_type": "markdown",
   "id": "cfe6ccde-bcb4-429b-bc0d-b77979458d45",
   "metadata": {},
   "source": [
    "---"
   ]
  },
  {
   "cell_type": "markdown",
   "id": "73b18b24-332d-4874-9d48-7fb316342a43",
   "metadata": {},
   "source": [
    "- ### t.apply(function, columns)\n",
    "    - #### 열의 각 요소를 함수 호출의 결과로 변경한 새 배열을 생성"
   ]
  },
  {
   "cell_type": "markdown",
   "id": "9b4bda1e-736d-4fd7-abf8-34a5a646125f",
   "metadata": {},
   "source": [
    "<br>"
   ]
  },
  {
   "cell_type": "code",
   "execution_count": 2,
   "id": "a294f962-d2f7-43c4-9ab2-ff6b8e767221",
   "metadata": {},
   "outputs": [
    {
     "data": {
      "text/html": [
       "<table border=\"1\" class=\"dataframe\">\n",
       "    <thead>\n",
       "        <tr>\n",
       "            <th>Person</th> <th>Age</th>\n",
       "        </tr>\n",
       "    </thead>\n",
       "    <tbody>\n",
       "        <tr>\n",
       "            <td>A     </td> <td>17  </td>\n",
       "        </tr>\n",
       "        <tr>\n",
       "            <td>B     </td> <td>117 </td>\n",
       "        </tr>\n",
       "        <tr>\n",
       "            <td>C     </td> <td>52  </td>\n",
       "        </tr>\n",
       "        <tr>\n",
       "            <td>D     </td> <td>100 </td>\n",
       "        </tr>\n",
       "        <tr>\n",
       "            <td>E     </td> <td>6   </td>\n",
       "        </tr>\n",
       "        <tr>\n",
       "            <td>F     </td> <td>101 </td>\n",
       "        </tr>\n",
       "    </tbody>\n",
       "</table>"
      ],
      "text/plain": [
       "Person | Age\n",
       "A      | 17\n",
       "B      | 117\n",
       "C      | 52\n",
       "D      | 100\n",
       "E      | 6\n",
       "F      | 101"
      ]
     },
     "execution_count": 2,
     "metadata": {},
     "output_type": "execute_result"
    }
   ],
   "source": [
    "ages = Table().with_columns(\"Person\", make_array(\"A\", \"B\", \"C\", \"D\", \"E\", \"F\"),\n",
    "                     \"Age\", make_array(17, 117, 52, 100, 6, 101))\n",
    "ages"
   ]
  },
  {
   "cell_type": "markdown",
   "id": "37d5254e-c476-440e-88f3-21c29175a632",
   "metadata": {},
   "source": [
    "- #### 100보다 큰 값을 제한하는 배열 생성"
   ]
  },
  {
   "cell_type": "code",
   "execution_count": 5,
   "id": "70e75ea6-8385-4180-acff-20ae2243aaff",
   "metadata": {},
   "outputs": [
    {
     "data": {
      "text/plain": [
       "array([ 17, 100,  52, 100,   6, 100], dtype=int64)"
      ]
     },
     "execution_count": 5,
     "metadata": {},
     "output_type": "execute_result"
    }
   ],
   "source": [
    "cut_off_age = ages.apply(lambda x: min(x, 100), \"Age\")\n",
    "cut_off_age"
   ]
  },
  {
   "cell_type": "markdown",
   "id": "ae873b75-95d9-46b9-b99c-db690add8134",
   "metadata": {},
   "source": [
    "- #### 제한 값을 적용한 열 추가"
   ]
  },
  {
   "cell_type": "code",
   "execution_count": 6,
   "id": "4726fb7c-5611-4c27-8241-b9098b33298a",
   "metadata": {},
   "outputs": [
    {
     "data": {
      "text/html": [
       "<table border=\"1\" class=\"dataframe\">\n",
       "    <thead>\n",
       "        <tr>\n",
       "            <th>Person</th> <th>Age</th> <th>Cut Off Age</th>\n",
       "        </tr>\n",
       "    </thead>\n",
       "    <tbody>\n",
       "        <tr>\n",
       "            <td>A     </td> <td>17  </td> <td>17         </td>\n",
       "        </tr>\n",
       "        <tr>\n",
       "            <td>B     </td> <td>117 </td> <td>100        </td>\n",
       "        </tr>\n",
       "        <tr>\n",
       "            <td>C     </td> <td>52  </td> <td>52         </td>\n",
       "        </tr>\n",
       "        <tr>\n",
       "            <td>D     </td> <td>100 </td> <td>100        </td>\n",
       "        </tr>\n",
       "        <tr>\n",
       "            <td>E     </td> <td>6   </td> <td>6          </td>\n",
       "        </tr>\n",
       "        <tr>\n",
       "            <td>F     </td> <td>101 </td> <td>100        </td>\n",
       "        </tr>\n",
       "    </tbody>\n",
       "</table>"
      ],
      "text/plain": [
       "Person | Age  | Cut Off Age\n",
       "A      | 17   | 17\n",
       "B      | 117  | 100\n",
       "C      | 52   | 52\n",
       "D      | 100  | 100\n",
       "E      | 6    | 6\n",
       "F      | 101  | 100"
      ]
     },
     "execution_count": 6,
     "metadata": {},
     "output_type": "execute_result"
    }
   ],
   "source": [
    "ages.with_column(\"Cut Off Age\", cut_off_age)"
   ]
  },
  {
   "cell_type": "markdown",
   "id": "49a3449b-4295-45a5-acd8-91daf7b2c9ba",
   "metadata": {},
   "source": [
    "---"
   ]
  },
  {
   "cell_type": "markdown",
   "id": "971c5ade-769f-42e3-827e-79c2cdf4fa34",
   "metadata": {},
   "source": [
    "- ### t.group(column, collect=None)\n",
    "    - #### collect\n",
    "        - #### None: 카테고리의 개수\n",
    "        - #### sum(np.sum): 모든 카테고리 합산\n",
    "        - #### max(np.max): 모든 카테고리의 최대값"
   ]
  },
  {
   "cell_type": "markdown",
   "id": "958bd6fb-9a58-486f-939c-e6ce93d59e56",
   "metadata": {},
   "source": [
    "<br>"
   ]
  },
  {
   "cell_type": "markdown",
   "id": "1b2e9876-5f2e-4d4a-a28c-f8b3c373f5db",
   "metadata": {},
   "source": [
    "- ### 1. 단일 변수에 따른 entry 분류"
   ]
  },
  {
   "cell_type": "code",
   "execution_count": 20,
   "id": "cb89d674-e389-43f3-b146-a5665e33a863",
   "metadata": {},
   "outputs": [
    {
     "data": {
      "text/html": [
       "<table border=\"1\" class=\"dataframe\">\n",
       "    <thead>\n",
       "        <tr>\n",
       "            <th>PLAYER</th> <th>POSITION</th> <th>TEAM</th> <th>2015-2016 SALARY</th>\n",
       "        </tr>\n",
       "    </thead>\n",
       "    <tbody>\n",
       "        <tr>\n",
       "            <td>Paul Millsap  </td> <td>PF      </td> <td>Atlanta Hawks</td> <td>18.6717         </td>\n",
       "        </tr>\n",
       "        <tr>\n",
       "            <td>Al Horford    </td> <td>C       </td> <td>Atlanta Hawks</td> <td>12              </td>\n",
       "        </tr>\n",
       "        <tr>\n",
       "            <td>Tiago Splitter</td> <td>C       </td> <td>Atlanta Hawks</td> <td>9.75625         </td>\n",
       "        </tr>\n",
       "    </tbody>\n",
       "</table>\n",
       "<p>... (414 rows omitted)</p>"
      ],
      "text/plain": [
       "<IPython.core.display.HTML object>"
      ]
     },
     "metadata": {},
     "output_type": "display_data"
    }
   ],
   "source": [
    "nba_salaries = Table.read_table(\"./csv/nba_salaries.csv\")\n",
    "nba_salaries.show(3)"
   ]
  },
  {
   "cell_type": "markdown",
   "id": "30be17b2-2ff5-4f2c-a306-12686dafeb4c",
   "metadata": {},
   "source": [
    "- #### 각 팀 별 선수들의 급여"
   ]
  },
  {
   "cell_type": "code",
   "execution_count": 18,
   "id": "b5fe8bfa-1da7-4b50-b5d5-5ae74476e1b4",
   "metadata": {},
   "outputs": [
    {
     "data": {
      "text/html": [
       "<table border=\"1\" class=\"dataframe\">\n",
       "    <thead>\n",
       "        <tr>\n",
       "            <th>TEAM</th> <th>PLAYER sum</th> <th>POSITION sum</th> <th>2015-2016 SALARY sum</th>\n",
       "        </tr>\n",
       "    </thead>\n",
       "    <tbody>\n",
       "        <tr>\n",
       "            <td>Atlanta Hawks </td> <td>          </td> <td>            </td> <td>69.5731             </td>\n",
       "        </tr>\n",
       "        <tr>\n",
       "            <td>Boston Celtics</td> <td>          </td> <td>            </td> <td>50.2855             </td>\n",
       "        </tr>\n",
       "        <tr>\n",
       "            <td>Brooklyn Nets </td> <td>          </td> <td>            </td> <td>57.307              </td>\n",
       "        </tr>\n",
       "    </tbody>\n",
       "</table>\n",
       "<p>... (27 rows omitted)</p>"
      ],
      "text/plain": [
       "<IPython.core.display.HTML object>"
      ]
     },
     "metadata": {},
     "output_type": "display_data"
    }
   ],
   "source": [
    "nba_salaries.group(\"TEAM\", np.sum).show(3)"
   ]
  },
  {
   "cell_type": "code",
   "execution_count": 19,
   "id": "6dc3521e-42cb-4ffd-b3e5-fb05859e352a",
   "metadata": {},
   "outputs": [
    {
     "data": {
      "text/html": [
       "<table border=\"1\" class=\"dataframe\">\n",
       "    <thead>\n",
       "        <tr>\n",
       "            <th>TEAM</th> <th>2015-2016 SALARY sum</th>\n",
       "        </tr>\n",
       "    </thead>\n",
       "    <tbody>\n",
       "        <tr>\n",
       "            <td>Atlanta Hawks </td> <td>69.5731             </td>\n",
       "        </tr>\n",
       "        <tr>\n",
       "            <td>Boston Celtics</td> <td>50.2855             </td>\n",
       "        </tr>\n",
       "        <tr>\n",
       "            <td>Brooklyn Nets </td> <td>57.307              </td>\n",
       "        </tr>\n",
       "    </tbody>\n",
       "</table>\n",
       "<p>... (27 rows omitted)</p>"
      ],
      "text/plain": [
       "<IPython.core.display.HTML object>"
      ]
     },
     "metadata": {},
     "output_type": "display_data"
    }
   ],
   "source": [
    "nba_salaries.group(\"TEAM\", np.sum).select(make_array(\"TEAM\", \"2015-2016 SALARY sum\")).show(3)"
   ]
  },
  {
   "cell_type": "markdown",
   "id": "53416a3a-9268-4806-915a-dd72278c8fe2",
   "metadata": {},
   "source": [
    "- #### 다섯 포지션 별 선수의 수"
   ]
  },
  {
   "cell_type": "code",
   "execution_count": 22,
   "id": "ea2bbc6b-3692-43b9-afdf-126cef7cb697",
   "metadata": {},
   "outputs": [
    {
     "data": {
      "text/html": [
       "<table border=\"1\" class=\"dataframe\">\n",
       "    <thead>\n",
       "        <tr>\n",
       "            <th>POSITION</th> <th>count</th>\n",
       "        </tr>\n",
       "    </thead>\n",
       "    <tbody>\n",
       "        <tr>\n",
       "            <td>C       </td> <td>69   </td>\n",
       "        </tr>\n",
       "        <tr>\n",
       "            <td>PF      </td> <td>85   </td>\n",
       "        </tr>\n",
       "        <tr>\n",
       "            <td>PG      </td> <td>85   </td>\n",
       "        </tr>\n",
       "        <tr>\n",
       "            <td>SF      </td> <td>82   </td>\n",
       "        </tr>\n",
       "        <tr>\n",
       "            <td>SG      </td> <td>96   </td>\n",
       "        </tr>\n",
       "    </tbody>\n",
       "</table>"
      ],
      "text/plain": [
       "POSITION | count\n",
       "C        | 69\n",
       "PF       | 85\n",
       "PG       | 85\n",
       "SF       | 82\n",
       "SG       | 96"
      ]
     },
     "execution_count": 22,
     "metadata": {},
     "output_type": "execute_result"
    }
   ],
   "source": [
    "nba_salaries.group(\"POSITION\")"
   ]
  },
  {
   "cell_type": "markdown",
   "id": "a8e77026-4294-4a20-adba-bde0ae39d33c",
   "metadata": {},
   "source": [
    "- #### 다섯 포지션 별 선수들의 평균 연봉"
   ]
  },
  {
   "cell_type": "code",
   "execution_count": 23,
   "id": "3443334e-6ab1-446a-894e-23df2e7f7e50",
   "metadata": {},
   "outputs": [
    {
     "data": {
      "text/html": [
       "<table border=\"1\" class=\"dataframe\">\n",
       "    <thead>\n",
       "        <tr>\n",
       "            <th>POSITION</th> <th>PLAYER mean</th> <th>TEAM mean</th> <th>2015-2016 SALARY mean</th>\n",
       "        </tr>\n",
       "    </thead>\n",
       "    <tbody>\n",
       "        <tr>\n",
       "            <td>C       </td> <td>           </td> <td>         </td> <td>6.08291              </td>\n",
       "        </tr>\n",
       "        <tr>\n",
       "            <td>PF      </td> <td>           </td> <td>         </td> <td>4.95134              </td>\n",
       "        </tr>\n",
       "        <tr>\n",
       "            <td>PG      </td> <td>           </td> <td>         </td> <td>5.16549              </td>\n",
       "        </tr>\n",
       "        <tr>\n",
       "            <td>SF      </td> <td>           </td> <td>         </td> <td>5.53267              </td>\n",
       "        </tr>\n",
       "        <tr>\n",
       "            <td>SG      </td> <td>           </td> <td>         </td> <td>3.9882               </td>\n",
       "        </tr>\n",
       "    </tbody>\n",
       "</table>"
      ],
      "text/plain": [
       "POSITION | PLAYER mean | TEAM mean | 2015-2016 SALARY mean\n",
       "C        |             |           | 6.08291\n",
       "PF       |             |           | 4.95134\n",
       "PG       |             |           | 5.16549\n",
       "SF       |             |           | 5.53267\n",
       "SG       |             |           | 3.9882"
      ]
     },
     "execution_count": 23,
     "metadata": {},
     "output_type": "execute_result"
    }
   ],
   "source": [
    "nba_salaries.group(\"POSITION\", np.mean)"
   ]
  },
  {
   "cell_type": "code",
   "execution_count": 24,
   "id": "a6700d9e-0cce-4e25-899f-3054fdb92d8b",
   "metadata": {},
   "outputs": [
    {
     "data": {
      "text/html": [
       "<table border=\"1\" class=\"dataframe\">\n",
       "    <thead>\n",
       "        <tr>\n",
       "            <th>POSITION</th> <th>2015-2016 SALARY mean</th>\n",
       "        </tr>\n",
       "    </thead>\n",
       "    <tbody>\n",
       "        <tr>\n",
       "            <td>C       </td> <td>6.08291              </td>\n",
       "        </tr>\n",
       "        <tr>\n",
       "            <td>PF      </td> <td>4.95134              </td>\n",
       "        </tr>\n",
       "        <tr>\n",
       "            <td>PG      </td> <td>5.16549              </td>\n",
       "        </tr>\n",
       "        <tr>\n",
       "            <td>SF      </td> <td>5.53267              </td>\n",
       "        </tr>\n",
       "        <tr>\n",
       "            <td>SG      </td> <td>3.9882               </td>\n",
       "        </tr>\n",
       "    </tbody>\n",
       "</table>"
      ],
      "text/plain": [
       "POSITION | 2015-2016 SALARY mean\n",
       "C        | 6.08291\n",
       "PF       | 4.95134\n",
       "PG       | 5.16549\n",
       "SF       | 5.53267\n",
       "SG       | 3.9882"
      ]
     },
     "execution_count": 24,
     "metadata": {},
     "output_type": "execute_result"
    }
   ],
   "source": [
    "nba_salaries.group(\"POSITION\", np.mean).drop(make_array(\"PLAYER mean\", \"TEAM mean\"))"
   ]
  },
  {
   "cell_type": "markdown",
   "id": "9d2751ee-1b1b-4077-8df3-7ad408303324",
   "metadata": {},
   "source": [
    "<br>"
   ]
  },
  {
   "cell_type": "markdown",
   "id": "d9eebdbc-5cd4-4fd1-a864-0dd53991b67d",
   "metadata": {},
   "source": [
    "- ### 2. 여러 변수에 따른 entry 분류"
   ]
  },
  {
   "cell_type": "code",
   "execution_count": 25,
   "id": "fc9d214f-3e92-475b-b201-2374f4182629",
   "metadata": {},
   "outputs": [
    {
     "data": {
      "text/html": [
       "<table border=\"1\" class=\"dataframe\">\n",
       "    <thead>\n",
       "        <tr>\n",
       "            <th>Flavor</th> <th>Color</th> <th>Price</th>\n",
       "        </tr>\n",
       "    </thead>\n",
       "    <tbody>\n",
       "        <tr>\n",
       "            <td>strawberry</td> <td>pink       </td> <td>3.55 </td>\n",
       "        </tr>\n",
       "        <tr>\n",
       "            <td>chocolate </td> <td>light brown</td> <td>4.75 </td>\n",
       "        </tr>\n",
       "        <tr>\n",
       "            <td>chocolate </td> <td>dark brown </td> <td>5.25 </td>\n",
       "        </tr>\n",
       "        <tr>\n",
       "            <td>strawberry</td> <td>pink       </td> <td>5.25 </td>\n",
       "        </tr>\n",
       "        <tr>\n",
       "            <td>chocolate </td> <td>dark brown </td> <td>5.25 </td>\n",
       "        </tr>\n",
       "        <tr>\n",
       "            <td>bubblegum </td> <td>pink       </td> <td>4.75 </td>\n",
       "        </tr>\n",
       "    </tbody>\n",
       "</table>"
      ],
      "text/plain": [
       "Flavor     | Color       | Price\n",
       "strawberry | pink        | 3.55\n",
       "chocolate  | light brown | 4.75\n",
       "chocolate  | dark brown  | 5.25\n",
       "strawberry | pink        | 5.25\n",
       "chocolate  | dark brown  | 5.25\n",
       "bubblegum  | pink        | 4.75"
      ]
     },
     "execution_count": 25,
     "metadata": {},
     "output_type": "execute_result"
    }
   ],
   "source": [
    "more_cons = Table().with_columns(\n",
    "    \"Flavor\", make_array(\"strawberry\", \"chocolate\", \"chocolate\", \"strawberry\", \"chocolate\", \"bubblegum\"),\n",
    "    \"Color\", make_array(\"pink\", \"light brown\", \"dark brown\", \"pink\", \"dark brown\", \"pink\"),\n",
    "    \"Price\", make_array(3.55, 4.75, 5.25, 5.25, 5.25, 4.75)\n",
    ")\n",
    "more_cons"
   ]
  },
  {
   "cell_type": "markdown",
   "id": "9186bb4c-66f2-49fe-8002-4b4c873c45f6",
   "metadata": {},
   "source": [
    "- #### 맛과 색상 두 변수에 따른 개수"
   ]
  },
  {
   "cell_type": "code",
   "execution_count": 26,
   "id": "d9c53756-a797-40c6-b590-88db198fb8d4",
   "metadata": {},
   "outputs": [
    {
     "data": {
      "text/html": [
       "<table border=\"1\" class=\"dataframe\">\n",
       "    <thead>\n",
       "        <tr>\n",
       "            <th>Flavor</th> <th>Color</th> <th>count</th>\n",
       "        </tr>\n",
       "    </thead>\n",
       "    <tbody>\n",
       "        <tr>\n",
       "            <td>bubblegum </td> <td>pink       </td> <td>1    </td>\n",
       "        </tr>\n",
       "        <tr>\n",
       "            <td>chocolate </td> <td>dark brown </td> <td>2    </td>\n",
       "        </tr>\n",
       "        <tr>\n",
       "            <td>chocolate </td> <td>light brown</td> <td>1    </td>\n",
       "        </tr>\n",
       "        <tr>\n",
       "            <td>strawberry</td> <td>pink       </td> <td>2    </td>\n",
       "        </tr>\n",
       "    </tbody>\n",
       "</table>"
      ],
      "text/plain": [
       "Flavor     | Color       | count\n",
       "bubblegum  | pink        | 1\n",
       "chocolate  | dark brown  | 2\n",
       "chocolate  | light brown | 1\n",
       "strawberry | pink        | 2"
      ]
     },
     "execution_count": 26,
     "metadata": {},
     "output_type": "execute_result"
    }
   ],
   "source": [
    "more_cons.group(make_array(\"Flavor\", \"Color\"))"
   ]
  },
  {
   "cell_type": "markdown",
   "id": "e6db2576-d4a8-4f8f-beb4-cbc431e3b5e4",
   "metadata": {},
   "source": [
    "- #### 맛과 색상 두 변수에 따른 전체 가격 추출"
   ]
  },
  {
   "cell_type": "code",
   "execution_count": 29,
   "id": "1c893932-a35e-4531-bcea-a21cccc1b274",
   "metadata": {},
   "outputs": [
    {
     "data": {
      "text/html": [
       "<table border=\"1\" class=\"dataframe\">\n",
       "    <thead>\n",
       "        <tr>\n",
       "            <th>Flavor</th> <th>Color</th> <th>Price sum</th>\n",
       "        </tr>\n",
       "    </thead>\n",
       "    <tbody>\n",
       "        <tr>\n",
       "            <td>bubblegum </td> <td>pink       </td> <td>4.75     </td>\n",
       "        </tr>\n",
       "        <tr>\n",
       "            <td>chocolate </td> <td>dark brown </td> <td>10.5     </td>\n",
       "        </tr>\n",
       "        <tr>\n",
       "            <td>chocolate </td> <td>light brown</td> <td>4.75     </td>\n",
       "        </tr>\n",
       "        <tr>\n",
       "            <td>strawberry</td> <td>pink       </td> <td>8.8      </td>\n",
       "        </tr>\n",
       "    </tbody>\n",
       "</table>"
      ],
      "text/plain": [
       "Flavor     | Color       | Price sum\n",
       "bubblegum  | pink        | 4.75\n",
       "chocolate  | dark brown  | 10.5\n",
       "chocolate  | light brown | 4.75\n",
       "strawberry | pink        | 8.8"
      ]
     },
     "execution_count": 29,
     "metadata": {},
     "output_type": "execute_result"
    }
   ],
   "source": [
    "more_cons.group(make_array(\"Flavor\", \"Color\"), np.sum)"
   ]
  },
  {
   "cell_type": "markdown",
   "id": "6fe7c1fc-f000-4491-a30b-8957d2588e77",
   "metadata": {},
   "source": [
    "---"
   ]
  },
  {
   "cell_type": "markdown",
   "id": "0961afd7-0c29-4489-a3af-b3521cae7779",
   "metadata": {},
   "source": [
    "- ### t.pivot(column, row, values=None, collect=None, zero=None)\n",
    "    - #### 분할 표 생성\n",
    "    - #### values: 표의 값으로 사용할 Label\n",
    "    - #### zero: 존재하지 않는 쌍에 사용할 기본 값"
   ]
  },
  {
   "cell_type": "markdown",
   "id": "7314c70b-d083-4653-bcb6-22f5b1ca8eb4",
   "metadata": {},
   "source": [
    "<br>"
   ]
  },
  {
   "cell_type": "markdown",
   "id": "539bd9bc-15f5-4958-bdfb-5e4e53dfef5c",
   "metadata": {},
   "source": [
    "- #### 맛과 색상 두 변수에 따른 개수 추출"
   ]
  },
  {
   "cell_type": "code",
   "execution_count": 30,
   "id": "e421b598-4b5c-42be-8970-29f67bd34505",
   "metadata": {},
   "outputs": [
    {
     "data": {
      "text/html": [
       "<table border=\"1\" class=\"dataframe\">\n",
       "    <thead>\n",
       "        <tr>\n",
       "            <th>Color</th> <th>bubblegum</th> <th>chocolate</th> <th>strawberry</th>\n",
       "        </tr>\n",
       "    </thead>\n",
       "    <tbody>\n",
       "        <tr>\n",
       "            <td>dark brown </td> <td>0        </td> <td>2        </td> <td>0         </td>\n",
       "        </tr>\n",
       "        <tr>\n",
       "            <td>light brown</td> <td>0        </td> <td>1        </td> <td>0         </td>\n",
       "        </tr>\n",
       "        <tr>\n",
       "            <td>pink       </td> <td>1        </td> <td>0        </td> <td>2         </td>\n",
       "        </tr>\n",
       "    </tbody>\n",
       "</table>"
      ],
      "text/plain": [
       "Color       | bubblegum | chocolate | strawberry\n",
       "dark brown  | 0         | 2         | 0\n",
       "light brown | 0         | 1         | 0\n",
       "pink        | 1         | 0         | 2"
      ]
     },
     "execution_count": 30,
     "metadata": {},
     "output_type": "execute_result"
    }
   ],
   "source": [
    "more_cons.pivot(\"Flavor\", \"Color\")"
   ]
  },
  {
   "cell_type": "markdown",
   "id": "49a60aed-f78b-4f46-a9da-b9a94e566277",
   "metadata": {},
   "source": [
    "- #### 맛과 색상 두 변수에 따른 전체 가격 추출"
   ]
  },
  {
   "cell_type": "code",
   "execution_count": 32,
   "id": "e3700867-29c0-44ff-85e5-d02601cd5ec6",
   "metadata": {},
   "outputs": [
    {
     "data": {
      "text/html": [
       "<table border=\"1\" class=\"dataframe\">\n",
       "    <thead>\n",
       "        <tr>\n",
       "            <th>Color</th> <th>bubblegum</th> <th>chocolate</th> <th>strawberry</th>\n",
       "        </tr>\n",
       "    </thead>\n",
       "    <tbody>\n",
       "        <tr>\n",
       "            <td>dark brown </td> <td>0        </td> <td>10.5     </td> <td>0         </td>\n",
       "        </tr>\n",
       "        <tr>\n",
       "            <td>light brown</td> <td>0        </td> <td>4.75     </td> <td>0         </td>\n",
       "        </tr>\n",
       "        <tr>\n",
       "            <td>pink       </td> <td>4.75     </td> <td>0        </td> <td>8.8       </td>\n",
       "        </tr>\n",
       "    </tbody>\n",
       "</table>"
      ],
      "text/plain": [
       "Color       | bubblegum | chocolate | strawberry\n",
       "dark brown  | 0         | 10.5      | 0\n",
       "light brown | 0         | 4.75      | 0\n",
       "pink        | 4.75      | 0         | 8.8"
      ]
     },
     "execution_count": 32,
     "metadata": {},
     "output_type": "execute_result"
    }
   ],
   "source": [
    "more_cons.pivot(\"Flavor\", \"Color\", \"Price\", np.sum)"
   ]
  },
  {
   "cell_type": "markdown",
   "id": "154ecc6c-dae0-4821-9abe-650f39c49fa9",
   "metadata": {},
   "source": [
    "---"
   ]
  },
  {
   "cell_type": "markdown",
   "id": "cae30b39-9971-48b5-a811-b12b2ccc945c",
   "metadata": {},
   "source": [
    "- ### t.join(column_label, other, other_label)\n",
    "    - #### 같은 entry에 대한 데이터가 두 개의 테이블에 있는 경우 합쳐서 새 테이블 생성\n",
    "    - #### 겹치는 항목만 새 테이블에 포함함"
   ]
  },
  {
   "cell_type": "markdown",
   "id": "8f0e4f8a-caf5-49dc-888f-c81f391c233e",
   "metadata": {},
   "source": [
    "<br>"
   ]
  },
  {
   "cell_type": "code",
   "execution_count": 47,
   "id": "4e54654c-9269-42db-83ce-607b6c52f368",
   "metadata": {},
   "outputs": [
    {
     "data": {
      "text/html": [
       "<table border=\"1\" class=\"dataframe\">\n",
       "    <thead>\n",
       "        <tr>\n",
       "            <th>Flavor</th> <th>Price</th>\n",
       "        </tr>\n",
       "    </thead>\n",
       "    <tbody>\n",
       "        <tr>\n",
       "            <td>strawberry</td> <td>3.55 </td>\n",
       "        </tr>\n",
       "        <tr>\n",
       "            <td>vanila    </td> <td>4.75 </td>\n",
       "        </tr>\n",
       "        <tr>\n",
       "            <td>chocolate </td> <td>6.55 </td>\n",
       "        </tr>\n",
       "        <tr>\n",
       "            <td>strawberry</td> <td>5.25 </td>\n",
       "        </tr>\n",
       "        <tr>\n",
       "            <td>chocolate </td> <td>5.75 </td>\n",
       "        </tr>\n",
       "        <tr>\n",
       "            <td>mint      </td> <td>6.25 </td>\n",
       "        </tr>\n",
       "    </tbody>\n",
       "</table>"
      ],
      "text/plain": [
       "Flavor     | Price\n",
       "strawberry | 3.55\n",
       "vanila     | 4.75\n",
       "chocolate  | 6.55\n",
       "strawberry | 5.25\n",
       "chocolate  | 5.75\n",
       "mint       | 6.25"
      ]
     },
     "execution_count": 47,
     "metadata": {},
     "output_type": "execute_result"
    }
   ],
   "source": [
    "cones = Table().with_columns(\n",
    "    \"Flavor\", make_array(\"strawberry\", \"vanila\", \"chocolate\", \"strawberry\", \"chocolate\", \"mint\"),\n",
    "    \"Price\", make_array(3.55, 4.75, 6.55, 5.25, 5.75, 6.25)\n",
    ")\n",
    "cones"
   ]
  },
  {
   "cell_type": "code",
   "execution_count": 52,
   "id": "2f4b4787-bd35-48de-8441-d769a6ab240f",
   "metadata": {},
   "outputs": [
    {
     "data": {
      "text/html": [
       "<table border=\"1\" class=\"dataframe\">\n",
       "    <thead>\n",
       "        <tr>\n",
       "            <th>Kind</th> <th>Stars</th>\n",
       "        </tr>\n",
       "    </thead>\n",
       "    <tbody>\n",
       "        <tr>\n",
       "            <td>vanila   </td> <td>5    </td>\n",
       "        </tr>\n",
       "        <tr>\n",
       "            <td>chocolate</td> <td>3    </td>\n",
       "        </tr>\n",
       "    </tbody>\n",
       "</table>"
      ],
      "text/plain": [
       "Kind      | Stars\n",
       "vanila    | 5\n",
       "chocolate | 3"
      ]
     },
     "execution_count": 52,
     "metadata": {},
     "output_type": "execute_result"
    }
   ],
   "source": [
    "reviews = Table().with_columns(\n",
    "    \"Kind\", make_array(\"vanila\", \"chocolate\"),\n",
    "    \"Stars\", make_array(5, 3)\n",
    ")\n",
    "reviews"
   ]
  },
  {
   "cell_type": "markdown",
   "id": "91ce253e-8726-45d5-b074-783c2e16545d",
   "metadata": {},
   "source": [
    "- #### 같은 Entry에 대한 Price와 Stars를 한 테이블에 표현"
   ]
  },
  {
   "cell_type": "code",
   "execution_count": 53,
   "id": "4693895e-1e1c-4b4e-9e80-dc838dec978c",
   "metadata": {},
   "outputs": [
    {
     "data": {
      "text/html": [
       "<table border=\"1\" class=\"dataframe\">\n",
       "    <thead>\n",
       "        <tr>\n",
       "            <th>Flavor</th> <th>Price</th> <th>Stars</th>\n",
       "        </tr>\n",
       "    </thead>\n",
       "    <tbody>\n",
       "        <tr>\n",
       "            <td>chocolate</td> <td>6.55 </td> <td>3    </td>\n",
       "        </tr>\n",
       "        <tr>\n",
       "            <td>chocolate</td> <td>5.75 </td> <td>3    </td>\n",
       "        </tr>\n",
       "        <tr>\n",
       "            <td>vanila   </td> <td>4.75 </td> <td>5    </td>\n",
       "        </tr>\n",
       "    </tbody>\n",
       "</table>"
      ],
      "text/plain": [
       "Flavor    | Price | Stars\n",
       "chocolate | 6.55  | 3\n",
       "chocolate | 5.75  | 3\n",
       "vanila    | 4.75  | 5"
      ]
     },
     "execution_count": 53,
     "metadata": {},
     "output_type": "execute_result"
    }
   ],
   "source": [
    "cones.join(\"Flavor\", reviews, \"Kind\")"
   ]
  },
  {
   "cell_type": "markdown",
   "id": "c3636fda-887f-4285-a663-61883a9e409f",
   "metadata": {},
   "source": [
    "---"
   ]
  },
  {
   "cell_type": "markdown",
   "id": "df02245f-9af7-4a82-bc56-3de63b30f5d9",
   "metadata": {},
   "source": [
    "- ### Example 2"
   ]
  },
  {
   "cell_type": "markdown",
   "id": "1c70a523-5a27-4513-ad30-138696fde47e",
   "metadata": {},
   "source": [
    "<br>"
   ]
  },
  {
   "cell_type": "code",
   "execution_count": 54,
   "id": "eddf70bd-cac0-4b70-9837-48e56b03a14a",
   "metadata": {},
   "outputs": [
    {
     "data": {
      "text/html": [
       "<table border=\"1\" class=\"dataframe\">\n",
       "    <thead>\n",
       "        <tr>\n",
       "            <th>Year</th> <th>Age</th> <th>Gender</th> <th>Educational Attainment</th> <th>Personal Income</th> <th>Population Count</th>\n",
       "        </tr>\n",
       "    </thead>\n",
       "    <tbody>\n",
       "        <tr>\n",
       "            <td>1/1/08 0:00</td> <td>00 to 17 </td> <td>Male  </td> <td>College, less than 4-yr degree</td> <td>C: 10,000 to 14,999</td> <td>1304            </td>\n",
       "        </tr>\n",
       "        <tr>\n",
       "            <td>1/1/08 0:00</td> <td>00 to 17 </td> <td>Female</td> <td>College, less than 4-yr degree</td> <td>B: 5,000 to 9,999  </td> <td>1565            </td>\n",
       "        </tr>\n",
       "        <tr>\n",
       "            <td>1/1/08 0:00</td> <td>65 to 80+</td> <td>Male  </td> <td>College, less than 4-yr degree</td> <td>A: 0 to 4,999      </td> <td>1923            </td>\n",
       "        </tr>\n",
       "        <tr>\n",
       "            <td>1/1/08 0:00</td> <td>65 to 80+</td> <td>Female</td> <td>No high school diploma        </td> <td>H: 75,000 and over </td> <td>1981            </td>\n",
       "        </tr>\n",
       "    </tbody>\n",
       "</table>\n",
       "<p>... (1022 rows omitted)</p>"
      ],
      "text/plain": [
       "<IPython.core.display.HTML object>"
      ]
     },
     "metadata": {},
     "output_type": "display_data"
    }
   ],
   "source": [
    "educ_inc = Table.read_table(\"./csv/educ_inc.csv\")\n",
    "educ_inc.show(4)"
   ]
  },
  {
   "cell_type": "markdown",
   "id": "167c0d72-27ef-4f1f-a33d-2ea8b8a8b2aa",
   "metadata": {},
   "source": [
    "- #### 2014년의 18세 이상의 주민만 추출하여 분석"
   ]
  },
  {
   "cell_type": "code",
   "execution_count": 57,
   "id": "8b520ba5-8604-4702-9824-c8aa85d5fb27",
   "metadata": {},
   "outputs": [
    {
     "data": {
      "text/html": [
       "<table border=\"1\" class=\"dataframe\">\n",
       "    <thead>\n",
       "        <tr>\n",
       "            <th>Year</th> <th>Age</th> <th>Gender</th> <th>Educational Attainment</th> <th>Personal Income</th> <th>Population Count</th>\n",
       "        </tr>\n",
       "    </thead>\n",
       "    <tbody>\n",
       "        <tr>\n",
       "            <td>1/1/14 0:00</td> <td>18 to 64 </td> <td>Female</td> <td>No high school diploma   </td> <td>H: 75,000 and over </td> <td>2058            </td>\n",
       "        </tr>\n",
       "        <tr>\n",
       "            <td>1/1/14 0:00</td> <td>65 to 80+</td> <td>Male  </td> <td>No high school diploma   </td> <td>H: 75,000 and over </td> <td>2153            </td>\n",
       "        </tr>\n",
       "        <tr>\n",
       "            <td>1/1/14 0:00</td> <td>65 to 80+</td> <td>Female</td> <td>No high school diploma   </td> <td>G: 50,000 to 74,999</td> <td>4666            </td>\n",
       "        </tr>\n",
       "        <tr>\n",
       "            <td>1/1/14 0:00</td> <td>65 to 80+</td> <td>Female</td> <td>High school or equivalent</td> <td>H: 75,000 and over </td> <td>7122            </td>\n",
       "        </tr>\n",
       "    </tbody>\n",
       "</table>\n",
       "<p>... (123 rows omitted)</p>"
      ],
      "text/plain": [
       "<IPython.core.display.HTML object>"
      ]
     },
     "metadata": {},
     "output_type": "display_data"
    }
   ],
   "source": [
    "educ_inc = educ_inc.where(\"Year\", are.containing(\"14 \")).where(\"Age\", are.not_equal_to(\"00 to 17\"))\n",
    "educ_inc.show(4)"
   ]
  },
  {
   "cell_type": "markdown",
   "id": "d2267ac3-0a61-4e84-a1d3-21dc5f621540",
   "metadata": {},
   "source": [
    "- #### Educational Attainment, Personal Income, Population Count 열만 추출"
   ]
  },
  {
   "cell_type": "code",
   "execution_count": 60,
   "id": "1ac03e2e-2cf8-412e-9c30-87773d87f02c",
   "metadata": {},
   "outputs": [
    {
     "data": {
      "text/html": [
       "<table border=\"1\" class=\"dataframe\">\n",
       "    <thead>\n",
       "        <tr>\n",
       "            <th>Educational Attainment</th> <th>Personal Income</th> <th>Population Count</th>\n",
       "        </tr>\n",
       "    </thead>\n",
       "    <tbody>\n",
       "        <tr>\n",
       "            <td>No high school diploma   </td> <td>H: 75,000 and over </td> <td>2058            </td>\n",
       "        </tr>\n",
       "        <tr>\n",
       "            <td>No high school diploma   </td> <td>H: 75,000 and over </td> <td>2153            </td>\n",
       "        </tr>\n",
       "        <tr>\n",
       "            <td>No high school diploma   </td> <td>G: 50,000 to 74,999</td> <td>4666            </td>\n",
       "        </tr>\n",
       "        <tr>\n",
       "            <td>High school or equivalent</td> <td>H: 75,000 and over </td> <td>7122            </td>\n",
       "        </tr>\n",
       "    </tbody>\n",
       "</table>\n",
       "<p>... (123 rows omitted)</p>"
      ],
      "text/plain": [
       "<IPython.core.display.HTML object>"
      ]
     },
     "metadata": {},
     "output_type": "display_data"
    }
   ],
   "source": [
    "educ_inc = educ_inc.select(make_array(\"Educational Attainment\", \"Personal Income\", \"Population Count\"))\n",
    "educ_inc.show(4)"
   ]
  },
  {
   "cell_type": "markdown",
   "id": "b1a248a2-9448-4e25-9fc0-a977272e3016",
   "metadata": {},
   "source": [
    "- #### 교육 수준에 따른 인구수 합계"
   ]
  },
  {
   "cell_type": "code",
   "execution_count": 64,
   "id": "cb4e648a-fef8-4ed4-8559-11f05b343d6c",
   "metadata": {},
   "outputs": [
    {
     "data": {
      "text/html": [
       "<table border=\"1\" class=\"dataframe\">\n",
       "    <thead>\n",
       "        <tr>\n",
       "            <th>Educational Attainment</th> <th>Population Count sum</th>\n",
       "        </tr>\n",
       "    </thead>\n",
       "    <tbody>\n",
       "        <tr>\n",
       "            <td>Bachelor's degree or higher   </td> <td>8525698             </td>\n",
       "        </tr>\n",
       "        <tr>\n",
       "            <td>College, less than 4-yr degree</td> <td>7775497             </td>\n",
       "        </tr>\n",
       "        <tr>\n",
       "            <td>High school or equivalent     </td> <td>6294141             </td>\n",
       "        </tr>\n",
       "        <tr>\n",
       "            <td>No high school diploma        </td> <td>4258277             </td>\n",
       "        </tr>\n",
       "    </tbody>\n",
       "</table>"
      ],
      "text/plain": [
       "Educational Attainment         | Population Count sum\n",
       "Bachelor's degree or higher    | 8525698\n",
       "College, less than 4-yr degree | 7775497\n",
       "High school or equivalent      | 6294141\n",
       "No high school diploma         | 4258277"
      ]
     },
     "execution_count": 64,
     "metadata": {},
     "output_type": "execute_result"
    }
   ],
   "source": [
    "educ_pop = educ_inc.group(\"Educational Attainment\", np.sum).drop(\"Personal Income sum\")\n",
    "educ_pop"
   ]
  },
  {
   "cell_type": "markdown",
   "id": "9581582b-3284-43b2-a399-3d965ba656a5",
   "metadata": {},
   "source": [
    "- #### 인구 비율 추가한 테이블 생성"
   ]
  },
  {
   "cell_type": "code",
   "execution_count": 70,
   "id": "a3cae310-bd2e-43d5-aff1-99b1eb6c5c1d",
   "metadata": {},
   "outputs": [
    {
     "data": {
      "text/plain": [
       "array([ 31.75,  28.96,  23.44,  15.86])"
      ]
     },
     "execution_count": 70,
     "metadata": {},
     "output_type": "execute_result"
    }
   ],
   "source": [
    "all_count = np.sum(educ_pop.column(\"Population Count sum\"))\n",
    "percent = educ_pop.apply(lambda x: x / all_count, \"Population Count sum\")\n",
    "percent = np.round(percent * 100, 2)\n",
    "percent"
   ]
  },
  {
   "cell_type": "code",
   "execution_count": 72,
   "id": "1e27118e-b124-4edc-b837-051e90109251",
   "metadata": {},
   "outputs": [
    {
     "data": {
      "text/html": [
       "<table border=\"1\" class=\"dataframe\">\n",
       "    <thead>\n",
       "        <tr>\n",
       "            <th>Educational Attainment</th> <th>Population Count sum</th> <th>Percent</th>\n",
       "        </tr>\n",
       "    </thead>\n",
       "    <tbody>\n",
       "        <tr>\n",
       "            <td>Bachelor's degree or higher   </td> <td>8525698             </td> <td>31.75  </td>\n",
       "        </tr>\n",
       "        <tr>\n",
       "            <td>College, less than 4-yr degree</td> <td>7775497             </td> <td>28.96  </td>\n",
       "        </tr>\n",
       "        <tr>\n",
       "            <td>High school or equivalent     </td> <td>6294141             </td> <td>23.44  </td>\n",
       "        </tr>\n",
       "        <tr>\n",
       "            <td>No high school diploma        </td> <td>4258277             </td> <td>15.86  </td>\n",
       "        </tr>\n",
       "    </tbody>\n",
       "</table>"
      ],
      "text/plain": [
       "Educational Attainment         | Population Count sum | Percent\n",
       "Bachelor's degree or higher    | 8525698              | 31.75\n",
       "College, less than 4-yr degree | 7775497              | 28.96\n",
       "High school or equivalent      | 6294141              | 23.44\n",
       "No high school diploma         | 4258277              | 15.86"
      ]
     },
     "execution_count": 72,
     "metadata": {},
     "output_type": "execute_result"
    }
   ],
   "source": [
    "educ_pop = educ_pop.with_column(\"Percent\", percent)\n",
    "educ_pop"
   ]
  },
  {
   "cell_type": "markdown",
   "id": "35145cd0-d29f-4479-9611-147b74e8a59d",
   "metadata": {},
   "source": [
    "<br>"
   ]
  },
  {
   "cell_type": "markdown",
   "id": "88027a76-3947-4f50-a376-5f97dd6250df",
   "metadata": {},
   "source": [
    "- #### 교육 수준과 개인 소득을 기준으로 교차 분류된 테이블 생성"
   ]
  },
  {
   "cell_type": "code",
   "execution_count": 80,
   "id": "22653626-5798-4d0a-9cd5-3ebaa49b85bf",
   "metadata": {},
   "outputs": [
    {
     "data": {
      "text/html": [
       "<table border=\"1\" class=\"dataframe\">\n",
       "    <thead>\n",
       "        <tr>\n",
       "            <th>Personal Income</th> <th>Bachelor's degree or higher</th> <th>College, less than 4-yr degree</th> <th>High school or equivalent</th> <th>No high school diploma</th>\n",
       "        </tr>\n",
       "    </thead>\n",
       "    <tbody>\n",
       "        <tr>\n",
       "            <td>A: 0 to 4,999      </td> <td>575491                     </td> <td>985011                        </td> <td>1161873                  </td> <td>1204529               </td>\n",
       "        </tr>\n",
       "        <tr>\n",
       "            <td>B: 5,000 to 9,999  </td> <td>326020                     </td> <td>810641                        </td> <td>626499                   </td> <td>597039                </td>\n",
       "        </tr>\n",
       "        <tr>\n",
       "            <td>C: 10,000 to 14,999</td> <td>452449                     </td> <td>798596                        </td> <td>692661                   </td> <td>664607                </td>\n",
       "        </tr>\n",
       "        <tr>\n",
       "            <td>D: 15,000 to 24,999</td> <td>773684                     </td> <td>1345257                       </td> <td>1252377                  </td> <td>875498                </td>\n",
       "        </tr>\n",
       "        <tr>\n",
       "            <td>E: 25,000 to 34,999</td> <td>693884                     </td> <td>1091642                       </td> <td>929218                   </td> <td>464564                </td>\n",
       "        </tr>\n",
       "        <tr>\n",
       "            <td>F: 35,000 to 49,999</td> <td>1122791                    </td> <td>1112421                       </td> <td>782804                   </td> <td>260579                </td>\n",
       "        </tr>\n",
       "        <tr>\n",
       "            <td>G: 50,000 to 74,999</td> <td>1594681                    </td> <td>883826                        </td> <td>525517                   </td> <td>132516                </td>\n",
       "        </tr>\n",
       "        <tr>\n",
       "            <td>H: 75,000 and over </td> <td>2986698                    </td> <td>748103                        </td> <td>323192                   </td> <td>58945                 </td>\n",
       "        </tr>\n",
       "    </tbody>\n",
       "</table>"
      ],
      "text/plain": [
       "Personal Income     | Bachelor's degree or higher | College, less than 4-yr degree | High school or equivalent | No high school diploma\n",
       "A: 0 to 4,999       | 575491                      | 985011                         | 1161873                   | 1204529\n",
       "B: 5,000 to 9,999   | 326020                      | 810641                         | 626499                    | 597039\n",
       "C: 10,000 to 14,999 | 452449                      | 798596                         | 692661                    | 664607\n",
       "D: 15,000 to 24,999 | 773684                      | 1345257                        | 1252377                   | 875498\n",
       "E: 25,000 to 34,999 | 693884                      | 1091642                        | 929218                    | 464564\n",
       "F: 35,000 to 49,999 | 1122791                     | 1112421                        | 782804                    | 260579\n",
       "G: 50,000 to 74,999 | 1594681                     | 883826                         | 525517                    | 132516\n",
       "H: 75,000 and over  | 2986698                     | 748103                         | 323192                    | 58945"
      ]
     },
     "execution_count": 80,
     "metadata": {},
     "output_type": "execute_result"
    }
   ],
   "source": [
    "educ_inc_pivot = educ_inc.pivot(\"Educational Attainment\", \"Personal Income\", \"Population Count\", sum)\n",
    "educ_inc_pivot"
   ]
  },
  {
   "cell_type": "markdown",
   "id": "c13ebf44-2d93-4078-8799-e598ee31acfa",
   "metadata": {},
   "source": [
    "- #### 백분율로 표시한 테이블 생성"
   ]
  },
  {
   "cell_type": "code",
   "execution_count": 91,
   "id": "696b61ea-1813-4b29-b316-f4314d54a665",
   "metadata": {},
   "outputs": [
    {
     "data": {
      "text/html": [
       "<table border=\"1\" class=\"dataframe\">\n",
       "    <thead>\n",
       "        <tr>\n",
       "            <th>Personal Income</th> <th>Bachelor's degree or higher</th> <th>College, less than 4-yr degree</th> <th>High school or equivalent</th> <th>No high school diploma</th>\n",
       "        </tr>\n",
       "    </thead>\n",
       "    <tbody>\n",
       "        <tr>\n",
       "            <td>A: 0 to 4,999      </td> <td>6.75                       </td> <td>12.67                         </td> <td>18.46                    </td> <td>28.29                 </td>\n",
       "        </tr>\n",
       "        <tr>\n",
       "            <td>B: 5,000 to 9,999  </td> <td>3.82                       </td> <td>10.43                         </td> <td>9.95                     </td> <td>14.02                 </td>\n",
       "        </tr>\n",
       "        <tr>\n",
       "            <td>C: 10,000 to 14,999</td> <td>5.31                       </td> <td>10.27                         </td> <td>11                       </td> <td>15.61                 </td>\n",
       "        </tr>\n",
       "        <tr>\n",
       "            <td>D: 15,000 to 24,999</td> <td>9.07                       </td> <td>17.3                          </td> <td>19.9                     </td> <td>20.56                 </td>\n",
       "        </tr>\n",
       "        <tr>\n",
       "            <td>E: 25,000 to 34,999</td> <td>8.14                       </td> <td>14.04                         </td> <td>14.76                    </td> <td>10.91                 </td>\n",
       "        </tr>\n",
       "        <tr>\n",
       "            <td>F: 35,000 to 49,999</td> <td>13.17                      </td> <td>14.31                         </td> <td>12.44                    </td> <td>6.12                  </td>\n",
       "        </tr>\n",
       "        <tr>\n",
       "            <td>G: 50,000 to 74,999</td> <td>18.7                       </td> <td>11.37                         </td> <td>8.35                     </td> <td>3.11                  </td>\n",
       "        </tr>\n",
       "        <tr>\n",
       "            <td>H: 75,000 and over </td> <td>35.03                      </td> <td>9.62                          </td> <td>5.13                     </td> <td>1.38                  </td>\n",
       "        </tr>\n",
       "    </tbody>\n",
       "</table>"
      ],
      "text/plain": [
       "Personal Income     | Bachelor's degree or higher | College, less than 4-yr degree | High school or equivalent | No high school diploma\n",
       "A: 0 to 4,999       | 6.75                        | 12.67                          | 18.46                     | 28.29\n",
       "B: 5,000 to 9,999   | 3.82                        | 10.43                          | 9.95                      | 14.02\n",
       "C: 10,000 to 14,999 | 5.31                        | 10.27                          | 11                        | 15.61\n",
       "D: 15,000 to 24,999 | 9.07                        | 17.3                           | 19.9                      | 20.56\n",
       "E: 25,000 to 34,999 | 8.14                        | 14.04                          | 14.76                     | 10.91\n",
       "F: 35,000 to 49,999 | 13.17                       | 14.31                          | 12.44                     | 6.12\n",
       "G: 50,000 to 74,999 | 18.7                        | 11.37                          | 8.35                      | 3.11\n",
       "H: 75,000 and over  | 35.03                       | 9.62                           | 5.13                      | 1.38"
      ]
     },
     "execution_count": 91,
     "metadata": {},
     "output_type": "execute_result"
    }
   ],
   "source": [
    "def percents(array_x):\n",
    "    return np.round((array_x / sum(array_x)) * 100, 2)\n",
    "\n",
    "cols = []\n",
    "for col in educ_inc_pivot.labels[1:]:\n",
    "    cols.append([col, percents(educ_inc_pivot.column(col))])\n",
    "\n",
    "percent_table = Table().with_column(\"Personal Income\", educ_inc_pivot.column(\"Personal Income\"))\n",
    "for col, arr in cols:\n",
    "    percent_table = percent_table.with_column(col, arr)\n",
    "percent_table"
   ]
  },
  {
   "cell_type": "markdown",
   "id": "66932105-4232-4ff1-9f92-053fa50eb25d",
   "metadata": {},
   "source": [
    "- #### 학사 학위 이상과 고교 졸업장이 없는 주민 대상 barh 그래프"
   ]
  },
  {
   "cell_type": "code",
   "execution_count": 94,
   "id": "4c8a73ef-45c9-4ba1-a353-b9e4b6010ff9",
   "metadata": {},
   "outputs": [
    {
     "data": {
      "image/png": "[encoded data removed]",
      "text/plain": [
       "<Figure size 600x400 with 1 Axes>"
      ]
     },
     "metadata": {},
     "output_type": "display_data"
    }
   ],
   "source": [
    "percent_table.barh(\"Personal Income\", make_array(\"Bachelor's degree or higher\", \"No high school diploma\"))"
   ]
  }
 ],
 "metadata": {
  "kernelspec": {
   "display_name": "Python 3 (ipykernel)",
   "language": "python",
   "name": "python3"
  },
  "language_info": {
   "codemirror_mode": {
    "name": "ipython",
    "version": 3
   },
   "file_extension": ".py",
   "mimetype": "text/x-python",
   "name": "python",
   "nbconvert_exporter": "python",
   "pygments_lexer": "ipython3",
   "version": "3.10.13"
  }
 },
 "nbformat": 4,
 "nbformat_minor": 5
}
