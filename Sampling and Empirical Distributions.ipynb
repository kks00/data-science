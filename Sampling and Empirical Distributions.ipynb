{
 "cells": [
  {
   "cell_type": "code",
   "execution_count": 4,
   "id": "e81a4cca-2395-40cc-b9e6-f639af470d7d",
   "metadata": {},
   "outputs": [],
   "source": [
    "import numpy as np\n",
    "from datascience import *\n",
    "%matplotlib inline"
   ]
  },
  {
   "cell_type": "markdown",
   "id": "df1705bf-cbbd-444e-88ae-8c9bf925e6c1",
   "metadata": {},
   "source": [
    "---"
   ]
  },
  {
   "cell_type": "markdown",
   "id": "974c53e8-9c7d-44f3-a728-05673737931e",
   "metadata": {},
   "source": [
    "- ## 주사위 굴림에서 적어도 6이 한번 나올 확률\n",
    "    - ### 한 번 굴렸을 때 적어도 6이 나오지 않을 확률: $1 - \\frac{1}{6} = \\frac{5}{6}$\n",
    "    - ### 두 번 굴렸을 때 모두 적어도 6이 나올 확률: $1 - (\\frac{5}{6})^2$"
   ]
  },
  {
   "cell_type": "markdown",
   "id": "caffde7c-2bbb-475b-81d1-9fe83ba0d1ad",
   "metadata": {},
   "source": [
    "- ### 1번에서 50번 굴려서 적어도 6이 한 번 나올 확률을 Table로 작성"
   ]
  },
  {
   "cell_type": "code",
   "execution_count": 3,
   "id": "616422b6-7d1a-4bd3-bbe6-158e04db0e87",
   "metadata": {},
   "outputs": [
    {
     "data": {
      "text/html": [
       "<table border=\"1\" class=\"dataframe\">\n",
       "    <thead>\n",
       "        <tr>\n",
       "            <th>Rolls</th> <th>Chance of at least one 6</th>\n",
       "        </tr>\n",
       "    </thead>\n",
       "    <tbody>\n",
       "        <tr>\n",
       "            <td>1    </td> <td>0.166667                </td>\n",
       "        </tr>\n",
       "        <tr>\n",
       "            <td>2    </td> <td>0.305556                </td>\n",
       "        </tr>\n",
       "        <tr>\n",
       "            <td>3    </td> <td>0.421296                </td>\n",
       "        </tr>\n",
       "        <tr>\n",
       "            <td>4    </td> <td>0.517747                </td>\n",
       "        </tr>\n",
       "        <tr>\n",
       "            <td>5    </td> <td>0.598122                </td>\n",
       "        </tr>\n",
       "        <tr>\n",
       "            <td>6    </td> <td>0.665102                </td>\n",
       "        </tr>\n",
       "        <tr>\n",
       "            <td>7    </td> <td>0.720918                </td>\n",
       "        </tr>\n",
       "        <tr>\n",
       "            <td>8    </td> <td>0.767432                </td>\n",
       "        </tr>\n",
       "        <tr>\n",
       "            <td>9    </td> <td>0.806193                </td>\n",
       "        </tr>\n",
       "        <tr>\n",
       "            <td>10   </td> <td>0.838494                </td>\n",
       "        </tr>\n",
       "    </tbody>\n",
       "</table>\n",
       "<p>... (40 rows omitted)</p>"
      ],
      "text/plain": [
       "Rolls | Chance of at least one 6\n",
       "1     | 0.166667\n",
       "2     | 0.305556\n",
       "3     | 0.421296\n",
       "4     | 0.517747\n",
       "5     | 0.598122\n",
       "6     | 0.665102\n",
       "7     | 0.720918\n",
       "8     | 0.767432\n",
       "9     | 0.806193\n",
       "10    | 0.838494\n",
       "... (40 rows omitted)"
      ]
     },
     "execution_count": 3,
     "metadata": {},
     "output_type": "execute_result"
    }
   ],
   "source": [
    "dices = Table().with_columns(\n",
    "    \"Rolls\", np.arange(1, 51, 1),\n",
    "    \"Chance of at least one 6\", 1 - ((5 / 6) ** np.arange(1, 51, 1))\n",
    ")\n",
    "dices"
   ]
  },
  {
   "cell_type": "markdown",
   "id": "4c62cd58-2d9b-4fe2-aaf3-90a5fa396d1a",
   "metadata": {},
   "source": [
    "- ### 시각화\n",
    "    - #### 굴림 횟수가 증가할수록 적어도 한 번 6이 나올 확률은 급격히 증가함"
   ]
  },
  {
   "cell_type": "code",
   "execution_count": 6,
   "id": "d9259835-7240-4868-85fc-99cc61961c0c",
   "metadata": {},
   "outputs": [
    {
     "data": {
      "image/png": "[encoded data removed]",
      "text/plain": [
       "<Figure size 500x500 with 1 Axes>"
      ]
     },
     "metadata": {},
     "output_type": "display_data"
    }
   ],
   "source": [
    "dices.scatter(\"Rolls\")"
   ]
  },
  {
   "cell_type": "markdown",
   "id": "4f15cdb8-c2b6-4820-baa8-2184be52535d",
   "metadata": {},
   "source": [
    "- ### 50번 굴려서 적어도 한 번 6이 나올 확률"
   ]
  },
  {
   "cell_type": "code",
   "execution_count": 10,
   "id": "e1b8cdd0-2ee3-4d7a-bfac-67a01aa8408b",
   "metadata": {},
   "outputs": [
    {
     "data": {
      "text/html": [
       "<table border=\"1\" class=\"dataframe\">\n",
       "    <thead>\n",
       "        <tr>\n",
       "            <th>Rolls</th> <th>Chance of at least one 6</th>\n",
       "        </tr>\n",
       "    </thead>\n",
       "    <tbody>\n",
       "        <tr>\n",
       "            <td>50   </td> <td>0.99989                 </td>\n",
       "        </tr>\n",
       "    </tbody>\n",
       "</table>"
      ],
      "text/plain": [
       "Rolls | Chance of at least one 6\n",
       "50    | 0.99989"
      ]
     },
     "execution_count": 10,
     "metadata": {},
     "output_type": "execute_result"
    }
   ],
   "source": [
    "dices.take(49)"
   ]
  },
  {
   "cell_type": "markdown",
   "id": "b5bc1a7e-39cc-4866-85bf-a8431b767421",
   "metadata": {},
   "source": [
    "---"
   ]
  },
  {
   "cell_type": "markdown",
   "id": "5483e28e-0094-42ff-a348-7b122606be40",
   "metadata": {},
   "source": [
    "- ## Sampling"
   ]
  },
  {
   "cell_type": "markdown",
   "id": "59e5671f-8138-4095-be90-d42bb14be1c8",
   "metadata": {},
   "source": [
    "<br>"
   ]
  },
  {
   "cell_type": "code",
   "execution_count": 16,
   "id": "9a911547-0f54-4d3f-9bdc-2f299a3b57cb",
   "metadata": {},
   "outputs": [
    {
     "data": {
      "text/html": [
       "<table border=\"1\" class=\"dataframe\">\n",
       "    <thead>\n",
       "        <tr>\n",
       "            <th>Row Index</th> <th>Title</th> <th>Studio</th> <th>Gross</th> <th>Gross (Adjusted)</th> <th>Year</th>\n",
       "        </tr>\n",
       "    </thead>\n",
       "    <tbody>\n",
       "        <tr>\n",
       "            <td>0        </td> <td>Gone with the Wind</td> <td>MGM   </td> <td>198676459</td> <td>1796176700      </td> <td>1939</td>\n",
       "        </tr>\n",
       "        <tr>\n",
       "            <td>1        </td> <td>Star Wars         </td> <td>Fox   </td> <td>460998007</td> <td>1583483200      </td> <td>1977</td>\n",
       "        </tr>\n",
       "        <tr>\n",
       "            <td>2        </td> <td>The Sound of Music</td> <td>Fox   </td> <td>158671368</td> <td>1266072700      </td> <td>1965</td>\n",
       "        </tr>\n",
       "    </tbody>\n",
       "</table>\n",
       "<p>... (197 rows omitted)</p>"
      ],
      "text/plain": [
       "<IPython.core.display.HTML object>"
      ]
     },
     "metadata": {},
     "output_type": "display_data"
    }
   ],
   "source": [
    "table = Table.read_table(\"./csv/top_movies_2017.csv\")\n",
    "table = table.with_column(\"Row Index\", np.arange(0, table.num_rows))\n",
    "table = table.move_to_start(\"Row Index\")\n",
    "table.show(3)"
   ]
  },
  {
   "cell_type": "markdown",
   "id": "5458223c-9e75-45cc-a93b-dfae864927b1",
   "metadata": {},
   "source": [
    "<br>"
   ]
  },
  {
   "cell_type": "markdown",
   "id": "a178cfac-232a-46d9-aee3-64fde36690dc",
   "metadata": {},
   "source": [
    "- ### 1. Deterministic Sample\n",
    "    - #### 선택하려는 집합의 요소를 지정"
   ]
  },
  {
   "cell_type": "markdown",
   "id": "df6d9186-03eb-4080-8705-02e303ca821f",
   "metadata": {},
   "source": [
    "- #### 3, 18, 100 행 추출"
   ]
  },
  {
   "cell_type": "code",
   "execution_count": 17,
   "id": "d524c96b-3ba4-4f59-a658-1a134035be42",
   "metadata": {},
   "outputs": [
    {
     "data": {
      "text/html": [
       "<table border=\"1\" class=\"dataframe\">\n",
       "    <thead>\n",
       "        <tr>\n",
       "            <th>Row Index</th> <th>Title</th> <th>Studio</th> <th>Gross</th> <th>Gross (Adjusted)</th> <th>Year</th>\n",
       "        </tr>\n",
       "    </thead>\n",
       "    <tbody>\n",
       "        <tr>\n",
       "            <td>3        </td> <td>E.T.: The Extra-Terrestrial</td> <td>Universal  </td> <td>435110554</td> <td>1261085000      </td> <td>1982</td>\n",
       "        </tr>\n",
       "        <tr>\n",
       "            <td>18       </td> <td>The Lion King              </td> <td>Buena Vista</td> <td>422783777</td> <td>792511700       </td> <td>1994</td>\n",
       "        </tr>\n",
       "        <tr>\n",
       "            <td>100      </td> <td>The Hunger Games           </td> <td>Lionsgate  </td> <td>408010692</td> <td>452174400       </td> <td>2012</td>\n",
       "        </tr>\n",
       "    </tbody>\n",
       "</table>"
      ],
      "text/plain": [
       "Row Index | Title                       | Studio      | Gross     | Gross (Adjusted) | Year\n",
       "3         | E.T.: The Extra-Terrestrial | Universal   | 435110554 | 1261085000       | 1982\n",
       "18        | The Lion King               | Buena Vista | 422783777 | 792511700        | 1994\n",
       "100       | The Hunger Games            | Lionsgate   | 408010692 | 452174400        | 2012"
      ]
     },
     "execution_count": 17,
     "metadata": {},
     "output_type": "execute_result"
    }
   ],
   "source": [
    "table.take(make_array(3, 18, 100))"
   ]
  },
  {
   "cell_type": "markdown",
   "id": "da6b1e4d-dfca-4b70-9a78-17c4ab3c8cc1",
   "metadata": {},
   "source": [
    "- #### Title이 Harry Potter인 행 추출"
   ]
  },
  {
   "cell_type": "code",
   "execution_count": 18,
   "id": "62d94271-6035-4013-af6f-d79d3b03a78d",
   "metadata": {},
   "outputs": [
    {
     "data": {
      "text/html": [
       "<table border=\"1\" class=\"dataframe\">\n",
       "    <thead>\n",
       "        <tr>\n",
       "            <th>Row Index</th> <th>Title</th> <th>Studio</th> <th>Gross</th> <th>Gross (Adjusted)</th> <th>Year</th>\n",
       "        </tr>\n",
       "    </thead>\n",
       "    <tbody>\n",
       "        <tr>\n",
       "            <td>74       </td> <td>Harry Potter and the Sorcerer's Stone      </td> <td>Warner Brothers</td> <td>317575550</td> <td>497066400       </td> <td>2001</td>\n",
       "        </tr>\n",
       "        <tr>\n",
       "            <td>114      </td> <td>Harry Potter and the Deathly Hallows Part 2</td> <td>Warner Brothers</td> <td>381011219</td> <td>426630300       </td> <td>2011</td>\n",
       "        </tr>\n",
       "        <tr>\n",
       "            <td>131      </td> <td>Harry Potter and the Goblet of Fire        </td> <td>Warner Brothers</td> <td>290013036</td> <td>401608200       </td> <td>2005</td>\n",
       "        </tr>\n",
       "        <tr>\n",
       "            <td>133      </td> <td>Harry Potter and the Chamber of Secrets    </td> <td>Warner Brothers</td> <td>261988482</td> <td>399302200       </td> <td>2002</td>\n",
       "        </tr>\n",
       "        <tr>\n",
       "            <td>154      </td> <td>Harry Potter and the Order of the Phoenix  </td> <td>Warner Brothers</td> <td>292004738</td> <td>377314200       </td> <td>2007</td>\n",
       "        </tr>\n",
       "        <tr>\n",
       "            <td>175      </td> <td>Harry Potter and the Half-Blood Prince     </td> <td>Warner Brothers</td> <td>301959197</td> <td>359788300       </td> <td>2009</td>\n",
       "        </tr>\n",
       "        <tr>\n",
       "            <td>177      </td> <td>Harry Potter and the Prisoner of Azkaban   </td> <td>Warner Brothers</td> <td>249541069</td> <td>357233500       </td> <td>2004</td>\n",
       "        </tr>\n",
       "    </tbody>\n",
       "</table>"
      ],
      "text/plain": [
       "Row Index | Title                                       | Studio          | Gross     | Gross (Adjusted) | Year\n",
       "74        | Harry Potter and the Sorcerer's Stone       | Warner Brothers | 317575550 | 497066400        | 2001\n",
       "114       | Harry Potter and the Deathly Hallows Part 2 | Warner Brothers | 381011219 | 426630300        | 2011\n",
       "131       | Harry Potter and the Goblet of Fire         | Warner Brothers | 290013036 | 401608200        | 2005\n",
       "133       | Harry Potter and the Chamber of Secrets     | Warner Brothers | 261988482 | 399302200        | 2002\n",
       "154       | Harry Potter and the Order of the Phoenix   | Warner Brothers | 292004738 | 377314200        | 2007\n",
       "175       | Harry Potter and the Half-Blood Prince      | Warner Brothers | 301959197 | 359788300        | 2009\n",
       "177       | Harry Potter and the Prisoner of Azkaban    | Warner Brothers | 249541069 | 357233500        | 2004"
      ]
     },
     "execution_count": 18,
     "metadata": {},
     "output_type": "execute_result"
    }
   ],
   "source": [
    "table.where(\"Title\", are.containing(\"Harry Potter\"))"
   ]
  },
  {
   "cell_type": "markdown",
   "id": "2aeb6bbd-f9f3-4ea9-b970-bc41e1edff05",
   "metadata": {},
   "source": [
    "<br>"
   ]
  },
  {
   "cell_type": "markdown",
   "id": "d417726e-5ad5-4408-ad3e-0d1c439f4dca",
   "metadata": {},
   "source": [
    "- ### 2. Systematic Sample\n",
    "    - #### 앞에서 임의의 위치 선택 후 균등한 간격의 Row 선택"
   ]
  },
  {
   "cell_type": "markdown",
   "id": "9a93ab7f-e8b7-435d-b8da-624c6a4e26f7",
   "metadata": {},
   "source": [
    "- #### 처음 10개의 행 중 하나를 랜덤 선택하고, 매 10번째 행을 선택"
   ]
  },
  {
   "cell_type": "code",
   "execution_count": 19,
   "id": "2786107b-7b18-4052-b61d-57d3ba101ac9",
   "metadata": {},
   "outputs": [
    {
     "data": {
      "text/html": [
       "<table border=\"1\" class=\"dataframe\">\n",
       "    <thead>\n",
       "        <tr>\n",
       "            <th>Row Index</th> <th>Title</th> <th>Studio</th> <th>Gross</th> <th>Gross (Adjusted)</th> <th>Year</th>\n",
       "        </tr>\n",
       "    </thead>\n",
       "    <tbody>\n",
       "        <tr>\n",
       "            <td>5        </td> <td>The Ten Commandments                 </td> <td>Paramount  </td> <td>65500000 </td> <td>1164590000      </td> <td>1956</td>\n",
       "        </tr>\n",
       "        <tr>\n",
       "            <td>15       </td> <td>Return of the Jedi                   </td> <td>Fox        </td> <td>309306177</td> <td>836188200       </td> <td>1983</td>\n",
       "        </tr>\n",
       "        <tr>\n",
       "            <td>25       </td> <td>Forrest Gump                         </td> <td>Paramount  </td> <td>330252182</td> <td>698884100       </td> <td>1994</td>\n",
       "        </tr>\n",
       "        <tr>\n",
       "            <td>35       </td> <td>Butch Cassidy and the Sundance Kid   </td> <td>Fox        </td> <td>102308889</td> <td>627259300       </td> <td>1969</td>\n",
       "        </tr>\n",
       "        <tr>\n",
       "            <td>45       </td> <td>American Graffiti                    </td> <td>Universal  </td> <td>115000000</td> <td>584200000       </td> <td>1973</td>\n",
       "        </tr>\n",
       "        <tr>\n",
       "            <td>55       </td> <td>The Towering Inferno                 </td> <td>Fox        </td> <td>116000000</td> <td>545629600       </td> <td>1974</td>\n",
       "        </tr>\n",
       "        <tr>\n",
       "            <td>65       </td> <td>The Lord of the Rings: The Two Towers</td> <td>Newline    </td> <td>342551365</td> <td>513177800       </td> <td>2002</td>\n",
       "        </tr>\n",
       "        <tr>\n",
       "            <td>75       </td> <td>Lady and the Tramp                   </td> <td>Disney     </td> <td>93602326 </td> <td>495483100       </td> <td>1955</td>\n",
       "        </tr>\n",
       "        <tr>\n",
       "            <td>85       </td> <td>The Bridge on the River Kwai         </td> <td>Columbia   </td> <td>27200000 </td> <td>483616000       </td> <td>1957</td>\n",
       "        </tr>\n",
       "        <tr>\n",
       "            <td>95       </td> <td>Aladdin                              </td> <td>Buena Vista</td> <td>217350219</td> <td>466212500       </td> <td>1992</td>\n",
       "        </tr>\n",
       "    </tbody>\n",
       "</table>\n",
       "<p>... (10 rows omitted)</p>"
      ],
      "text/plain": [
       "Row Index | Title                                 | Studio      | Gross     | Gross (Adjusted) | Year\n",
       "5         | The Ten Commandments                  | Paramount   | 65500000  | 1164590000       | 1956\n",
       "15        | Return of the Jedi                    | Fox         | 309306177 | 836188200        | 1983\n",
       "25        | Forrest Gump                          | Paramount   | 330252182 | 698884100        | 1994\n",
       "35        | Butch Cassidy and the Sundance Kid    | Fox         | 102308889 | 627259300        | 1969\n",
       "45        | American Graffiti                     | Universal   | 115000000 | 584200000        | 1973\n",
       "55        | The Towering Inferno                  | Fox         | 116000000 | 545629600        | 1974\n",
       "65        | The Lord of the Rings: The Two Towers | Newline     | 342551365 | 513177800        | 2002\n",
       "75        | Lady and the Tramp                    | Disney      | 93602326  | 495483100        | 1955\n",
       "85        | The Bridge on the River Kwai          | Columbia    | 27200000  | 483616000        | 1957\n",
       "95        | Aladdin                               | Buena Vista | 217350219 | 466212500        | 1992\n",
       "... (10 rows omitted)"
      ]
     },
     "execution_count": 19,
     "metadata": {},
     "output_type": "execute_result"
    }
   ],
   "source": [
    "rand = np.random.choice(np.arange(0, 10, 1))\n",
    "table.take(np.arange(rand, table.num_rows, 10))"
   ]
  },
  {
   "cell_type": "markdown",
   "id": "9a1f2967-c99f-4c4f-8497-a79b60c45619",
   "metadata": {},
   "source": [
    "<br>"
   ]
  },
  {
   "cell_type": "markdown",
   "id": "b56b6aac-6ef7-4bc7-8295-8df7942012fa",
   "metadata": {},
   "source": [
    "- ### 3. Random Sampling    "
   ]
  },
  {
   "cell_type": "markdown",
   "id": "d3428549-f347-45e9-8c43-09ab802e90b3",
   "metadata": {},
   "source": [
    "- ### 주사위 굴리기의 이론적 확률\n",
    "    - ### 모든 면이 나올 확률이 $\\frac{1}{6}$ 로 같음"
   ]
  },
  {
   "cell_type": "code",
   "execution_count": 22,
   "id": "fae6d12d-d23b-4a8c-8e86-c247893fd963",
   "metadata": {},
   "outputs": [
    {
     "data": {
      "image/png": "[encoded data removed]",
      "text/plain": [
       "<Figure size 600x400 with 1 Axes>"
      ]
     },
     "metadata": {},
     "output_type": "display_data"
    }
   ],
   "source": [
    "Table().with_columns(\n",
    "    \"Face\", np.arange(1, 7, 1)\n",
    ").hist(bins=np.arange(0.5, 6.6, 1))"
   ]
  },
  {
   "cell_type": "markdown",
   "id": "c2e1b3ee-df65-4213-81ec-56ef06916f6c",
   "metadata": {},
   "source": [
    "<br>"
   ]
  },
  {
   "cell_type": "markdown",
   "id": "35a99715-c184-45d4-8496-1f6169b6812b",
   "metadata": {},
   "source": [
    "- ### 주사위 굴림을 시뮬레이션하여 데이터 얻기\n",
    "    - ### table.sample(k=None, with_replacement=True, weights=None)\n",
    "        - #### k: sampling할 행의 수\n",
    "        - #### with_replacement: 중복 가능 여부\n",
    "        - #### weights: 가중치, 합쳐서 1이 되는 배열"
   ]
  },
  {
   "cell_type": "markdown",
   "id": "5f4fc1b2-2775-4155-bc42-70fbf6ec2899",
   "metadata": {},
   "source": [
    "- #### 주사위를 10번 던졌을 때의 히스토그램"
   ]
  },
  {
   "cell_type": "code",
   "execution_count": 31,
   "id": "d616dad5-8adb-4b40-b8a6-f7d62f1422a5",
   "metadata": {},
   "outputs": [
    {
     "data": {
      "image/png": "[encoded data removed]",
      "text/plain": [
       "<Figure size 600x400 with 1 Axes>"
      ]
     },
     "metadata": {},
     "output_type": "display_data"
    }
   ],
   "source": [
    "die = Table().with_columns(\"Face\", np.arange(1, 7, 1))\n",
    "die.sample(10).hist(\"Face\", bins=np.arange(0.5, 6.5, 1))"
   ]
  },
  {
   "cell_type": "markdown",
   "id": "6efbd625-6101-4d1c-a3e1-7577bbf07642",
   "metadata": {},
   "source": [
    "- #### 주사위를 1000번 던졌을 때의 히스토그램\n",
    "    - #### 평균의 법칙\n",
    "        - <h4 style=\"color: red;\">실험이 동일한 조건에서 독립적으로 반복되면 이론적 확률에 가까워짐</h4>"
   ]
  },
  {
   "cell_type": "code",
   "execution_count": 32,
   "id": "859cdd77-78e6-496e-b7ea-5c12edaba13c",
   "metadata": {},
   "outputs": [
    {
     "data": {
      "image/png": "[encoded data removed]",
      "text/plain": [
       "<Figure size 600x400 with 1 Axes>"
      ]
     },
     "metadata": {},
     "output_type": "display_data"
    }
   ],
   "source": [
    "die.sample(1000).hist(\"Face\", bins=np.arange(0.5, 6.5, 1))"
   ]
  },
  {
   "cell_type": "markdown",
   "id": "1eec8c36-6f7f-4308-b1a4-4e7950033b26",
   "metadata": {},
   "source": [
    "<br>"
   ]
  },
  {
   "cell_type": "markdown",
   "id": "9042a8ee-1196-42f5-a37f-af11b4d4a489",
   "metadata": {},
   "source": [
    "---"
   ]
  },
  {
   "cell_type": "markdown",
   "id": "7cfe963d-2c19-4d32-b47e-314844489527",
   "metadata": {},
   "source": [
    "- ## 대규모 모집단으로부터 무작위 표본 추출"
   ]
  },
  {
   "cell_type": "code",
   "execution_count": 38,
   "id": "00d00bd7-968b-4a21-812c-59679fbccc06",
   "metadata": {},
   "outputs": [
    {
     "data": {
      "text/html": [
       "<table border=\"1\" class=\"dataframe\">\n",
       "    <thead>\n",
       "        <tr>\n",
       "            <th>Date</th> <th>Flight Number</th> <th>Destination</th> <th>Delay</th>\n",
       "        </tr>\n",
       "    </thead>\n",
       "    <tbody>\n",
       "        <tr>\n",
       "            <td>6/1/15</td> <td>73           </td> <td>HNL        </td> <td>257  </td>\n",
       "        </tr>\n",
       "        <tr>\n",
       "            <td>6/1/15</td> <td>217          </td> <td>EWR        </td> <td>28   </td>\n",
       "        </tr>\n",
       "        <tr>\n",
       "            <td>6/1/15</td> <td>237          </td> <td>STL        </td> <td>-3   </td>\n",
       "        </tr>\n",
       "        <tr>\n",
       "            <td>6/1/15</td> <td>250          </td> <td>SAN        </td> <td>0    </td>\n",
       "        </tr>\n",
       "    </tbody>\n",
       "</table>\n",
       "<p>... (13821 rows omitted)</p>"
      ],
      "text/plain": [
       "<IPython.core.display.HTML object>"
      ]
     },
     "metadata": {},
     "output_type": "display_data"
    }
   ],
   "source": [
    "united = Table.read_table(\"./csv/united_summer2015.csv\")\n",
    "united.show(4)"
   ]
  },
  {
   "cell_type": "markdown",
   "id": "b601b179-6291-4634-93b8-36909463e8ff",
   "metadata": {},
   "source": [
    "<br>"
   ]
  },
  {
   "cell_type": "markdown",
   "id": "9c69ab82-0354-4793-9cf9-eda423d5fe18",
   "metadata": {},
   "source": [
    "- #### 모집단의 항공편 지연율 히스토그램"
   ]
  },
  {
   "cell_type": "code",
   "execution_count": 40,
   "id": "2ec3908e-77bf-4655-b057-3669d6d8f3c5",
   "metadata": {},
   "outputs": [
    {
     "data": {
      "text/plain": [
       "(-16, 580)"
      ]
     },
     "execution_count": 40,
     "metadata": {},
     "output_type": "execute_result"
    }
   ],
   "source": [
    "united.column(\"Delay\").min(), united.column(\"Delay\").max()"
   ]
  },
  {
   "cell_type": "code",
   "execution_count": 43,
   "id": "5a222290-4ab2-4a55-b21e-a4bb9acfaf69",
   "metadata": {},
   "outputs": [
    {
     "data": {
      "image/png": "[encoded data removed]",
      "text/plain": [
       "<Figure size 600x400 with 1 Axes>"
      ]
     },
     "metadata": {},
     "output_type": "display_data"
    }
   ],
   "source": [
    "united.hist(\"Delay\", bins=np.arange(-20, 201, 10))"
   ]
  },
  {
   "cell_type": "markdown",
   "id": "238f10a7-24a2-45e4-947a-48fdd3e4ba22",
   "metadata": {},
   "source": [
    "- #### 표본 10개의 지연율 히스토그램"
   ]
  },
  {
   "cell_type": "code",
   "execution_count": 49,
   "id": "719ec872-33e1-4208-b680-ecf00625306c",
   "metadata": {},
   "outputs": [
    {
     "data": {
      "image/png": "[encoded data removed]",
      "text/plain": [
       "<Figure size 600x400 with 1 Axes>"
      ]
     },
     "metadata": {},
     "output_type": "display_data"
    }
   ],
   "source": [
    "united.sample(10).hist(\"Delay\", bins=np.arange(-20, 201, 10))"
   ]
  },
  {
   "cell_type": "markdown",
   "id": "a724256f-d7d8-44e1-921d-b74b43d850c4",
   "metadata": {},
   "source": [
    "- #### 표본 1000개의 지연율 히스토그램\n",
    "    - #### 대규모 Random Sampling: 모집단의 히스토그램과 유사"
   ]
  },
  {
   "cell_type": "code",
   "execution_count": 50,
   "id": "24dd667c-af7f-4dad-9701-b062d4ef9800",
   "metadata": {},
   "outputs": [
    {
     "data": {
      "image/png": "[encoded data removed]",
      "text/plain": [
       "<Figure size 600x400 with 1 Axes>"
      ]
     },
     "metadata": {},
     "output_type": "display_data"
    }
   ],
   "source": [
    "united.sample(1000).hist(\"Delay\", bins=np.arange(-20, 201, 10))"
   ]
  },
  {
   "cell_type": "markdown",
   "id": "314eb73e-b66c-4426-b852-f311b475af95",
   "metadata": {},
   "source": [
    "<br>"
   ]
  },
  {
   "cell_type": "markdown",
   "id": "fa192bd7-b7b7-451a-9f57-a28a1e3216c8",
   "metadata": {},
   "source": [
    "- #### 모집단에서의 Delay 중간값"
   ]
  },
  {
   "cell_type": "code",
   "execution_count": 53,
   "id": "747f3b59-d7e1-491f-828b-2b19dc46da05",
   "metadata": {},
   "outputs": [
    {
     "data": {
      "text/plain": [
       "2.0"
      ]
     },
     "execution_count": 53,
     "metadata": {},
     "output_type": "execute_result"
    }
   ],
   "source": [
    "np.median(united.column(\"Delay\"))"
   ]
  },
  {
   "cell_type": "markdown",
   "id": "5d60f653-a6c0-4f49-8121-cb5eda07fb9f",
   "metadata": {},
   "source": [
    "- #### 1000개의 표본에서의 Delay중간값"
   ]
  },
  {
   "cell_type": "code",
   "execution_count": 58,
   "id": "673f7411-af64-4068-af44-23d1b7b9e3a9",
   "metadata": {},
   "outputs": [
    {
     "data": {
      "text/plain": [
       "2.0"
      ]
     },
     "execution_count": 58,
     "metadata": {},
     "output_type": "execute_result"
    }
   ],
   "source": [
    "def random_sample_median():\n",
    "    return np.median(united.sample(1000).column(\"Delay\"))\n",
    "\n",
    "random_sample_median()"
   ]
  },
  {
   "cell_type": "markdown",
   "id": "48b50182-880e-481e-bf98-47dc5e92925a",
   "metadata": {},
   "source": [
    "- #### 5000번 시뮬레이션 한 결과의 히스토그램\n",
    "    - <h4 style=\"color: red;\">표본의 중앙값도 모집단의 중앙값인 2일 가능성이 매우 높음</h4>"
   ]
  },
  {
   "cell_type": "code",
   "execution_count": 63,
   "id": "4b387390-a6c0-4647-8cd7-e49e5d6d668d",
   "metadata": {},
   "outputs": [
    {
     "data": {
      "image/png": "[encoded data removed]",
      "text/plain": [
       "<Figure size 600x400 with 1 Axes>"
      ]
     },
     "metadata": {},
     "output_type": "display_data"
    }
   ],
   "source": [
    "medians = make_array()\n",
    "for _ in range(5000):\n",
    "    medians = np.append(medians, random_sample_median())\n",
    "\n",
    "Table().with_column(\"medians\", medians).hist(\"medians\", bins=np.arange(0.5, 5, 1))"
   ]
  },
  {
   "cell_type": "markdown",
   "id": "744964b3-afc0-45b0-a33e-dd0944a3bd3d",
   "metadata": {},
   "source": [
    "---"
   ]
  }
 ],
 "metadata": {
  "kernelspec": {
   "display_name": "Python 3 (ipykernel)",
   "language": "python",
   "name": "python3"
  },
  "language_info": {
   "codemirror_mode": {
    "name": "ipython",
    "version": 3
   },
   "file_extension": ".py",
   "mimetype": "text/x-python",
   "name": "python",
   "nbconvert_exporter": "python",
   "pygments_lexer": "ipython3",
   "version": "3.10.13"
  }
 },
 "nbformat": 4,
 "nbformat_minor": 5
}
