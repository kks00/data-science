{
 "cells": [
  {
   "cell_type": "code",
   "execution_count": 1,
   "id": "beee2957-66cf-4072-8432-8a5fcacb69dd",
   "metadata": {},
   "outputs": [],
   "source": [
    "from datascience import *\n",
    "import numpy as np\n",
    "import matplotlib.pyplot as plt\n",
    "%matplotlib inline"
   ]
  },
  {
   "cell_type": "markdown",
   "id": "16a5cc8f-4983-4f74-a5fa-648cd35d7ecf",
   "metadata": {},
   "source": [
    "---"
   ]
  },
  {
   "cell_type": "markdown",
   "id": "12947324-8b8f-4068-a856-4fa9daeda3a7",
   "metadata": {},
   "source": [
    "- ## 산모의 흡연 여부와 아기의 출생 체중과의 연관"
   ]
  },
  {
   "cell_type": "markdown",
   "id": "b109450d-8b4f-4805-9214-b03ff7eb82fe",
   "metadata": {},
   "source": [
    "<br>"
   ]
  },
  {
   "cell_type": "code",
   "execution_count": 2,
   "id": "cd7f6dd0-055c-4f36-98e5-3c62afae7cd3",
   "metadata": {},
   "outputs": [
    {
     "data": {
      "text/html": [
       "<table border=\"1\" class=\"dataframe\">\n",
       "    <thead>\n",
       "        <tr>\n",
       "            <th>Birth Weight</th> <th>Gestational Days</th> <th>Maternal Age</th> <th>Maternal Height</th> <th>Maternal Pregnancy Weight</th> <th>Maternal Smoker</th>\n",
       "        </tr>\n",
       "    </thead>\n",
       "    <tbody>\n",
       "        <tr>\n",
       "            <td>120         </td> <td>284             </td> <td>27          </td> <td>62             </td> <td>100                      </td> <td>False          </td>\n",
       "        </tr>\n",
       "        <tr>\n",
       "            <td>113         </td> <td>282             </td> <td>33          </td> <td>64             </td> <td>135                      </td> <td>False          </td>\n",
       "        </tr>\n",
       "        <tr>\n",
       "            <td>128         </td> <td>279             </td> <td>28          </td> <td>64             </td> <td>115                      </td> <td>True           </td>\n",
       "        </tr>\n",
       "    </tbody>\n",
       "</table>\n",
       "<p>... (1171 rows omitted)</p>"
      ],
      "text/plain": [
       "<IPython.core.display.HTML object>"
      ]
     },
     "metadata": {},
     "output_type": "display_data"
    }
   ],
   "source": [
    "births = Table.read_table(\"./csv/baby.csv\")\n",
    "births.show(3)"
   ]
  },
  {
   "cell_type": "markdown",
   "id": "21616b2b-08bc-4693-a853-06f3b0539050",
   "metadata": {},
   "source": [
    "- ### 흡연 여부, 출생 체중만 추출"
   ]
  },
  {
   "cell_type": "code",
   "execution_count": 5,
   "id": "dffbd1df-a27e-4ca6-aec1-fcbc4afc2a61",
   "metadata": {},
   "outputs": [
    {
     "data": {
      "text/html": [
       "<table border=\"1\" class=\"dataframe\">\n",
       "    <thead>\n",
       "        <tr>\n",
       "            <th>Maternal Smoker</th> <th>Birth Weight</th>\n",
       "        </tr>\n",
       "    </thead>\n",
       "    <tbody>\n",
       "        <tr>\n",
       "            <td>False          </td> <td>120         </td>\n",
       "        </tr>\n",
       "        <tr>\n",
       "            <td>False          </td> <td>113         </td>\n",
       "        </tr>\n",
       "        <tr>\n",
       "            <td>True           </td> <td>128         </td>\n",
       "        </tr>\n",
       "    </tbody>\n",
       "</table>\n",
       "<p>... (1171 rows omitted)</p>"
      ],
      "text/plain": [
       "<IPython.core.display.HTML object>"
      ]
     },
     "metadata": {},
     "output_type": "display_data"
    }
   ],
   "source": [
    "smoking_and_birth_weight = births.select(\"Maternal Smoker\", \"Birth Weight\")\n",
    "smoking_and_birth_weight.show(3)"
   ]
  },
  {
   "cell_type": "markdown",
   "id": "81a740fc-0a9b-47b0-9358-23d9d510fbed",
   "metadata": {},
   "source": [
    "- ### 흡연 여부를 그룹으로 하는 체중 분포 히스토그램"
   ]
  },
  {
   "cell_type": "code",
   "execution_count": 6,
   "id": "6c081bcb-2502-443c-99e5-33ca457d0ff4",
   "metadata": {},
   "outputs": [
    {
     "data": {
      "image/png": "[encoded data removed]",
      "text/plain": [
       "<Figure size 600x400 with 1 Axes>"
      ]
     },
     "metadata": {},
     "output_type": "display_data"
    }
   ],
   "source": [
    "smoking_and_birth_weight.hist(\"Birth Weight\", group=\"Maternal Smoker\")"
   ]
  },
  {
   "cell_type": "markdown",
   "id": "d345647f-1f15-43c1-aad4-0e954af77753",
   "metadata": {},
   "source": [
    "- <h4 style=\"font-weight:bold; color:red;\">흡연 산모 아기의 체중이 평균적으로 낮게 나타남</h4>"
   ]
  },
  {
   "cell_type": "markdown",
   "id": "a0262153-2eec-4e62-ac06-ac362a5b1c3c",
   "metadata": {},
   "source": [
    "<br><br>\n",
    "\n",
    "- <h3 style=\"font-weight:bold; color:red;\">모집단에서는 차이가 없지만, 표본에서만 차이가 존재할 수 있음</h3>\n",
    "\n",
    "    - #### 귀무가설: 모집단에서는 차이가 없음\n",
    "    - #### 대립 가설: 모집단에서도 차이가 있음"
   ]
  },
  {
   "cell_type": "markdown",
   "id": "da94c971-a554-4275-8c7d-5bd86f9eca28",
   "metadata": {},
   "source": [
    "- ### 무작위 순열\n",
    "    - #### 모집단에서 차이가 없다면, 흡연 여부가 평균에 영향을 주지 않아야 함\n",
    "    - #### 산모의 모든 레이블을 무작위로 섞은 다음 체중 평균의 차이를 구해보기\n",
    "    - <h4 style=\"font-weight: bold; color: red\">흡연 여부를 무작위로 섞은 체중의 평균 차이도 표본과 유사하게 나타난다면 귀무가설 채택</h4>"
   ]
  },
  {
   "cell_type": "markdown",
   "id": "da89c714-d4c8-4d73-9f75-c1f6eef1ff7e",
   "metadata": {},
   "source": [
    "<br>"
   ]
  },
  {
   "cell_type": "markdown",
   "id": "50c41e1a-6f29-470a-a76d-1a73def9a549",
   "metadata": {},
   "source": [
    "- #### 흡연 그룹 평균과 비흡연 그룹 평균의 차이를 계산하는 함수"
   ]
  },
  {
   "cell_type": "code",
   "execution_count": 7,
   "id": "21774e67-f755-411b-8e3b-bfc09c27817f",
   "metadata": {},
   "outputs": [
    {
     "data": {
      "text/plain": [
       "-9.266142572024918"
      ]
     },
     "execution_count": 7,
     "metadata": {},
     "output_type": "execute_result"
    }
   ],
   "source": [
    "def difference_of_means(table, group_label):\n",
    "    reduced = table.select(\"Birth Weight\", group_label)\n",
    "    means_table = reduced.group(group_label, np.mean)\n",
    "    means = means_table.column(1)\n",
    "    return means.item(1) - means.item(0)\n",
    "\n",
    "difference_of_means(smoking_and_birth_weight, \"Maternal Smoker\")"
   ]
  },
  {
   "cell_type": "markdown",
   "id": "e8b50c2d-d294-43cc-ab07-2904f31329fc",
   "metadata": {},
   "source": [
    "- #### 흡연 여부를 셔플로 섞기\n",
    "    - #### table.sample(with_replacement=False)"
   ]
  },
  {
   "cell_type": "code",
   "execution_count": 13,
   "id": "8839e3a2-e331-4bd9-8748-dd5b55cbd977",
   "metadata": {},
   "outputs": [
    {
     "data": {
      "text/html": [
       "<table border=\"1\" class=\"dataframe\">\n",
       "    <thead>\n",
       "        <tr>\n",
       "            <th>Maternal Smoker</th> <th>Birth Weight</th> <th>Shuffled Label</th>\n",
       "        </tr>\n",
       "    </thead>\n",
       "    <tbody>\n",
       "        <tr>\n",
       "            <td>False          </td> <td>120         </td> <td>True          </td>\n",
       "        </tr>\n",
       "        <tr>\n",
       "            <td>False          </td> <td>113         </td> <td>True          </td>\n",
       "        </tr>\n",
       "        <tr>\n",
       "            <td>True           </td> <td>128         </td> <td>False         </td>\n",
       "        </tr>\n",
       "    </tbody>\n",
       "</table>\n",
       "<p>... (1171 rows omitted)</p>"
      ],
      "text/plain": [
       "<IPython.core.display.HTML object>"
      ]
     },
     "metadata": {},
     "output_type": "display_data"
    }
   ],
   "source": [
    "shuffled_labels = smoking_and_birth_weight.sample(with_replacement=False).column(0)\n",
    "original_and_shuffled = smoking_and_birth_weight.with_column(\"Shuffled Label\", shuffled_labels)\n",
    "original_and_shuffled.show(3)"
   ]
  },
  {
   "cell_type": "markdown",
   "id": "094fa173-8eaa-4f1f-bac2-4bfa646bd1c9",
   "metadata": {},
   "source": [
    "- #### 셔플로 섞은 그룹의 평균의 차이"
   ]
  },
  {
   "cell_type": "code",
   "execution_count": 16,
   "id": "8701fb9f-0545-4bd7-9027-f7be9308b5ad",
   "metadata": {},
   "outputs": [
    {
     "data": {
      "text/html": [
       "<table border=\"1\" class=\"dataframe\">\n",
       "    <thead>\n",
       "        <tr>\n",
       "            <th>Shuffled Label</th> <th>Birth Weight mean</th>\n",
       "        </tr>\n",
       "    </thead>\n",
       "    <tbody>\n",
       "        <tr>\n",
       "            <td>False         </td> <td>118.754          </td>\n",
       "        </tr>\n",
       "        <tr>\n",
       "            <td>True          </td> <td>120.566          </td>\n",
       "        </tr>\n",
       "    </tbody>\n",
       "</table>"
      ],
      "text/plain": [
       "Shuffled Label | Birth Weight mean\n",
       "False          | 118.754\n",
       "True           | 120.566"
      ]
     },
     "execution_count": 16,
     "metadata": {},
     "output_type": "execute_result"
    }
   ],
   "source": [
    "shuffled_group_means = original_and_shuffled.select(\"Shuffled Label\", \"Birth Weight\").group(\"Shuffled Label\", np.mean)\n",
    "shuffled_group_means"
   ]
  },
  {
   "cell_type": "code",
   "execution_count": 19,
   "id": "02fc6926-f01f-4532-b24d-5e79e14475fc",
   "metadata": {},
   "outputs": [
    {
     "data": {
      "text/plain": [
       "1.8126026478967674"
      ]
     },
     "execution_count": 19,
     "metadata": {},
     "output_type": "execute_result"
    }
   ],
   "source": [
    "difference_of_means(original_and_shuffled, \"Shuffled Label\")"
   ]
  },
  {
   "cell_type": "markdown",
   "id": "31e79c8d-60f7-49fb-a15d-066c42bf2081",
   "metadata": {},
   "source": [
    "<br>\n",
    "\n",
    "- ### 5000번 시뮬레이션 한 결과"
   ]
  },
  {
   "cell_type": "code",
   "execution_count": 21,
   "id": "06e3de7b-b652-4749-b993-97d481eba5a7",
   "metadata": {},
   "outputs": [
    {
     "data": {
      "text/plain": [
       "array([ 0.68934595,  0.72511845,  0.59633743, ..., -1.28171915,\n",
       "        0.98625775,  1.06853452])"
      ]
     },
     "execution_count": 21,
     "metadata": {},
     "output_type": "execute_result"
    }
   ],
   "source": [
    "def one_simulated_difference_of_means():\n",
    "    shuffled_labels = smoking_and_birth_weight.sample(with_replacement=False).column(0)\n",
    "    original_and_shuffled = smoking_and_birth_weight.with_column(\"Shuffled Label\", shuffled_labels)\n",
    "    return difference_of_means(original_and_shuffled, \"Shuffled Label\")\n",
    "\n",
    "differences = make_array()\n",
    "for _ in range(5000):\n",
    "    differences = np.append(differences, one_simulated_difference_of_means())\n",
    "differences"
   ]
  },
  {
   "cell_type": "code",
   "execution_count": 23,
   "id": "f27a93be-c8fc-45a3-a3e8-71b9b23d2fd9",
   "metadata": {},
   "outputs": [
    {
     "data": {
      "image/png": "[encoded data removed]",
      "text/plain": [
       "<Figure size 600x400 with 1 Axes>"
      ]
     },
     "metadata": {},
     "output_type": "display_data"
    }
   ],
   "source": [
    "Table().with_column(\"Difference between Group Means\", differences).hist()"
   ]
  },
  {
   "cell_type": "markdown",
   "id": "75af008f-4140-406b-884e-f1a5af632486",
   "metadata": {},
   "source": [
    "- ### 평균 차이가 0에 가깝게 나타남\n",
    "    - #### 귀무가설은 표본의 평균 차이와 모집단의 평균 차이가 같게 나타나는 것이지만, 표본의 평균 차이는 거의 나타나지 않았음\n",
    "    - <h4 style=\"font-weight: bold; color: red\">대립가설을 채택</h4>"
   ]
  },
  {
   "cell_type": "markdown",
   "id": "6b52959f-020e-445b-8324-3387565da85e",
   "metadata": {},
   "source": [
    "---"
   ]
  },
  {
   "cell_type": "code",
   "execution_count": null,
   "id": "a7bd7259-1c20-48bf-837a-c547bcc5e18d",
   "metadata": {},
   "outputs": [],
   "source": []
  }
 ],
 "metadata": {
  "kernelspec": {
   "display_name": "Python 3 (ipykernel)",
   "language": "python",
   "name": "python3"
  },
  "language_info": {
   "codemirror_mode": {
    "name": "ipython",
    "version": 3
   },
   "file_extension": ".py",
   "mimetype": "text/x-python",
   "name": "python",
   "nbconvert_exporter": "python",
   "pygments_lexer": "ipython3",
   "version": "3.10.13"
  }
 },
 "nbformat": 4,
 "nbformat_minor": 5
}
