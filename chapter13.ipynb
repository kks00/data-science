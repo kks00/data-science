{
 "cells": [
  {
   "cell_type": "code",
   "execution_count": 1,
   "id": "6f34c27a-8e6b-4dc7-9853-89c55650fc6d",
   "metadata": {},
   "outputs": [],
   "source": [
    "from datascience import *\n",
    "import numpy as np\n",
    "import matplotlib.pyplot as plt\n",
    "%matplotlib inline"
   ]
  },
  {
   "cell_type": "markdown",
   "id": "f29c4d10-1978-49b7-b911-ed2e7cd3154d",
   "metadata": {},
   "source": [
    "---"
   ]
  },
  {
   "cell_type": "markdown",
   "id": "4a41202b-ccc5-4f43-a21c-97ef37505e4b",
   "metadata": {},
   "source": [
    "- ## Causality (인과 관계)"
   ]
  },
  {
   "cell_type": "markdown",
   "id": "165e610e-f36d-462c-b26b-9f927ff928bd",
   "metadata": {},
   "source": [
    "---"
   ]
  },
  {
   "cell_type": "markdown",
   "id": "026832b2-63cd-4a31-9ca9-88bbe8f67e4e",
   "metadata": {},
   "source": [
    "- ## RCT (무작위 대조 실험)\n",
    "    - ### BTA를 요통의 치료제로 사용하는 효과를 조사\n",
    "        - #### 이중 블라인드 방식\n",
    "            - #### 의사 환자 모두 환자가 어느 그룹에 속하는지 알 수 없도록 함\n",
    "         \n",
    "<br>"
   ]
  },
  {
   "cell_type": "code",
   "execution_count": 2,
   "id": "21ca6a0a-1d28-4bcc-a1e8-5e7e20ccde5e",
   "metadata": {},
   "outputs": [
    {
     "data": {
      "text/html": [
       "<table border=\"1\" class=\"dataframe\">\n",
       "    <thead>\n",
       "        <tr>\n",
       "            <th>Group</th> <th>Result</th>\n",
       "        </tr>\n",
       "    </thead>\n",
       "    <tbody>\n",
       "        <tr>\n",
       "            <td>Control</td> <td>1     </td>\n",
       "        </tr>\n",
       "        <tr>\n",
       "            <td>Control</td> <td>1     </td>\n",
       "        </tr>\n",
       "        <tr>\n",
       "            <td>Control</td> <td>0     </td>\n",
       "        </tr>\n",
       "    </tbody>\n",
       "</table>\n",
       "<p>... (28 rows omitted)</p>"
      ],
      "text/plain": [
       "<IPython.core.display.HTML object>"
      ]
     },
     "metadata": {},
     "output_type": "display_data"
    }
   ],
   "source": [
    "bta = Table.read_table(\"./csv4/bta.csv\")\n",
    "bta.show(3)"
   ]
  },
  {
   "cell_type": "markdown",
   "id": "8ef19041-37af-4fc6-8699-51ef32f09246",
   "metadata": {},
   "source": [
    "<br>\n",
    "\n",
    "- #### 각 그룹의 회복한 환자수 및 비율"
   ]
  },
  {
   "cell_type": "code",
   "execution_count": 6,
   "id": "445995ab-2c34-4b0c-bcd8-baeeb8a4b627",
   "metadata": {},
   "outputs": [
    {
     "data": {
      "text/html": [
       "<table border=\"1\" class=\"dataframe\">\n",
       "    <thead>\n",
       "        <tr>\n",
       "            <th>Group</th> <th>Result sum</th>\n",
       "        </tr>\n",
       "    </thead>\n",
       "    <tbody>\n",
       "        <tr>\n",
       "            <td>Control  </td> <td>2         </td>\n",
       "        </tr>\n",
       "        <tr>\n",
       "            <td>Treatment</td> <td>9         </td>\n",
       "        </tr>\n",
       "    </tbody>\n",
       "</table>"
      ],
      "text/plain": [
       "Group     | Result sum\n",
       "Control   | 2\n",
       "Treatment | 9"
      ]
     },
     "execution_count": 6,
     "metadata": {},
     "output_type": "execute_result"
    }
   ],
   "source": [
    "bta.group(\"Group\", np.sum)"
   ]
  },
  {
   "cell_type": "code",
   "execution_count": 5,
   "id": "fb50f8f2-2f67-48d7-972c-f0550f00425f",
   "metadata": {},
   "outputs": [
    {
     "data": {
      "text/html": [
       "<table border=\"1\" class=\"dataframe\">\n",
       "    <thead>\n",
       "        <tr>\n",
       "            <th>Group</th> <th>Result average</th>\n",
       "        </tr>\n",
       "    </thead>\n",
       "    <tbody>\n",
       "        <tr>\n",
       "            <td>Control  </td> <td>0.125         </td>\n",
       "        </tr>\n",
       "        <tr>\n",
       "            <td>Treatment</td> <td>0.6           </td>\n",
       "        </tr>\n",
       "    </tbody>\n",
       "</table>"
      ],
      "text/plain": [
       "Group     | Result average\n",
       "Control   | 0.125\n",
       "Treatment | 0.6"
      ]
     },
     "execution_count": 5,
     "metadata": {},
     "output_type": "execute_result"
    }
   ],
   "source": [
    "bta.group(\"Group\", np.average)"
   ]
  },
  {
   "cell_type": "markdown",
   "id": "b37e1bda-101d-44ba-a1ea-14e541d13fb3",
   "metadata": {},
   "source": [
    "<br>\n",
    "\n",
    "- ### 치료군, 대조군은 무작위로 배정된 것이기 때문에 BTA에 의해 회복된 것이 아닐 수 있음\n",
    "    - #### 대조군 2명 약물 없이 치유되었으므로 치료군 중 일부도 이와 같은 경우일 수 있음"
   ]
  },
  {
   "cell_type": "markdown",
   "id": "7c9c7c10-b614-4e05-b167-703ac2ea866a",
   "metadata": {},
   "source": [
    "<br>"
   ]
  },
  {
   "cell_type": "markdown",
   "id": "3fb0b5c6-5163-4f85-8512-bd20a9a5fdd0",
   "metadata": {},
   "source": [
    "- ### Randomization\n",
    "    - ### 약물이 효과가 있을 경우 모든 환자가 각 그룹에 속했을 때의 분포가 달라야함\n",
    "        - #### 귀무가설: 두 분포가 동일함\n",
    "        - #### 대립가설: 두 분포가 다름\n",
    "    - ### 무작위 순열을 이용하여 시뮬레이션 가능"
   ]
  },
  {
   "cell_type": "markdown",
   "id": "89a295a4-290d-44f4-9ef4-0bbac2e7a819",
   "metadata": {},
   "source": [
    "<br>"
   ]
  },
  {
   "cell_type": "markdown",
   "id": "e0de672d-166e-4b20-a3b0-4cb65fefdbb2",
   "metadata": {},
   "source": [
    "- #### 관측 검정 통계량\n",
    "    - #### 귀무가설일 경우, 이 값과 무작위 순열의 결과가 같아야 함"
   ]
  },
  {
   "cell_type": "code",
   "execution_count": 8,
   "id": "b820771b-5d2c-4846-924f-18e31a6da8dc",
   "metadata": {},
   "outputs": [
    {
     "data": {
      "text/plain": [
       "0.475"
      ]
     },
     "execution_count": 8,
     "metadata": {},
     "output_type": "execute_result"
    }
   ],
   "source": [
    "observed_proportions = bta.group(\"Group\", np.average).column(1)\n",
    "observed_distance = abs(observed_proportions.item(0) - observed_proportions.item(1))\n",
    "observed_distance"
   ]
  },
  {
   "cell_type": "markdown",
   "id": "76ab12c1-80bd-45f8-8809-c1ee35e3b345",
   "metadata": {},
   "source": [
    "<br>\n",
    "\n",
    "- #### 두 그룹의 거리를 계산하는 함수"
   ]
  },
  {
   "cell_type": "code",
   "execution_count": 9,
   "id": "518b6341-e458-43f6-a11b-7ce39efd2069",
   "metadata": {},
   "outputs": [
    {
     "data": {
      "text/plain": [
       "0.475"
      ]
     },
     "execution_count": 9,
     "metadata": {},
     "output_type": "execute_result"
    }
   ],
   "source": [
    "def distance(table, group_label):\n",
    "    reduced = table.select(\"Result\", group_label)\n",
    "    proportions = reduced.group(group_label, np.average).column(1)\n",
    "    return abs(proportions.item(0) - proportions.item(1))\n",
    "\n",
    "distance(bta, \"Group\")"
   ]
  },
  {
   "cell_type": "markdown",
   "id": "29cc9afe-6a9c-41f0-9bd6-dc28b6a04d99",
   "metadata": {},
   "source": [
    "<br>\n",
    "\n",
    "- #### 무작위 순열 시뮬레이션"
   ]
  },
  {
   "cell_type": "code",
   "execution_count": 13,
   "id": "cfed760d-56bb-4331-9c48-de21b429ec55",
   "metadata": {},
   "outputs": [
    {
     "data": {
      "text/plain": [
       "0.041666666666666685"
      ]
     },
     "execution_count": 13,
     "metadata": {},
     "output_type": "execute_result"
    }
   ],
   "source": [
    "def one_simulated_distance():\n",
    "    shuffled_group = bta.sample(with_replacement=False).column(0)\n",
    "    shuffled_table = bta.with_column(\"Shuffled Group\", shuffled_group)\n",
    "    return distance(shuffled_table, \"Shuffled Group\")\n",
    "\n",
    "one_simulated_distance()"
   ]
  },
  {
   "cell_type": "code",
   "execution_count": 14,
   "id": "026378cd-a38e-45b9-a8dc-1d0ada5f0996",
   "metadata": {},
   "outputs": [
    {
     "data": {
      "text/plain": [
       "array([ 0.0875    ,  0.21666667,  0.21666667, ...,  0.17083333,\n",
       "        0.0875    ,  0.04166667])"
      ]
     },
     "execution_count": 14,
     "metadata": {},
     "output_type": "execute_result"
    }
   ],
   "source": [
    "distances = make_array()\n",
    "for _ in range(20000):\n",
    "    distances = np.append(distances, one_simulated_distance())\n",
    "distances"
   ]
  },
  {
   "cell_type": "code",
   "execution_count": 19,
   "id": "45a28c98-1c93-490d-b061-3e704dad1e24",
   "metadata": {},
   "outputs": [
    {
     "data": {
      "text/plain": [
       "<matplotlib.collections.PathCollection at 0x1dd48445090>"
      ]
     },
     "execution_count": 19,
     "metadata": {},
     "output_type": "execute_result"
    },
    {
     "data": {
      "image/png": "[encoded data removed]",
      "text/plain": [
       "<Figure size 600x400 with 1 Axes>"
      ]
     },
     "metadata": {},
     "output_type": "display_data"
    }
   ],
   "source": [
    "#hist의 left_end paramter: 특정 값 이후 색상 다르게 표시\n",
    "\n",
    "Table().with_column(\"Distance\", distances).hist(bins=np.arange(0, 0.7, 0.1), left_end=observed_distance)\n",
    "plt.ylim(-0.1)\n",
    "plt.scatter(observed_distance, 0, color=\"red\", s=30)"
   ]
  },
  {
   "cell_type": "markdown",
   "id": "0325352b-6708-4402-b7e7-d7354fe556e9",
   "metadata": {},
   "source": [
    "- ### 경험적 P-Value\n",
    "    - #### 대립가설을 선호"
   ]
  },
  {
   "cell_type": "code",
   "execution_count": 20,
   "id": "3db637f1-98fb-4b2e-9d98-4b9c32fcdf52",
   "metadata": {},
   "outputs": [
    {
     "data": {
      "text/plain": [
       "0.00975"
      ]
     },
     "execution_count": 20,
     "metadata": {},
     "output_type": "execute_result"
    }
   ],
   "source": [
    "np.count_nonzero(distances >= observed_distance) / 20000"
   ]
  }
 ],
 "metadata": {
  "kernelspec": {
   "display_name": "Python 3 (ipykernel)",
   "language": "python",
   "name": "python3"
  },
  "language_info": {
   "codemirror_mode": {
    "name": "ipython",
    "version": 3
   },
   "file_extension": ".py",
   "mimetype": "text/x-python",
   "name": "python",
   "nbconvert_exporter": "python",
   "pygments_lexer": "ipython3",
   "version": "3.10.13"
  }
 },
 "nbformat": 4,
 "nbformat_minor": 5
}
